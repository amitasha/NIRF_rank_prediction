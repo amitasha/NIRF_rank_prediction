{
 "cells": [
  {
   "cell_type": "code",
   "execution_count": 1,
   "metadata": {
    "colab": {
     "base_uri": "https://localhost:8080/",
     "height": 35
    },
    "colab_type": "code",
    "id": "G6j0jqRe6vUr",
    "outputId": "5b84a2c4-24c5-45b5-d005-78ce14ae47ae"
   },
   "outputs": [
    {
     "data": {
      "application/vnd.google.colaboratory.intrinsic+json": {
       "type": "string"
      },
      "text/plain": [
       "'/content'"
      ]
     },
     "execution_count": 1,
     "metadata": {
      "tags": []
     },
     "output_type": "execute_result"
    }
   ],
   "source": [
    "pwd"
   ]
  },
  {
   "cell_type": "code",
   "execution_count": 4,
   "metadata": {
    "colab": {
     "base_uri": "https://localhost:8080/",
     "height": 462
    },
    "colab_type": "code",
    "id": "UdMUwNDk9xPf",
    "outputId": "efdf8e7a-7438-4f70-d3fa-bd8286c96dfd"
   },
   "outputs": [
    {
     "name": "stdout",
     "output_type": "stream",
     "text": [
      "Collecting geopandas\n",
      "\u001b[?25l  Downloading https://files.pythonhosted.org/packages/f7/a4/e66aafbefcbb717813bf3a355c8c4fc3ed04ea1dd7feb2920f2f4f868921/geopandas-0.8.1-py2.py3-none-any.whl (962kB)\n",
      "\u001b[K     |████████████████████████████████| 972kB 2.7MB/s \n",
      "\u001b[?25hCollecting pyproj>=2.2.0\n",
      "\u001b[?25l  Downloading https://files.pythonhosted.org/packages/e5/c3/071e080230ac4b6c64f1a2e2f9161c9737a2bc7b683d2c90b024825000c0/pyproj-2.6.1.post1-cp36-cp36m-manylinux2010_x86_64.whl (10.9MB)\n",
      "\u001b[K     |████████████████████████████████| 10.9MB 12.2MB/s \n",
      "\u001b[?25hCollecting fiona\n",
      "\u001b[?25l  Downloading https://files.pythonhosted.org/packages/ec/20/4e63bc5c6e62df889297b382c3ccd4a7a488b00946aaaf81a118158c6f09/Fiona-1.8.13.post1-cp36-cp36m-manylinux1_x86_64.whl (14.7MB)\n",
      "\u001b[K     |████████████████████████████████| 14.7MB 294kB/s \n",
      "\u001b[?25hRequirement already satisfied: pandas>=0.23.0 in /usr/local/lib/python3.6/dist-packages (from geopandas) (1.0.5)\n",
      "Requirement already satisfied: shapely in /usr/local/lib/python3.6/dist-packages (from geopandas) (1.7.0)\n",
      "Requirement already satisfied: click<8,>=4.0 in /usr/local/lib/python3.6/dist-packages (from fiona->geopandas) (7.1.2)\n",
      "Collecting click-plugins>=1.0\n",
      "  Downloading https://files.pythonhosted.org/packages/e9/da/824b92d9942f4e472702488857914bdd50f73021efea15b4cad9aca8ecef/click_plugins-1.1.1-py2.py3-none-any.whl\n",
      "Requirement already satisfied: six>=1.7 in /usr/local/lib/python3.6/dist-packages (from fiona->geopandas) (1.15.0)\n",
      "Collecting munch\n",
      "  Downloading https://files.pythonhosted.org/packages/cc/ab/85d8da5c9a45e072301beb37ad7f833cd344e04c817d97e0cc75681d248f/munch-2.5.0-py2.py3-none-any.whl\n",
      "Requirement already satisfied: attrs>=17 in /usr/local/lib/python3.6/dist-packages (from fiona->geopandas) (19.3.0)\n",
      "Collecting cligj>=0.5\n",
      "  Downloading https://files.pythonhosted.org/packages/e4/be/30a58b4b0733850280d01f8bd132591b4668ed5c7046761098d665ac2174/cligj-0.5.0-py3-none-any.whl\n",
      "Requirement already satisfied: python-dateutil>=2.6.1 in /usr/local/lib/python3.6/dist-packages (from pandas>=0.23.0->geopandas) (2.8.1)\n",
      "Requirement already satisfied: numpy>=1.13.3 in /usr/local/lib/python3.6/dist-packages (from pandas>=0.23.0->geopandas) (1.18.5)\n",
      "Requirement already satisfied: pytz>=2017.2 in /usr/local/lib/python3.6/dist-packages (from pandas>=0.23.0->geopandas) (2018.9)\n",
      "Installing collected packages: pyproj, click-plugins, munch, cligj, fiona, geopandas\n",
      "Successfully installed click-plugins-1.1.1 cligj-0.5.0 fiona-1.8.13.post1 geopandas-0.8.1 munch-2.5.0 pyproj-2.6.1.post1\n"
     ]
    }
   ],
   "source": [
    "pip install geopandas\n"
   ]
  },
  {
   "cell_type": "code",
   "execution_count": 5,
   "metadata": {
    "colab": {
     "base_uri": "https://localhost:8080/",
     "height": 224
    },
    "colab_type": "code",
    "id": "BrkUr1Md9-fo",
    "outputId": "1dd961e3-f185-4fa8-d145-f4158a6570ed"
   },
   "outputs": [
    {
     "name": "stdout",
     "output_type": "stream",
     "text": [
      "Requirement already satisfied: folium in /usr/local/lib/python3.6/dist-packages (0.8.3)\n",
      "Requirement already satisfied: six in /usr/local/lib/python3.6/dist-packages (from folium) (1.15.0)\n",
      "Requirement already satisfied: requests in /usr/local/lib/python3.6/dist-packages (from folium) (2.23.0)\n",
      "Requirement already satisfied: numpy in /usr/local/lib/python3.6/dist-packages (from folium) (1.18.5)\n",
      "Requirement already satisfied: branca>=0.3.0 in /usr/local/lib/python3.6/dist-packages (from folium) (0.4.1)\n",
      "Requirement already satisfied: jinja2 in /usr/local/lib/python3.6/dist-packages (from folium) (2.11.2)\n",
      "Requirement already satisfied: chardet<4,>=3.0.2 in /usr/local/lib/python3.6/dist-packages (from requests->folium) (3.0.4)\n",
      "Requirement already satisfied: certifi>=2017.4.17 in /usr/local/lib/python3.6/dist-packages (from requests->folium) (2020.6.20)\n",
      "Requirement already satisfied: idna<3,>=2.5 in /usr/local/lib/python3.6/dist-packages (from requests->folium) (2.10)\n",
      "Requirement already satisfied: urllib3!=1.25.0,!=1.25.1,<1.26,>=1.21.1 in /usr/local/lib/python3.6/dist-packages (from requests->folium) (1.24.3)\n",
      "Requirement already satisfied: MarkupSafe>=0.23 in /usr/local/lib/python3.6/dist-packages (from jinja2->folium) (1.1.1)\n"
     ]
    }
   ],
   "source": [
    "pip install folium"
   ]
  },
  {
   "cell_type": "code",
   "execution_count": 8,
   "metadata": {
    "colab": {},
    "colab_type": "code",
    "id": "tQU_MOu37AYW"
   },
   "outputs": [],
   "source": [
    "import geopandas as gpd\n",
    "import geopy\n",
    "from geopy.geocoders import Nominatim\n",
    "from geopy.extra.rate_limiter import RateLimiter\n",
    "import pandas as pd\n",
    "import folium\n",
    "import matplotlib.pyplot as plt\n",
    "from folium.plugins import FastMarkerCluster, HeatMap"
   ]
  },
  {
   "cell_type": "code",
   "execution_count": 19,
   "metadata": {
    "colab": {
     "base_uri": "https://localhost:8080/",
     "height": 598
    },
    "colab_type": "code",
    "id": "JUZazinc-KhR",
    "outputId": "c2a2b16a-9dda-48bf-e85a-502b3feca88c"
   },
   "outputs": [
    {
     "data": {
      "text/html": [
       "<div>\n",
       "<style scoped>\n",
       "    .dataframe tbody tr th:only-of-type {\n",
       "        vertical-align: middle;\n",
       "    }\n",
       "\n",
       "    .dataframe tbody tr th {\n",
       "        vertical-align: top;\n",
       "    }\n",
       "\n",
       "    .dataframe thead th {\n",
       "        text-align: right;\n",
       "    }\n",
       "</style>\n",
       "<table border=\"1\" class=\"dataframe\">\n",
       "  <thead>\n",
       "    <tr style=\"text-align: right;\">\n",
       "      <th></th>\n",
       "      <th>NIRF Rank</th>\n",
       "      <th>institute_id</th>\n",
       "      <th>College Name</th>\n",
       "      <th>closing rank</th>\n",
       "      <th>City</th>\n",
       "      <th>State/UT</th>\n",
       "      <th>Latitude</th>\n",
       "      <th>Longitude</th>\n",
       "      <th>score</th>\n",
       "      <th>link</th>\n",
       "      <th>Mode of Admission</th>\n",
       "      <th>Fees</th>\n",
       "      <th>Infrastructure</th>\n",
       "      <th>no. of male students</th>\n",
       "      <th>no. of female students</th>\n",
       "      <th>total students</th>\n",
       "      <th>Graduation outcome(max 100)</th>\n",
       "      <th>Outreach and inclusivity(max 100)</th>\n",
       "      <th>perception [academic peer and employers perception(max 100)]</th>\n",
       "      <th>Research, professional practice and collaborative performance(max 100)</th>\n",
       "      <th>teaching, learning and resource(max 100)</th>\n",
       "      <th>Academic Year</th>\n",
       "      <th>No. of first year students intake in the year</th>\n",
       "      <th>No. of first year students admitted the year</th>\n",
       "      <th>Academic Year in</th>\n",
       "      <th>No. of students admitted through Lateral entry</th>\n",
       "      <th>Academic Year.1</th>\n",
       "      <th>No. of students graduating in minimum stipulated time</th>\n",
       "      <th>No. of students placed</th>\n",
       "      <th>Median salary of placed graduates(Amount Rs.)</th>\n",
       "      <th>No. of students selected for Higher in Studies</th>\n",
       "    </tr>\n",
       "  </thead>\n",
       "  <tbody>\n",
       "    <tr>\n",
       "      <th>0</th>\n",
       "      <td>1</td>\n",
       "      <td>IR-E-U-0456</td>\n",
       "      <td>Indian Institute of Technology Madras</td>\n",
       "      <td>188</td>\n",
       "      <td>Chennai</td>\n",
       "      <td>Tamil Nadu</td>\n",
       "      <td>12.991493</td>\n",
       "      <td>80.233691</td>\n",
       "      <td>89.93</td>\n",
       "      <td>https://nirfcdn.azureedge.net/2020/pdf/Enginee...</td>\n",
       "      <td>JEE Advanced</td>\n",
       "      <td>8.82</td>\n",
       "      <td>4.6</td>\n",
       "      <td>1814</td>\n",
       "      <td>272</td>\n",
       "      <td>2086</td>\n",
       "      <td>83.90</td>\n",
       "      <td>61.31</td>\n",
       "      <td>100.00</td>\n",
       "      <td>94.64</td>\n",
       "      <td>95.42</td>\n",
       "      <td>2015-16</td>\n",
       "      <td>466</td>\n",
       "      <td>458</td>\n",
       "      <td>2016-17</td>\n",
       "      <td>0</td>\n",
       "      <td>2018-19</td>\n",
       "      <td>362</td>\n",
       "      <td>268</td>\n",
       "      <td>1360000</td>\n",
       "      <td>66</td>\n",
       "    </tr>\n",
       "    <tr>\n",
       "      <th>1</th>\n",
       "      <td>20</td>\n",
       "      <td>IR-E-U-0436</td>\n",
       "      <td>Amrita School of Engineering</td>\n",
       "      <td>19971</td>\n",
       "      <td>Amritapuri</td>\n",
       "      <td>Kerala</td>\n",
       "      <td>34.367641</td>\n",
       "      <td>-89.539148</td>\n",
       "      <td>57.37</td>\n",
       "      <td>https://nirfcdn.azureedge.net/2020/pdf/Enginee...</td>\n",
       "      <td>AEEE</td>\n",
       "      <td>12.10</td>\n",
       "      <td>4.2</td>\n",
       "      <td>7011</td>\n",
       "      <td>1949</td>\n",
       "      <td>8960</td>\n",
       "      <td>59.00</td>\n",
       "      <td>60.07</td>\n",
       "      <td>28.01</td>\n",
       "      <td>56.76</td>\n",
       "      <td>65.77</td>\n",
       "      <td>2015-16</td>\n",
       "      <td>2040</td>\n",
       "      <td>2150</td>\n",
       "      <td>2016-17</td>\n",
       "      <td>0</td>\n",
       "      <td>2018-19</td>\n",
       "      <td>1768</td>\n",
       "      <td>1199</td>\n",
       "      <td>400000</td>\n",
       "      <td>343</td>\n",
       "    </tr>\n",
       "    <tr>\n",
       "      <th>2</th>\n",
       "      <td>75</td>\n",
       "      <td>IR-E-U-0493</td>\n",
       "      <td>National Institute of Technology Agartala</td>\n",
       "      <td>439270</td>\n",
       "      <td>Agratala</td>\n",
       "      <td>Tripura</td>\n",
       "      <td>23.840877</td>\n",
       "      <td>91.421420</td>\n",
       "      <td>39.98</td>\n",
       "      <td>https://nirfcdn.azureedge.net/2020/pdf/Enginee...</td>\n",
       "      <td>JEE Mains</td>\n",
       "      <td>11.04</td>\n",
       "      <td>4.2</td>\n",
       "      <td>2172</td>\n",
       "      <td>488</td>\n",
       "      <td>2660</td>\n",
       "      <td>48.22</td>\n",
       "      <td>55.37</td>\n",
       "      <td>10.27</td>\n",
       "      <td>21.55</td>\n",
       "      <td>57.69</td>\n",
       "      <td>2015-16</td>\n",
       "      <td>787</td>\n",
       "      <td>690</td>\n",
       "      <td>2016-17</td>\n",
       "      <td>0</td>\n",
       "      <td>2018-19</td>\n",
       "      <td>627</td>\n",
       "      <td>350</td>\n",
       "      <td>550000</td>\n",
       "      <td>50</td>\n",
       "    </tr>\n",
       "    <tr>\n",
       "      <th>3</th>\n",
       "      <td>137</td>\n",
       "      <td>IR-E-U-0384</td>\n",
       "      <td>Sant Longowal Institute of Engineering &amp; Techn...</td>\n",
       "      <td>25607</td>\n",
       "      <td>Longowal</td>\n",
       "      <td>Punjab</td>\n",
       "      <td>30.206489</td>\n",
       "      <td>75.689139</td>\n",
       "      <td>34.27</td>\n",
       "      <td>https://nirfcdn.azureedge.net/2020/pdf/Enginee...</td>\n",
       "      <td>JEE Mains</td>\n",
       "      <td>2.73</td>\n",
       "      <td>4.3</td>\n",
       "      <td>1725</td>\n",
       "      <td>469</td>\n",
       "      <td>2194</td>\n",
       "      <td>27.04</td>\n",
       "      <td>55.09</td>\n",
       "      <td>2.69</td>\n",
       "      <td>17.63</td>\n",
       "      <td>59.28</td>\n",
       "      <td>2015-16</td>\n",
       "      <td>570</td>\n",
       "      <td>206</td>\n",
       "      <td>2016-17</td>\n",
       "      <td>336</td>\n",
       "      <td>2018-19</td>\n",
       "      <td>535</td>\n",
       "      <td>182</td>\n",
       "      <td>300000</td>\n",
       "      <td>22</td>\n",
       "    </tr>\n",
       "    <tr>\n",
       "      <th>4</th>\n",
       "      <td>132</td>\n",
       "      <td>IR-E-C-1412</td>\n",
       "      <td>JSS Science and Technology University</td>\n",
       "      <td>6768</td>\n",
       "      <td>Mysuru</td>\n",
       "      <td>Karnataka</td>\n",
       "      <td>12.313271</td>\n",
       "      <td>76.613427</td>\n",
       "      <td>34.81</td>\n",
       "      <td>https://nirfcdn.azureedge.net/2020/pdf/Enginee...</td>\n",
       "      <td>JEE Mains</td>\n",
       "      <td>1.08</td>\n",
       "      <td>4.4</td>\n",
       "      <td>2364</td>\n",
       "      <td>1356</td>\n",
       "      <td>3720</td>\n",
       "      <td>54.88</td>\n",
       "      <td>51.44</td>\n",
       "      <td>8.05</td>\n",
       "      <td>3.86</td>\n",
       "      <td>55.76</td>\n",
       "      <td>2015-16</td>\n",
       "      <td>790</td>\n",
       "      <td>734</td>\n",
       "      <td>2016-17</td>\n",
       "      <td>144</td>\n",
       "      <td>2018-19</td>\n",
       "      <td>830</td>\n",
       "      <td>490</td>\n",
       "      <td>450000</td>\n",
       "      <td>118</td>\n",
       "    </tr>\n",
       "  </tbody>\n",
       "</table>\n",
       "</div>"
      ],
      "text/plain": [
       "   NIRF Rank  ... No. of students selected for Higher in Studies\n",
       "0          1  ...                                             66\n",
       "1         20  ...                                            343\n",
       "2         75  ...                                             50\n",
       "3        137  ...                                             22\n",
       "4        132  ...                                            118\n",
       "\n",
       "[5 rows x 31 columns]"
      ]
     },
     "execution_count": 19,
     "metadata": {
      "tags": []
     },
     "output_type": "execute_result"
    }
   ],
   "source": [
    "df = pd.read_csv(\"/project_dataset.csv\", encoding='latin-1')\n",
    "df.head()"
   ]
  },
  {
   "cell_type": "code",
   "execution_count": 21,
   "metadata": {
    "colab": {
     "base_uri": "https://localhost:8080/",
     "height": 763
    },
    "colab_type": "code",
    "id": "tONYkFoE_yZz",
    "outputId": "c3668790-eb13-46b0-9a74-e2f8c0dd34af"
   },
   "outputs": [
    {
     "data": {
      "text/html": [
       "<div style=\"width:100%;\"><div style=\"position:relative;width:100%;height:0;padding-bottom:60%;\"><span style=\"color:#565656\">Make this Notebook Trusted to load map: File -> Trust Notebook</span><iframe src=\"about:blank\" style=\"position:absolute;width:100%;height:100%;left:0;top:0;border:none !important;\" data-html=PCFET0NUWVBFIGh0bWw+CjxoZWFkPiAgICAKICAgIDxtZXRhIGh0dHAtZXF1aXY9ImNvbnRlbnQtdHlwZSIgY29udGVudD0idGV4dC9odG1sOyBjaGFyc2V0PVVURi04IiAvPgogICAgPHNjcmlwdD5MX1BSRUZFUl9DQU5WQVM9ZmFsc2U7IExfTk9fVE9VQ0g9ZmFsc2U7IExfRElTQUJMRV8zRD1mYWxzZTs8L3NjcmlwdD4KICAgIDxzY3JpcHQgc3JjPSJodHRwczovL2Nkbi5qc2RlbGl2ci5uZXQvbnBtL2xlYWZsZXRAMS40LjAvZGlzdC9sZWFmbGV0LmpzIj48L3NjcmlwdD4KICAgIDxzY3JpcHQgc3JjPSJodHRwczovL2NvZGUuanF1ZXJ5LmNvbS9qcXVlcnktMS4xMi40Lm1pbi5qcyI+PC9zY3JpcHQ+CiAgICA8c2NyaXB0IHNyYz0iaHR0cHM6Ly9tYXhjZG4uYm9vdHN0cmFwY2RuLmNvbS9ib290c3RyYXAvMy4yLjAvanMvYm9vdHN0cmFwLm1pbi5qcyI+PC9zY3JpcHQ+CiAgICA8c2NyaXB0IHNyYz0iaHR0cHM6Ly9jZG5qcy5jbG91ZGZsYXJlLmNvbS9hamF4L2xpYnMvTGVhZmxldC5hd2Vzb21lLW1hcmtlcnMvMi4wLjIvbGVhZmxldC5hd2Vzb21lLW1hcmtlcnMuanMiPjwvc2NyaXB0PgogICAgPGxpbmsgcmVsPSJzdHlsZXNoZWV0IiBocmVmPSJodHRwczovL2Nkbi5qc2RlbGl2ci5uZXQvbnBtL2xlYWZsZXRAMS40LjAvZGlzdC9sZWFmbGV0LmNzcyIvPgogICAgPGxpbmsgcmVsPSJzdHlsZXNoZWV0IiBocmVmPSJodHRwczovL21heGNkbi5ib290c3RyYXBjZG4uY29tL2Jvb3RzdHJhcC8zLjIuMC9jc3MvYm9vdHN0cmFwLm1pbi5jc3MiLz4KICAgIDxsaW5rIHJlbD0ic3R5bGVzaGVldCIgaHJlZj0iaHR0cHM6Ly9tYXhjZG4uYm9vdHN0cmFwY2RuLmNvbS9ib290c3RyYXAvMy4yLjAvY3NzL2Jvb3RzdHJhcC10aGVtZS5taW4uY3NzIi8+CiAgICA8bGluayByZWw9InN0eWxlc2hlZXQiIGhyZWY9Imh0dHBzOi8vbWF4Y2RuLmJvb3RzdHJhcGNkbi5jb20vZm9udC1hd2Vzb21lLzQuNi4zL2Nzcy9mb250LWF3ZXNvbWUubWluLmNzcyIvPgogICAgPGxpbmsgcmVsPSJzdHlsZXNoZWV0IiBocmVmPSJodHRwczovL2NkbmpzLmNsb3VkZmxhcmUuY29tL2FqYXgvbGlicy9MZWFmbGV0LmF3ZXNvbWUtbWFya2Vycy8yLjAuMi9sZWFmbGV0LmF3ZXNvbWUtbWFya2Vycy5jc3MiLz4KICAgIDxsaW5rIHJlbD0ic3R5bGVzaGVldCIgaHJlZj0iaHR0cHM6Ly9yYXdjZG4uZ2l0aGFjay5jb20vcHl0aG9uLXZpc3VhbGl6YXRpb24vZm9saXVtL21hc3Rlci9mb2xpdW0vdGVtcGxhdGVzL2xlYWZsZXQuYXdlc29tZS5yb3RhdGUuY3NzIi8+CiAgICA8c3R5bGU+aHRtbCwgYm9keSB7d2lkdGg6IDEwMCU7aGVpZ2h0OiAxMDAlO21hcmdpbjogMDtwYWRkaW5nOiAwO308L3N0eWxlPgogICAgPHN0eWxlPiNtYXAge3Bvc2l0aW9uOmFic29sdXRlO3RvcDowO2JvdHRvbTowO3JpZ2h0OjA7bGVmdDowO308L3N0eWxlPgogICAgCiAgICA8bWV0YSBuYW1lPSJ2aWV3cG9ydCIgY29udGVudD0id2lkdGg9ZGV2aWNlLXdpZHRoLAogICAgICAgIGluaXRpYWwtc2NhbGU9MS4wLCBtYXhpbXVtLXNjYWxlPTEuMCwgdXNlci1zY2FsYWJsZT1ubyIgLz4KICAgIDxzdHlsZT4jbWFwXzMxZjdkMWQ5MGFiMzQzYzg5MTVjODM3MDU5ZWU2ZmM2IHsKICAgICAgICBwb3NpdGlvbjogcmVsYXRpdmU7CiAgICAgICAgd2lkdGg6IDEwMC4wJTsKICAgICAgICBoZWlnaHQ6IDEwMC4wJTsKICAgICAgICBsZWZ0OiAwLjAlOwogICAgICAgIHRvcDogMC4wJTsKICAgICAgICB9CiAgICA8L3N0eWxlPgogICAgPHNjcmlwdCBzcmM9Imh0dHBzOi8vY2RuanMuY2xvdWRmbGFyZS5jb20vYWpheC9saWJzL2xlYWZsZXQubWFya2VyY2x1c3Rlci8xLjEuMC9sZWFmbGV0Lm1hcmtlcmNsdXN0ZXIuanMiPjwvc2NyaXB0PgogICAgPGxpbmsgcmVsPSJzdHlsZXNoZWV0IiBocmVmPSJodHRwczovL2NkbmpzLmNsb3VkZmxhcmUuY29tL2FqYXgvbGlicy9sZWFmbGV0Lm1hcmtlcmNsdXN0ZXIvMS4xLjAvTWFya2VyQ2x1c3Rlci5jc3MiLz4KICAgIDxsaW5rIHJlbD0ic3R5bGVzaGVldCIgaHJlZj0iaHR0cHM6Ly9jZG5qcy5jbG91ZGZsYXJlLmNvbS9hamF4L2xpYnMvbGVhZmxldC5tYXJrZXJjbHVzdGVyLzEuMS4wL01hcmtlckNsdXN0ZXIuRGVmYXVsdC5jc3MiLz4KPC9oZWFkPgo8Ym9keT4gICAgCiAgICAKICAgIDxkaXYgY2xhc3M9ImZvbGl1bS1tYXAiIGlkPSJtYXBfMzFmN2QxZDkwYWIzNDNjODkxNWM4MzcwNTllZTZmYzYiID48L2Rpdj4KPC9ib2R5Pgo8c2NyaXB0PiAgICAKICAgIAogICAgCiAgICAgICAgdmFyIGJvdW5kcyA9IG51bGw7CiAgICAKCiAgICB2YXIgbWFwXzMxZjdkMWQ5MGFiMzQzYzg5MTVjODM3MDU5ZWU2ZmM2ID0gTC5tYXAoCiAgICAgICAgJ21hcF8zMWY3ZDFkOTBhYjM0M2M4OTE1YzgzNzA1OWVlNmZjNicsIHsKICAgICAgICBjZW50ZXI6IFsyOC41NTY4MjgsIDc3LjE3NDIxXSwKICAgICAgICB6b29tOiAxMiwKICAgICAgICBtYXhCb3VuZHM6IGJvdW5kcywKICAgICAgICBsYXllcnM6IFtdLAogICAgICAgIHdvcmxkQ29weUp1bXA6IGZhbHNlLAogICAgICAgIGNyczogTC5DUlMuRVBTRzM4NTcsCiAgICAgICAgem9vbUNvbnRyb2w6IHRydWUsCiAgICAgICAgfSk7CgoKICAgIAogICAgdmFyIHRpbGVfbGF5ZXJfZWY3MjJjN2FjY2Y2NDdlNGE4YjE4NDY2OWRiM2ViZTQgPSBMLnRpbGVMYXllcigKICAgICAgICAnaHR0cHM6Ly9jYXJ0b2RiLWJhc2VtYXBzLXtzfS5nbG9iYWwuc3NsLmZhc3RseS5uZXQvbGlnaHRfYWxsL3t6fS97eH0ve3l9LnBuZycsCiAgICAgICAgewogICAgICAgICJhdHRyaWJ1dGlvbiI6IG51bGwsCiAgICAgICAgImRldGVjdFJldGluYSI6IGZhbHNlLAogICAgICAgICJtYXhOYXRpdmVab29tIjogMTgsCiAgICAgICAgIm1heFpvb20iOiAxOCwKICAgICAgICAibWluWm9vbSI6IDAsCiAgICAgICAgIm5vV3JhcCI6IGZhbHNlLAogICAgICAgICJvcGFjaXR5IjogMSwKICAgICAgICAic3ViZG9tYWlucyI6ICJhYmMiLAogICAgICAgICJ0bXMiOiBmYWxzZQp9KS5hZGRUbyhtYXBfMzFmN2QxZDkwYWIzNDNjODkxNWM4MzcwNTllZTZmYzYpOwogICAgCgogICAgICAgICAgICB2YXIgZmFzdF9tYXJrZXJfY2x1c3Rlcl80ZjFjNzlkYzE5MjA0NmUzYmNmMjdkMzQyZWQ5MmYwZiA9IChmdW5jdGlvbigpewogICAgICAgICAgICAgICAgCiAgICAgICAgICAgICAgICB2YXIgY2FsbGJhY2sgPSBmdW5jdGlvbiAocm93KSB7CiAgICAgICAgICAgICAgICAgICAgdmFyIGljb24gPSBMLkF3ZXNvbWVNYXJrZXJzLmljb24oKTsKICAgICAgICAgICAgICAgICAgICB2YXIgbWFya2VyID0gTC5tYXJrZXIobmV3IEwuTGF0TG5nKHJvd1swXSwgcm93WzFdKSk7CiAgICAgICAgICAgICAgICAgICAgbWFya2VyLnNldEljb24oaWNvbik7CiAgICAgICAgICAgICAgICAgICAgcmV0dXJuIG1hcmtlcjsKICAgICAgICAgICAgICAgIH07CgogICAgICAgICAgICAgICAgdmFyIGRhdGEgPSBbWzEyLjk5MTQ5MjksIDgwLjIzMzY5MDddLCBbMzQuMzY3NjQxLCAtODkuNTM5MTQ4M10sIFsyMy44NDA4NzY3LCA5MS40MjE0MTk2XSwgWzMwLjIwNjQ4OSwgNzUuNjg5MTM5XSwgWzEyLjMxMzI3MTQ5OTk5OTk5OSwgNzYuNjEzNDI2NV0sIFsyNi44NjM5NzAwMDAwMDAwMDIsIDc1LjgxMDc4OThdLCBbMTcuNTI2Mjk4NiwgNzguMzcwMjMxNF0sIFsyMS4wOTUxOTExLCA3OC45Nzg1NzIzXSwgWzI3LjIyNzkxOTg5OTk5OTk5NiwgNzguMDEzNzc2NV0sIFsxMy4xMzMzNjMwMDAwMDAwMDEsIDc3LjU2NzM3Njc5OTk5OTk5XSwgWzIzLjE1NTg4MzksIDcyLjY2NDg3NzQwMDAwMDAxXSwgWzEyLjg3MTkwMTMwMDAwMDAwMSwgODAuMjE4MjI0OF0sIFsxMC43NTg5MzgxLCA3OC44MTMyMTgxXSwgWzMxLjAxNjU1MSwgNzcuMDcwMTU4OTk5OTk5OTldLCBbMTAuOTM2MTY0LCA3Ni43NDQwNjFdLCBbMTcuNDkzMjY4MiwgNzguMzkxMzkyOV0sIFsxMi4wMTE4ODU2LCA3OS44NTY4NTEyXSwgWzE2LjQ0MTkxODcwMDAwMDAwMiwgODAuNjIyNTI2Ml0sIFsyNi40OTM0NTE1MDAwMDAwMDMsIDgwLjMwNzQyMzU5OTk5OTk5XSwgWzIzLjE3OTEzNTMsIDgwLjAyNzMzNl0sIFsyMi43NzcwMTc0LCA4Ni4xNDQxMTZdLCBbMTguMDg5MjY3MSwgNzkuNDY3MjU5NTk5OTk5OTldLCBbMzAuMzk4MzAzMTAwMDAwMDAzLCA3OC4wNzUxMTc3XSwgWzMxLjM1MzQwMDY5OTk5OTk5OCwgNzUuNDU4Njc2N10sIFsxMi4yODQwMjg4LCA3Ni42NDExNDY3MDAwMDAwMV0sIFsyMy44NDA4NzY3LCA5MS40MjE0MTk2XSwgWzEyLjgzOTQ5NjMsIDgwLjEzNzQ4OThdLCBbMjQuNzU3NzE0Mzk5OTk5OTk4LCA5Mi43OTIyOTI5XSwgWzIyLjU1NTg2MTYsIDg4LjMwNTcwNjFdLCBbMTEuMDc3NzYyMSwgNzYuOTg5NjY3Ml0sIFsyMC4zNTQ3Njk3LCA4NS44MTUyOTIxXSwgWzIzLjgxNDM4MTg5OTk5OTk5NywgODYuNDQxMjAyMl0sIFsyNi4yNDk0NTIxLCA3OC4xNzQxMzg4XSwgWzMwLjUxNjA4NjUsIDc2LjY1OTc3Nzc5OTk5OTk5XSwgWzEwLjkzNjUwOTUsIDc2Ljk1NjI0MDVdLCBbMjEuMTIzMjQxNjk5OTk5OTk4LCA3OS4wNTE1MTI1XSwgWzE5LjAyMzc1MTIsIDcyLjg1NzQ0NDNdLCBbMjguNjI5NzI5MTAwMDAwMDAyLCA3Ny4zNzIwNTU2XSwgWzIyLjMxNDkyNzQsIDg3LjMxMDUzMTFdLCBbMzAuNzU4MDEwNzAwMDAwMDAzLCA3Ni43Njg0NzgyXSwgWzE5LjAyMjIxODEsIDcyLjg1NjEyMTJdLCBbMjYuMjcyNzE1MiwgNzguMjI4Mzg5N10sIFsxNi4yMzMzNzQ1OTk5OTk5OTgsIDgwLjU1MDkwNzldLCBbMTIuOTE4MDE5MDAwMDAwMDAxLCA3Ny41OTIwNjU3XSwgWzEzLjAwOTU3NSwgODAuMDA0MjQzXSwgWzE3LjE5NjQxMzMsIDc4LjU5NzI1MDldLCBbMTguNTI5MzgyNSwgNzMuODU2NTQxXSwgWzI5LjE3MjIyOTEwMDAwMDAwMywgNzUuNzI3OTEwMjAwMDAwMDFdLCBbMjguMzY3NDM1NjAwMDAwMDA0LCA3Ny4zMTU4MTEwOTk5OTk5OV0sIFsxMy4zNTI1MzIxLCA3NC43OTI4MjI0XSwgWzI2Ljg2Mzk3MDAwMDAwMDAwMiwgNzUuODEwNzg5OF0sIFsyNC44MzIwMjQ3LCA5My45MTI2ODAxXSwgWzExLjMyMTU3OTEsIDc1LjkzMzYzNTldLCBbMTYuNDgzNzQxMDAwMDAwMDAyLCA4MC42OTEwMTddLCBbMjIuNTIwMzU5Njk5OTk5OTk3LCA3NS45MjA3MjMwOTk5OTk5OV0sIFszMC44NjQ0MzMyOTk5OTk5OTgsIDc3LjExODM1MzhdLCBbMjYuNDcxMDgwOSwgNzMuMTEzNDMzNV0sIFsxOS4xMzM0MzAyLCA3Mi45MTMyNjc5XSwgWzIyLjY4MDIzNzcsIDcyLjg4MDE5ODcwMDAwMDAxXSwgWzMxLjI1Mjg2NDUsIDc1LjcwNDgzMjRdLCBbMTIuOTIzNzIyOCwgNzcuNDk4NzAxMl0sIFszMi45NDE4MzUxMDAwMDAwMDYsIDc0Ljk1NDA2NTddLCBbMjYuNTEyMzM4ODAwMDAwMDAyLCA4MC4yMzI5XSwgWzEzLjMyNjg5Nzg5OTk5OTk5OSwgNzcuMTI2MDk0OF0sIFszMC43NjcyODA0LCA3Ni43ODY5ODM0OTk5OTk5OV0sIFsxOC40NjQwNzcsIDczLjg2NzYxODk5OTk5OTk5XSwgWzI1LjUzNTY3NDIsIDg0Ljg1MTE3OTldLCBbOS41MjUyOTIxOTk5OTk5OTksIDc3Ljg1MzQzNjhdLCBbMzEuNzA4MzcxMDAwMDAwMDAzLCA3Ni41MjczNTYwMDAwMDAwMV0sIFszMS4zOTU5MjksIDc1LjUzNTg1NjAwMDAwMDAxXSwgWzEwLjczMTI3MDUsIDc5LjEwNDE2NjkwMDAwMDAxXSwgWzIyLjUxNzI3NTQsIDg4LjQxODY4ODddLCBbMTMuMDEwODgzMSwgODAuMjM1Mzc2OF0sIFsxMS4wMjgzMjU5LCA3Ny4wMjcyODA2XSwgWzguNTQ1ODUxMywgNzYuOTA2MzQwN10sIFsxOS4xMjMxNzc2LCA3Mi44MzYxMTU0MDAwMDAwMV0sIFsyMC4xNDM4OTk1LCA4NS42NzYyMDMzXSwgWzExLjAxODI0NTE5OTk5OTk5OSwgNzYuOTM2MDExNTk5OTk5OTldLCBbMzAuMjY4NDY3OCwgNzcuOTkzNzI1Nzk5OTk5OTldLCBbMjguNTk0NTY0Mzk5OTk5OTk2LCA3Ny4wMTg0MzA0XSwgWzEyLjg2OTg3NjUsIDgwLjIxODQyNzJdLCBbMjMuMjE0MzMwODAwMDAwMDAzLCA3Ny40MDcyNTEyXSwgWzIxLjE2NDMwNTksIDcyLjc4NDA3OTVdLCBbMjguNTYyMDI1NywgNzcuMjgyNzE0N10sIFsyNy4xMzA1NDI5MDAwMDAwMDIsIDkzLjc0MDgwMTZdLCBbMTIuOTA5MTU4MzAwMDAwMDAxLCA3Ny41NjY1NTUxXSwgWzEwLjA0ODI5MjEsIDc2LjMzMTQ3MjkwMDAwMDAxXSwgWzEyLjkzNTM4LCA3Ny41MzU4MjUxXSwgWzE3LjM5MTk1NTM5OTk5OTk5NywgNzguMzE5NDMwNl0sIFsxMS4wMjQ2ODg2OTk5OTk5OTksIDc3LjAwMjEyNzNdLCBbMTMuMDMwNDkxOTAwMDAwMDAxLCA3Ny41NjQ4NjYxXSwgWzEzLjA1ODQ4OTgsIDgwLjEzNDQwNDVdLCBbMjguNTQzOTEwNjAwMDAwMDA0LCA3Ny4zMzMxMDg1XSwgWzMwLjM1NjQyNDE5OTk5OTk5NiwgNzYuMzY0NzAxMl0sIFs4LjYyNjQ2MjcsIDc3LjAzMzc3MjFdLCBbMTIuNzUxNDk1NywgODAuMTk3MTU5MV0sIFsxNy4yNTQ3MTU1LCA3OC4zMDY1MTY2XSwgWzMwLjczNDEyMDQsIDc2Ljc1MjQ1NjRdLCBbMzAuNDE1OTQ0MzAwMDAwMDAzLCA3Ny45NjY4MzI5XSwgWzIzLjU0NzY3MjgsIDg3LjI5MzEzODldLCBbMTcuOTgzNTIzLCA3OS41MzA4Mzg2XSwgWzE4LjYyMzA4MzMsIDczLjgxNjAxOTldLCBbMjguMzU4ODE2MywgNzUuNTg4MDIwNF0sIFsxMS42NzgyODUxLCA3OC4xMjQ1MDcxXSwgWzIyLjA1MDU5MjEsIDg4LjA3MjIxMjU5OTk5OTk5XSwgWzkuODgyODU4MSwgNzguMDgyNTUwMzAwMDAwMDFdLCBbMTIuODIzMTQ0NiwgODAuMDQ1ODAyXSwgWzEyLjc5OTY1ODIsIDgwLjIyODY2NzNdLCBbMjUuNDMwMjg3LCA4MS43NzA3ODkwMDAwMDAwMV0sIFsyOS44NjQ4NzQ0LCA3Ny44OTY0NTgyOTk5OTk5OV0sIFsxMi45NDEwMTIyLCA3Ny41NjU1MjU3OTk5OTk5OV0sIFsxNy41OTQ3MDI3LCA3OC4xMjMwNDAxXSwgWzIyLjMyMjQ3NCwgNzMuMTgwOTIyOTk5OTk5OTldLCBbMTcuNTIwMzQ4MTAwMDAwMDAzLCA3OC4zNjc0MjMzXSwgWzIyLjQ5NzI3NzcsIDg4LjM3MTQyNzc5OTk5OTk5XSwgWzEyLjkyMTk1MTMsIDc3LjU2NzEzNzddLCBbMTYuODQ1NzM4NywgNzQuNjAxNDU3NV0sIFsyNS42MjA3MjQxLCA4NS4xNzI4OTA3XSwgWzEzLjYyMTU3NTE5OTk5OTk5NywgNzkuMjkwMjUyNl0sIFsxOC40MjQxMTMzMDAwMDAwMDIsIDczLjc1ODU0NDddLCBbMjguNjA3ODE3NjAwMDAwMDA0LCA3Ny4wNDA2MTQ3XSwgWzI4LjUwMzY0OTY5OTk5OTk5NywgNzcuMDQ5ODAwMTk5OTk5OTldLCBbOS41NzQ3MDUyLCA3Ny42Nzk4MTM3XSwgWzI2LjE4NzgwODMsIDkxLjY5MTU4MzRdLCBbMjIuMjUzMzc4MTAwMDAwMDAzLCA4NC45MDEyMzYzMDAwMDAwMV0sIFsyOC40NTAzNzgxMDAwMDAwMDIsIDc3LjI4Mzc0NzQwMDAwMDAxXSwgWzIxLjI0OTcyMjE5OTk5OTk5NywgODEuNjA1MDI5MV0sIFsyNi45MzYzNDYxLCA3NS45MjM1MjMzXSwgWzIwLjI1OTA1NDE5OTk5OTk5OCwgODUuNzkxNzQ5M10sIFszMC4yMTE0ODM2LCAtOTIuMDIxMDk0M10sIFsxOC40NTc3NTc3LCA3My44NTcxNzFdLCBbMTIuNTE3MzE2NCwgNzYuODgwMDE5OF0sIFsxNy44MjA1MjM4OTk5OTk5OTgsIDgzLjM0MjM0MjhdLCBbMjUuNDkyMDEwMiwgODEuODYzOTE2M10sIFszMC4yMTE0ODM2LCAtOTIuMDIxMDk0M10sIFsyMS4xNzY2MjE0LCA3OS4wNjE2MjIzXSwgWzMxLjc3NTM5OTgwMDAwMDAwMiwgNzYuOTg2MDc0N10sIFsyNi43MzE0Mjk2MDAwMDAwMDIsIDgzLjQzMzE3OTkwMDAwMDAxXSwgWzIyLjU3NDQxNzgwMDAwMDAwMywgODguNDMzNzc4XSwgWzIzLjI5NDE0MDIsIDg1LjMxMDI1MTc5OTk5OTk5XSwgWzIzLjQxMjI1OTksIDg1LjQzOTk0MTFdLCBbMTQuNjQ5NjU3MDk5OTk5OTk5LCA3Ny42MDcxNzUwOTk5OTk5OV0sIFsxNy40NDQ4MDE4OTk5OTk5OTgsIDc4LjM0OTc2MDQwMDAwMDAxXSwgWzEyLjk4ODkxNTgwMDAwMDAwMSwgNzkuOTcwMTgyOF0sIFsxNS40MTIzODE2OTk5OTk5OTcsIDczLjk3ODEwMTQwMDAwMDAxXSwgWzE4LjY1MTcyODgsIDczLjc2MTYzOThdLCBbMTcuNTk5OTI2OTk5OTk5OTk3LCA3OC40MTc3MjUzXSwgWzI4Ljg3ODQzMDMsIDc3LjEzMzI1OTldLCBbMjYuMDgxMzA5NCwgOTEuNTYxOTk2NDk5OTk5OTldLCBbMTguNjA2OTI2NCwgNzMuODc1MDg2NV0sIFsxOS4xMDMyMTksIDcyLjgzNjU4NTFdLCBbMTcuNTQxODA4LCA3OC4zODY3OTRdLCBbMjUuNTczODc4OCwgOTEuODk0NzA3N10sIFsxOS4wNDQyNDA4LCA3My4wMjU0NzgyOTk5OTk5OV0sIFsyMC45NTcxNjMxMDAwMDAwMDIsIDc3Ljc1Njc2MTU5OTk5OTk5XSwgWzE4LjUwNzY1MzYsIDczLjgxOTgzMTIwMDAwMDAxXSwgWzM2LjA3ODEsIC03OS40MzIzXSwgWzI1LjI2MjMyNDcsIDgyLjk4OTM3MzVdLCBbMTIuOTE0MjI3OSwgNzcuNTE0Nzk0OF0sIFsxMi45NjA2NDcxLCA4MC4wNTMyMzI1XSwgWzE3LjQyMDEzNjEsIDc4LjY1NjE1MjJdLCBbMjguNTQ1NjI4MiwgNzcuMjczMTUwNV0sIFsxMC45Mjc3MTkxLCA3Ni45MjYxNjk2XSwgWzIyLjU5MjQ1NzEwMDAwMDAwNCwgODguNDEyNjY1XSwgWzI4LjU0NDk3NTYsIDc3LjE5MjYyODRdLCBbOS4xNDgzMTA4LCA3Ny44MzIwOTk1OTk5OTk5OV0sIFsyOC42NjUyNTkzOTk5OTk5OTcsIDc3LjIzMjM5MzFdLCBbMjMuMTI4Mzg2MTk5OTk5OTk4LCA3Mi41NDQ4NTA3OTk5OTk5OV0sIFsxOC40ODY1MzU2MDAwMDAwMDMsIDczLjgxNTkwODU5OTk5OTk5XSwgWzEyLjg3NjkzMzIsIDgwLjA4Mjg3MzVdLCBbMjEuMTQ2ODU1NSwgNzkuMDUwMDYyXSwgWzE1Ljc3NDIwNjYsIDc4LjA1NjgxMzJdLCBbMjAuMjE5MzE4OCwgODUuNzM1NzM4M10sIFsxMy42MjkzNDg0OTk5OTk5OTksIDc5LjQwNTU2NzIwMDAwMDAxXSwgWzIzLjIxMTQ2MDQsIDcyLjY4NDE4NTcwMDAwMDAxXSwgWzMwLjk3NjE5NTgsIDc2LjUzNzgyODhdLCBbMTEuMjc0MTYzMiwgNzcuNjA3MDI3M10sIFsxMi44NDQ2NTE5LCA3Ny42NjMxNDMzXSwgWzEwLjcyODUxMzA5OTk5OTk5OSwgNzkuMDE4NDExMV0sIFsyMy4xODg1MzEsIDcyLjYyODk2MjRdLCBbMjkuOTQ3NjM2LCA3Ni44MTU0NzNdLCBbMTMuMTI4NDY0MSwgNzcuNTg3MzA4XSwgWzEwLjk4ODQyODksIDc5Ljg0NTcxNTU5OTk5OTk5XSwgWzEzLjM1NjY0NTQsIDgwLjE0MTEwNDkwMDAwMDAyXSwgWzI3LjkxMzUwMTYsIDc4LjA3ODE5MDFdLCBbMTUuNzc3Nzc2MTk5OTk5OTk4LCA3NC40NjM0MzQwOTk5OTk5OV0sIFsxMy4xODMwMDE5OTk5OTk5OTgsIDc0LjkzMzkzMjddLCBbMTIuOTcxNzQzLCA3OS4xNTk0MTY1XSwgWzIxLjEwNTI0ODQsIDc5LjAwMzQ5MDNdLCBbMjAuMzUwNjc3MywgODUuODA2MzM2XSwgWzE1LjM2ODgzMzIsIDc1LjEyMTM3OTZdLCBbMjEuNDk3MTA4ODk5OTk5OTk3LCA4My45MDM3NTZdLCBbMTcuMzgwNTI4MiwgNzguMzgyNjE0Mjk5OTk5OTldLCBbMjYuMjY1MzY0ODk5OTk5OTk4LCA4MS41MDkzMTc2XSwgWzI4Ljc0NTE0NjMsIDc3LjExNjk5MDddLCBbMTMuMTc2MTg2NjAwMDAwMDAxLCA4MC4wOTgyNzUxXSwgWzE5LjA3MzUwNzQsIDcyLjg5OTU0NTNdLCBbMTIuOTMzNzI0MSwgNzcuNjkyMTIwN10sIFsxMi45MjM3MjI4LCA3Ny40OTg3MDEyXSwgWzExLjEwMjIyMDUsIDc2Ljk2NTY5MDc5OTk5OTk5XV07CiAgICAgICAgICAgICAgICB2YXIgY2x1c3RlciA9IEwubWFya2VyQ2x1c3Rlckdyb3VwKHt9KTsKCiAgICAgICAgICAgICAgICBmb3IgKHZhciBpID0gMDsgaSA8IGRhdGEubGVuZ3RoOyBpKyspIHsKICAgICAgICAgICAgICAgICAgICB2YXIgcm93ID0gZGF0YVtpXTsKICAgICAgICAgICAgICAgICAgICB2YXIgbWFya2VyID0gY2FsbGJhY2socm93KTsKICAgICAgICAgICAgICAgICAgICBtYXJrZXIuYWRkVG8oY2x1c3Rlcik7CiAgICAgICAgICAgICAgICB9CgogICAgICAgICAgICAgICAgY2x1c3Rlci5hZGRUbyhtYXBfMzFmN2QxZDkwYWIzNDNjODkxNWM4MzcwNTllZTZmYzYpOwogICAgICAgICAgICAgICAgcmV0dXJuIGNsdXN0ZXI7CiAgICAgICAgICAgIH0pKCk7CiAgICAgICAgICAgIAogICAgCiAgICAgICAgICAgIHZhciBsYXllcl9jb250cm9sX2E4ZGIzMDQ1ZGUwYjQ3MDg4MDQ0OTgwZmM0NWY0OWZlID0gewogICAgICAgICAgICAgICAgYmFzZV9sYXllcnMgOiB7ICJjYXJ0b2RicG9zaXRyb24iIDogdGlsZV9sYXllcl9lZjcyMmM3YWNjZjY0N2U0YThiMTg0NjY5ZGIzZWJlNCwgfSwKICAgICAgICAgICAgICAgIG92ZXJsYXlzIDogeyAibWFjcm9fZWxlbWVudF80ZjFjNzlkYzE5MjA0NmUzYmNmMjdkMzQyZWQ5MmYwZiIgOiBmYXN0X21hcmtlcl9jbHVzdGVyXzRmMWM3OWRjMTkyMDQ2ZTNiY2YyN2QzNDJlZDkyZjBmLCB9CiAgICAgICAgICAgICAgICB9OwogICAgICAgICAgICBMLmNvbnRyb2wubGF5ZXJzKAogICAgICAgICAgICAgICAgbGF5ZXJfY29udHJvbF9hOGRiMzA0NWRlMGI0NzA4ODA0NDk4MGZjNDVmNDlmZS5iYXNlX2xheWVycywKICAgICAgICAgICAgICAgIGxheWVyX2NvbnRyb2xfYThkYjMwNDVkZTBiNDcwODgwNDQ5ODBmYzQ1ZjQ5ZmUub3ZlcmxheXMsCiAgICAgICAgICAgICAgICB7cG9zaXRpb246ICd0b3ByaWdodCcsCiAgICAgICAgICAgICAgICAgY29sbGFwc2VkOiB0cnVlLAogICAgICAgICAgICAgICAgIGF1dG9aSW5kZXg6IHRydWUKICAgICAgICAgICAgICAgIH0pLmFkZFRvKG1hcF8zMWY3ZDFkOTBhYjM0M2M4OTE1YzgzNzA1OWVlNmZjNik7CiAgICAgICAgICAgIAogICAgICAgIAo8L3NjcmlwdD4= onload=\"this.contentDocument.open();this.contentDocument.write(atob(this.getAttribute('data-html')));this.contentDocument.close();\" allowfullscreen webkitallowfullscreen mozallowfullscreen></iframe></div></div>"
      ],
      "text/plain": [
       "<folium.folium.Map at 0x7f94db947ba8>"
      ]
     },
     "execution_count": 21,
     "metadata": {
      "tags": []
     },
     "output_type": "execute_result"
    }
   ],
   "source": [
    "folium_map = folium.Map(location=[28.556828,77.174210], zoom_start=12, tiles='cartodbpositron')\n",
    "FastMarkerCluster(data=list(zip(df['Latitude'].values,df['Longitude'].values))).add_to(folium_map)\n",
    "folium.LayerControl().add_to(folium_map)\n",
    "folium_map"
   ]
  },
  {
   "cell_type": "code",
   "execution_count": 22,
   "metadata": {
    "colab": {
     "base_uri": "https://localhost:8080/",
     "height": 1000
    },
    "colab_type": "code",
    "id": "ZEX_CFMzEeDw",
    "outputId": "9a1b7011-736e-4fe8-8066-683e7fa56257"
   },
   "outputs": [
    {
     "data": {
      "text/plain": [
       "array([[ 12.9914929,  80.2336907],\n",
       "       [ 34.367641 , -89.5391483],\n",
       "       [ 23.8408767,  91.4214196],\n",
       "       [ 30.206489 ,  75.689139 ],\n",
       "       [ 12.3132715,  76.6134265],\n",
       "       [ 26.86397  ,  75.8107898],\n",
       "       [ 17.5262986,  78.3702314],\n",
       "       [ 21.0951911,  78.9785723],\n",
       "       [ 27.2279199,  78.0137765],\n",
       "       [ 13.133363 ,  77.5673768],\n",
       "       [ 23.1558839,  72.6648774],\n",
       "       [ 12.8719013,  80.2182248],\n",
       "       [ 10.7589381,  78.8132181],\n",
       "       [ 31.016551 ,  77.070159 ],\n",
       "       [ 10.936164 ,  76.744061 ],\n",
       "       [ 17.4932682,  78.3913929],\n",
       "       [ 12.0118856,  79.8568512],\n",
       "       [ 16.4419187,  80.6225262],\n",
       "       [ 26.4934515,  80.3074236],\n",
       "       [ 23.1791353,  80.027336 ],\n",
       "       [ 22.7770174,  86.144116 ],\n",
       "       [ 18.0892671,  79.4672596],\n",
       "       [ 30.3983031,  78.0751177],\n",
       "       [ 31.3534007,  75.4586767],\n",
       "       [ 12.2840288,  76.6411467],\n",
       "       [ 23.8408767,  91.4214196],\n",
       "       [ 12.8394963,  80.1374898],\n",
       "       [ 24.7577144,  92.7922929],\n",
       "       [ 22.5558616,  88.3057061],\n",
       "       [ 11.0777621,  76.9896672],\n",
       "       [ 20.3547697,  85.8152921],\n",
       "       [ 23.8143819,  86.4412022],\n",
       "       [ 26.2494521,  78.1741388],\n",
       "       [ 30.5160865,  76.6597778],\n",
       "       [ 10.9365095,  76.9562405],\n",
       "       [ 21.1232417,  79.0515125],\n",
       "       [ 19.0237512,  72.8574443],\n",
       "       [ 28.6297291,  77.3720556],\n",
       "       [ 22.3149274,  87.3105311],\n",
       "       [ 30.7580107,  76.7684782],\n",
       "       [ 19.0222181,  72.8561212],\n",
       "       [ 26.2727152,  78.2283897],\n",
       "       [ 16.2333746,  80.5509079],\n",
       "       [ 12.918019 ,  77.5920657],\n",
       "       [ 13.009575 ,  80.004243 ],\n",
       "       [ 17.1964133,  78.5972509],\n",
       "       [ 18.5293825,  73.856541 ],\n",
       "       [ 29.1722291,  75.7279102],\n",
       "       [ 28.3674356,  77.3158111],\n",
       "       [ 13.3525321,  74.7928224],\n",
       "       [ 26.86397  ,  75.8107898],\n",
       "       [ 24.8320247,  93.9126801],\n",
       "       [ 11.3215791,  75.9336359],\n",
       "       [ 16.483741 ,  80.691017 ],\n",
       "       [ 22.5203597,  75.9207231],\n",
       "       [ 30.8644333,  77.1183538],\n",
       "       [ 26.4710809,  73.1134335],\n",
       "       [ 19.1334302,  72.9132679],\n",
       "       [ 22.6802377,  72.8801987],\n",
       "       [ 31.2528645,  75.7048324],\n",
       "       [ 12.9237228,  77.4987012],\n",
       "       [ 32.9418351,  74.9540657],\n",
       "       [ 26.5123388,  80.2329   ],\n",
       "       [ 13.3268979,  77.1260948],\n",
       "       [ 30.7672804,  76.7869835],\n",
       "       [ 18.464077 ,  73.867619 ],\n",
       "       [ 25.5356742,  84.8511799],\n",
       "       [  9.5252922,  77.8534368],\n",
       "       [ 31.708371 ,  76.527356 ],\n",
       "       [ 31.395929 ,  75.535856 ],\n",
       "       [ 10.7312705,  79.1041669],\n",
       "       [ 22.5172754,  88.4186887],\n",
       "       [ 13.0108831,  80.2353768],\n",
       "       [ 11.0283259,  77.0272806],\n",
       "       [  8.5458513,  76.9063407],\n",
       "       [ 19.1231776,  72.8361154],\n",
       "       [ 20.1438995,  85.6762033],\n",
       "       [ 11.0182452,  76.9360116],\n",
       "       [ 30.2684678,  77.9937258],\n",
       "       [ 28.5945644,  77.0184304],\n",
       "       [ 12.8698765,  80.2184272],\n",
       "       [ 23.2143308,  77.4072512],\n",
       "       [ 21.1643059,  72.7840795],\n",
       "       [ 28.5620257,  77.2827147],\n",
       "       [ 27.1305429,  93.7408016],\n",
       "       [ 12.9091583,  77.5665551],\n",
       "       [ 10.0482921,  76.3314729],\n",
       "       [ 12.93538  ,  77.5358251],\n",
       "       [ 17.3919554,  78.3194306],\n",
       "       [ 11.0246887,  77.0021273],\n",
       "       [ 13.0304919,  77.5648661],\n",
       "       [ 13.0584898,  80.1344045],\n",
       "       [ 28.5439106,  77.3331085],\n",
       "       [ 30.3564242,  76.3647012],\n",
       "       [  8.6264627,  77.0337721],\n",
       "       [ 12.7514957,  80.1971591],\n",
       "       [ 17.2547155,  78.3065166],\n",
       "       [ 30.7341204,  76.7524564],\n",
       "       [ 30.4159443,  77.9668329],\n",
       "       [ 23.5476728,  87.2931389],\n",
       "       [ 17.983523 ,  79.5308386],\n",
       "       [ 18.6230833,  73.8160199],\n",
       "       [ 28.3588163,  75.5880204],\n",
       "       [ 11.6782851,  78.1245071],\n",
       "       [ 22.0505921,  88.0722126],\n",
       "       [  9.8828581,  78.0825503],\n",
       "       [ 12.8231446,  80.045802 ],\n",
       "       [ 12.7996582,  80.2286673],\n",
       "       [ 25.430287 ,  81.770789 ],\n",
       "       [ 29.8648744,  77.8964583],\n",
       "       [ 12.9410122,  77.5655258],\n",
       "       [ 17.5947027,  78.1230401],\n",
       "       [ 22.322474 ,  73.180923 ],\n",
       "       [ 17.5203481,  78.3674233],\n",
       "       [ 22.4972777,  88.3714278],\n",
       "       [ 12.9219513,  77.5671377],\n",
       "       [ 16.8457387,  74.6014575],\n",
       "       [ 25.6207241,  85.1728907],\n",
       "       [ 13.6215752,  79.2902526],\n",
       "       [ 18.4241133,  73.7585447],\n",
       "       [ 28.6078176,  77.0406147],\n",
       "       [ 28.5036497,  77.0498002],\n",
       "       [  9.5747052,  77.6798137],\n",
       "       [ 26.1878083,  91.6915834],\n",
       "       [ 22.2533781,  84.9012363],\n",
       "       [ 28.4503781,  77.2837474],\n",
       "       [ 21.2497222,  81.6050291],\n",
       "       [ 26.9363461,  75.9235233],\n",
       "       [ 20.2590542,  85.7917493],\n",
       "       [ 30.2114836, -92.0210943],\n",
       "       [ 18.4577577,  73.857171 ],\n",
       "       [ 12.5173164,  76.8800198],\n",
       "       [ 17.8205239,  83.3423428],\n",
       "       [ 25.4920102,  81.8639163],\n",
       "       [ 30.2114836, -92.0210943],\n",
       "       [ 21.1766214,  79.0616223],\n",
       "       [ 31.7753998,  76.9860747],\n",
       "       [ 26.7314296,  83.4331799],\n",
       "       [ 22.5744178,  88.433778 ],\n",
       "       [ 23.2941402,  85.3102518],\n",
       "       [ 23.4122599,  85.4399411],\n",
       "       [ 14.6496571,  77.6071751],\n",
       "       [ 17.4448019,  78.3497604],\n",
       "       [ 12.9889158,  79.9701828],\n",
       "       [ 15.4123817,  73.9781014],\n",
       "       [ 18.6517288,  73.7616398],\n",
       "       [ 17.599927 ,  78.4177253],\n",
       "       [ 28.8784303,  77.1332599],\n",
       "       [ 26.0813094,  91.5619965],\n",
       "       [ 18.6069264,  73.8750865],\n",
       "       [ 19.103219 ,  72.8365851],\n",
       "       [ 17.541808 ,  78.386794 ],\n",
       "       [ 25.5738788,  91.8947077],\n",
       "       [ 19.0442408,  73.0254783],\n",
       "       [ 20.9571631,  77.7567616],\n",
       "       [ 18.5076536,  73.8198312],\n",
       "       [ 36.0781   , -79.4323   ],\n",
       "       [ 25.2623247,  82.9893735],\n",
       "       [ 12.9142279,  77.5147948],\n",
       "       [ 12.9606471,  80.0532325],\n",
       "       [ 17.4201361,  78.6561522],\n",
       "       [ 28.5456282,  77.2731505],\n",
       "       [ 10.9277191,  76.9261696],\n",
       "       [ 22.5924571,  88.412665 ],\n",
       "       [ 28.5449756,  77.1926284],\n",
       "       [  9.1483108,  77.8320996],\n",
       "       [ 28.6652594,  77.2323931],\n",
       "       [ 23.1283862,  72.5448508],\n",
       "       [ 18.4865356,  73.8159086],\n",
       "       [ 12.8769332,  80.0828735],\n",
       "       [ 21.1468555,  79.050062 ],\n",
       "       [ 15.7742066,  78.0568132],\n",
       "       [ 20.2193188,  85.7357383],\n",
       "       [ 13.6293485,  79.4055672],\n",
       "       [ 23.2114604,  72.6841857],\n",
       "       [ 30.9761958,  76.5378288],\n",
       "       [ 11.2741632,  77.6070273],\n",
       "       [ 12.8446519,  77.6631433],\n",
       "       [ 10.7285131,  79.0184111],\n",
       "       [ 23.188531 ,  72.6289624],\n",
       "       [ 29.947636 ,  76.815473 ],\n",
       "       [ 13.1284641,  77.587308 ],\n",
       "       [ 10.9884289,  79.8457156],\n",
       "       [ 13.3566454,  80.1411049],\n",
       "       [ 27.9135016,  78.0781901],\n",
       "       [ 15.7777762,  74.4634341],\n",
       "       [ 13.183002 ,  74.9339327],\n",
       "       [ 12.971743 ,  79.1594165],\n",
       "       [ 21.1052484,  79.0034903],\n",
       "       [ 20.3506773,  85.806336 ],\n",
       "       [ 15.3688332,  75.1213796],\n",
       "       [ 21.4971089,  83.903756 ],\n",
       "       [ 17.3805282,  78.3826143],\n",
       "       [ 26.2653649,  81.5093176],\n",
       "       [ 28.7451463,  77.1169907],\n",
       "       [ 13.1761866,  80.0982751],\n",
       "       [ 19.0735074,  72.8995453],\n",
       "       [ 12.9337241,  77.6921207],\n",
       "       [ 12.9237228,  77.4987012],\n",
       "       [ 11.1022205,  76.9656908]])"
      ]
     },
     "execution_count": 22,
     "metadata": {
      "tags": []
     },
     "output_type": "execute_result"
    }
   ],
   "source": [
    "points = df[['Latitude','Longitude']].to_numpy()\n",
    "points"
   ]
  },
  {
   "cell_type": "code",
   "execution_count": 28,
   "metadata": {
    "colab": {
     "base_uri": "https://localhost:8080/",
     "height": 1000
    },
    "colab_type": "code",
    "id": "Au9PVsDHEviA",
    "outputId": "2d4a03ba-f7b2-4e9f-8992-52cf52fb7dff"
   },
   "outputs": [
    {
     "data": {
      "text/html": [
       "<div style=\"width:100%;\"><div style=\"position:relative;width:100%;height:0;padding-bottom:60%;\"><span style=\"color:#565656\">Make this Notebook Trusted to load map: File -> Trust Notebook</span><iframe src=\"about:blank\" style=\"position:absolute;width:100%;height:100%;left:0;top:0;border:none !important;\" data-html=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 onload=\"this.contentDocument.open();this.contentDocument.write(atob(this.getAttribute('data-html')));this.contentDocument.close();\" allowfullscreen webkitallowfullscreen mozallowfullscreen></iframe></div></div>"
      ],
      "text/plain": [
       "<folium.folium.Map at 0x7f94db98bdd8>"
      ]
     },
     "execution_count": 27,
     "metadata": {
      "tags": []
     },
     "output_type": "execute_result"
    },
    {
     "data": {
      "text/html": [
       "<div style=\"width:100%;\"><div style=\"position:relative;width:100%;height:0;padding-bottom:60%;\"><span style=\"color:#565656\">Make this Notebook Trusted to load map: File -> Trust Notebook</span><iframe src=\"about:blank\" style=\"position:absolute;width:100%;height:100%;left:0;top:0;border:none !important;\" data-html=PCFET0NUWVBFIGh0bWw+CjxoZWFkPiAgICAKICAgIDxtZXRhIGh0dHAtZXF1aXY9ImNvbnRlbnQtdHlwZSIgY29udGVudD0idGV4dC9odG1sOyBjaGFyc2V0PVVURi04IiAvPgogICAgPHNjcmlwdD5MX1BSRUZFUl9DQU5WQVM9ZmFsc2U7IExfTk9fVE9VQ0g9ZmFsc2U7IExfRElTQUJMRV8zRD1mYWxzZTs8L3NjcmlwdD4KICAgIDxzY3JpcHQgc3JjPSJodHRwczovL2Nkbi5qc2RlbGl2ci5uZXQvbnBtL2xlYWZsZXRAMS40LjAvZGlzdC9sZWFmbGV0LmpzIj48L3NjcmlwdD4KICAgIDxzY3JpcHQgc3JjPSJodHRwczovL2NvZGUuanF1ZXJ5LmNvbS9qcXVlcnktMS4xMi40Lm1pbi5qcyI+PC9zY3JpcHQ+CiAgICA8c2NyaXB0IHNyYz0iaHR0cHM6Ly9tYXhjZG4uYm9vdHN0cmFwY2RuLmNvbS9ib290c3RyYXAvMy4yLjAvanMvYm9vdHN0cmFwLm1pbi5qcyI+PC9zY3JpcHQ+CiAgICA8c2NyaXB0IHNyYz0iaHR0cHM6Ly9jZG5qcy5jbG91ZGZsYXJlLmNvbS9hamF4L2xpYnMvTGVhZmxldC5hd2Vzb21lLW1hcmtlcnMvMi4wLjIvbGVhZmxldC5hd2Vzb21lLW1hcmtlcnMuanMiPjwvc2NyaXB0PgogICAgPGxpbmsgcmVsPSJzdHlsZXNoZWV0IiBocmVmPSJodHRwczovL2Nkbi5qc2RlbGl2ci5uZXQvbnBtL2xlYWZsZXRAMS40LjAvZGlzdC9sZWFmbGV0LmNzcyIvPgogICAgPGxpbmsgcmVsPSJzdHlsZXNoZWV0IiBocmVmPSJodHRwczovL21heGNkbi5ib290c3RyYXBjZG4uY29tL2Jvb3RzdHJhcC8zLjIuMC9jc3MvYm9vdHN0cmFwLm1pbi5jc3MiLz4KICAgIDxsaW5rIHJlbD0ic3R5bGVzaGVldCIgaHJlZj0iaHR0cHM6Ly9tYXhjZG4uYm9vdHN0cmFwY2RuLmNvbS9ib290c3RyYXAvMy4yLjAvY3NzL2Jvb3RzdHJhcC10aGVtZS5taW4uY3NzIi8+CiAgICA8bGluayByZWw9InN0eWxlc2hlZXQiIGhyZWY9Imh0dHBzOi8vbWF4Y2RuLmJvb3RzdHJhcGNkbi5jb20vZm9udC1hd2Vzb21lLzQuNi4zL2Nzcy9mb250LWF3ZXNvbWUubWluLmNzcyIvPgogICAgPGxpbmsgcmVsPSJzdHlsZXNoZWV0IiBocmVmPSJodHRwczovL2NkbmpzLmNsb3VkZmxhcmUuY29tL2FqYXgvbGlicy9MZWFmbGV0LmF3ZXNvbWUtbWFya2Vycy8yLjAuMi9sZWFmbGV0LmF3ZXNvbWUtbWFya2Vycy5jc3MiLz4KICAgIDxsaW5rIHJlbD0ic3R5bGVzaGVldCIgaHJlZj0iaHR0cHM6Ly9yYXdjZG4uZ2l0aGFjay5jb20vcHl0aG9uLXZpc3VhbGl6YXRpb24vZm9saXVtL21hc3Rlci9mb2xpdW0vdGVtcGxhdGVzL2xlYWZsZXQuYXdlc29tZS5yb3RhdGUuY3NzIi8+CiAgICA8c3R5bGU+aHRtbCwgYm9keSB7d2lkdGg6IDEwMCU7aGVpZ2h0OiAxMDAlO21hcmdpbjogMDtwYWRkaW5nOiAwO308L3N0eWxlPgogICAgPHN0eWxlPiNtYXAge3Bvc2l0aW9uOmFic29sdXRlO3RvcDowO2JvdHRvbTowO3JpZ2h0OjA7bGVmdDowO308L3N0eWxlPgogICAgCiAgICA8bWV0YSBuYW1lPSJ2aWV3cG9ydCIgY29udGVudD0id2lkdGg9ZGV2aWNlLXdpZHRoLAogICAgICAgIGluaXRpYWwtc2NhbGU9MS4wLCBtYXhpbXVtLXNjYWxlPTEuMCwgdXNlci1zY2FsYWJsZT1ubyIgLz4KICAgIDxzdHlsZT4jbWFwX2FlODFiYjU5Mzg0NjQxYzg4ZmU3MDNiNGExMmM3ZTQxIHsKICAgICAgICBwb3NpdGlvbjogcmVsYXRpdmU7CiAgICAgICAgd2lkdGg6IDEwMC4wJTsKICAgICAgICBoZWlnaHQ6IDEwMC4wJTsKICAgICAgICBsZWZ0OiAwLjAlOwogICAgICAgIHRvcDogMC4wJTsKICAgICAgICB9CiAgICA8L3N0eWxlPgogICAgPHNjcmlwdCBzcmM9Imh0dHBzOi8vbGVhZmxldC5naXRodWIuaW8vTGVhZmxldC5oZWF0L2Rpc3QvbGVhZmxldC1oZWF0LmpzIj48L3NjcmlwdD4KPC9oZWFkPgo8Ym9keT4gICAgCiAgICAKICAgIDxkaXYgY2xhc3M9ImZvbGl1bS1tYXAiIGlkPSJtYXBfYWU4MWJiNTkzODQ2NDFjODhmZTcwM2I0YTEyYzdlNDEiID48L2Rpdj4KPC9ib2R5Pgo8c2NyaXB0PiAgICAKICAgIAogICAgCiAgICAgICAgdmFyIGJvdW5kcyA9IG51bGw7CiAgICAKCiAgICB2YXIgbWFwX2FlODFiYjU5Mzg0NjQxYzg4ZmU3MDNiNGExMmM3ZTQxID0gTC5tYXAoCiAgICAgICAgJ21hcF9hZTgxYmI1OTM4NDY0MWM4OGZlNzAzYjRhMTJjN2U0MScsIHsKICAgICAgICBjZW50ZXI6IFsyOC41NTY4MjgsIDc3LjE3NDIxXSwKICAgICAgICB6b29tOiAxMiwKICAgICAgICBtYXhCb3VuZHM6IGJvdW5kcywKICAgICAgICBsYXllcnM6IFtdLAogICAgICAgIHdvcmxkQ29weUp1bXA6IGZhbHNlLAogICAgICAgIGNyczogTC5DUlMuRVBTRzM4NTcsCiAgICAgICAgem9vbUNvbnRyb2w6IHRydWUsCiAgICAgICAgfSk7CgoKICAgIAogICAgdmFyIHRpbGVfbGF5ZXJfNGViNjNlNjA1MzgyNDFhZGFhZmFlMTkzMjVmY2Q2MDcgPSBMLnRpbGVMYXllcigKICAgICAgICAnaHR0cHM6Ly9jYXJ0b2RiLWJhc2VtYXBzLXtzfS5nbG9iYWwuc3NsLmZhc3RseS5uZXQvbGlnaHRfYWxsL3t6fS97eH0ve3l9LnBuZycsCiAgICAgICAgewogICAgICAgICJhdHRyaWJ1dGlvbiI6IG51bGwsCiAgICAgICAgImRldGVjdFJldGluYSI6IGZhbHNlLAogICAgICAgICJtYXhOYXRpdmVab29tIjogMTgsCiAgICAgICAgIm1heFpvb20iOiAxOCwKICAgICAgICAibWluWm9vbSI6IDAsCiAgICAgICAgIm5vV3JhcCI6IGZhbHNlLAogICAgICAgICJvcGFjaXR5IjogMSwKICAgICAgICAic3ViZG9tYWlucyI6ICJhYmMiLAogICAgICAgICJ0bXMiOiBmYWxzZQp9KS5hZGRUbyhtYXBfYWU4MWJiNTkzODQ2NDFjODhmZTcwM2I0YTEyYzdlNDEpOwogICAgCiAgICAgICAgICAgIHZhciBoZWF0X21hcF82OWYyY2VjNTE3MjQ0YWJmOTY1ZmRlZWM4ODMxZTc2ZCA9IEwuaGVhdExheWVyKAogICAgICAgICAgICAgICAgW1sxMi45OTE0OTI5LCA4MC4yMzM2OTA3XSwgWzM0LjM2NzY0MSwgLTg5LjUzOTE0ODNdLCBbMjMuODQwODc2NywgOTEuNDIxNDE5Nl0sIFszMC4yMDY0ODksIDc1LjY4OTEzOV0sIFsxMi4zMTMyNzE0OTk5OTk5OTksIDc2LjYxMzQyNjVdLCBbMjYuODYzOTcwMDAwMDAwMDAyLCA3NS44MTA3ODk4XSwgWzE3LjUyNjI5ODYsIDc4LjM3MDIzMTRdLCBbMjEuMDk1MTkxMSwgNzguOTc4NTcyM10sIFsyNy4yMjc5MTk4OTk5OTk5OTYsIDc4LjAxMzc3NjVdLCBbMTMuMTMzMzYzMDAwMDAwMDAxLCA3Ny41NjczNzY3OTk5OTk5OV0sIFsyMy4xNTU4ODM5LCA3Mi42NjQ4Nzc0MDAwMDAwMV0sIFsxMi44NzE5MDEzMDAwMDAwMDEsIDgwLjIxODIyNDhdLCBbMTAuNzU4OTM4MSwgNzguODEzMjE4MV0sIFszMS4wMTY1NTEsIDc3LjA3MDE1ODk5OTk5OTk5XSwgWzEwLjkzNjE2NCwgNzYuNzQ0MDYxXSwgWzE3LjQ5MzI2ODIsIDc4LjM5MTM5MjldLCBbMTIuMDExODg1NiwgNzkuODU2ODUxMl0sIFsxNi40NDE5MTg3MDAwMDAwMDIsIDgwLjYyMjUyNjJdLCBbMjYuNDkzNDUxNTAwMDAwMDAzLCA4MC4zMDc0MjM1OTk5OTk5OV0sIFsyMy4xNzkxMzUzLCA4MC4wMjczMzZdLCBbMjIuNzc3MDE3NCwgODYuMTQ0MTE2XSwgWzE4LjA4OTI2NzEsIDc5LjQ2NzI1OTU5OTk5OTk5XSwgWzMwLjM5ODMwMzEwMDAwMDAwMywgNzguMDc1MTE3N10sIFszMS4zNTM0MDA2OTk5OTk5OTgsIDc1LjQ1ODY3NjddLCBbMTIuMjg0MDI4OCwgNzYuNjQxMTQ2NzAwMDAwMDFdLCBbMjMuODQwODc2NywgOTEuNDIxNDE5Nl0sIFsxMi44Mzk0OTYzLCA4MC4xMzc0ODk4XSwgWzI0Ljc1NzcxNDM5OTk5OTk5OCwgOTIuNzkyMjkyOV0sIFsyMi41NTU4NjE2LCA4OC4zMDU3MDYxXSwgWzExLjA3Nzc2MjEsIDc2Ljk4OTY2NzJdLCBbMjAuMzU0NzY5NywgODUuODE1MjkyMV0sIFsyMy44MTQzODE4OTk5OTk5OTcsIDg2LjQ0MTIwMjJdLCBbMjYuMjQ5NDUyMSwgNzguMTc0MTM4OF0sIFszMC41MTYwODY1LCA3Ni42NTk3Nzc3OTk5OTk5OV0sIFsxMC45MzY1MDk1LCA3Ni45NTYyNDA1XSwgWzIxLjEyMzI0MTY5OTk5OTk5OCwgNzkuMDUxNTEyNV0sIFsxOS4wMjM3NTEyLCA3Mi44NTc0NDQzXSwgWzI4LjYyOTcyOTEwMDAwMDAwMiwgNzcuMzcyMDU1Nl0sIFsyMi4zMTQ5Mjc0LCA4Ny4zMTA1MzExXSwgWzMwLjc1ODAxMDcwMDAwMDAwMywgNzYuNzY4NDc4Ml0sIFsxOS4wMjIyMTgxLCA3Mi44NTYxMjEyXSwgWzI2LjI3MjcxNTIsIDc4LjIyODM4OTddLCBbMTYuMjMzMzc0NTk5OTk5OTk4LCA4MC41NTA5MDc5XSwgWzEyLjkxODAxOTAwMDAwMDAwMSwgNzcuNTkyMDY1N10sIFsxMy4wMDk1NzUsIDgwLjAwNDI0M10sIFsxNy4xOTY0MTMzLCA3OC41OTcyNTA5XSwgWzE4LjUyOTM4MjUsIDczLjg1NjU0MV0sIFsyOS4xNzIyMjkxMDAwMDAwMDMsIDc1LjcyNzkxMDIwMDAwMDAxXSwgWzI4LjM2NzQzNTYwMDAwMDAwNCwgNzcuMzE1ODExMDk5OTk5OTldLCBbMTMuMzUyNTMyMSwgNzQuNzkyODIyNF0sIFsyNi44NjM5NzAwMDAwMDAwMDIsIDc1LjgxMDc4OThdLCBbMjQuODMyMDI0NywgOTMuOTEyNjgwMV0sIFsxMS4zMjE1NzkxLCA3NS45MzM2MzU5XSwgWzE2LjQ4Mzc0MTAwMDAwMDAwMiwgODAuNjkxMDE3XSwgWzIyLjUyMDM1OTY5OTk5OTk5NywgNzUuOTIwNzIzMDk5OTk5OTldLCBbMzAuODY0NDMzMjk5OTk5OTk4LCA3Ny4xMTgzNTM4XSwgWzI2LjQ3MTA4MDksIDczLjExMzQzMzVdLCBbMTkuMTMzNDMwMiwgNzIuOTEzMjY3OV0sIFsyMi42ODAyMzc3LCA3Mi44ODAxOTg3MDAwMDAwMV0sIFszMS4yNTI4NjQ1LCA3NS43MDQ4MzI0XSwgWzEyLjkyMzcyMjgsIDc3LjQ5ODcwMTJdLCBbMzIuOTQxODM1MTAwMDAwMDA2LCA3NC45NTQwNjU3XSwgWzI2LjUxMjMzODgwMDAwMDAwMiwgODAuMjMyOV0sIFsxMy4zMjY4OTc4OTk5OTk5OTksIDc3LjEyNjA5NDhdLCBbMzAuNzY3MjgwNCwgNzYuNzg2OTgzNDk5OTk5OTldLCBbMTguNDY0MDc3LCA3My44Njc2MTg5OTk5OTk5OV0sIFsyNS41MzU2NzQyLCA4NC44NTExNzk5XSwgWzkuNTI1MjkyMTk5OTk5OTk5LCA3Ny44NTM0MzY4XSwgWzMxLjcwODM3MTAwMDAwMDAwMywgNzYuNTI3MzU2MDAwMDAwMDFdLCBbMzEuMzk1OTI5LCA3NS41MzU4NTYwMDAwMDAwMV0sIFsxMC43MzEyNzA1LCA3OS4xMDQxNjY5MDAwMDAwMV0sIFsyMi41MTcyNzU0LCA4OC40MTg2ODg3XSwgWzEzLjAxMDg4MzEsIDgwLjIzNTM3NjhdLCBbMTEuMDI4MzI1OSwgNzcuMDI3MjgwNl0sIFs4LjU0NTg1MTMsIDc2LjkwNjM0MDddLCBbMTkuMTIzMTc3NiwgNzIuODM2MTE1NDAwMDAwMDFdLCBbMjAuMTQzODk5NSwgODUuNjc2MjAzM10sIFsxMS4wMTgyNDUxOTk5OTk5OTksIDc2LjkzNjAxMTU5OTk5OTk5XSwgWzMwLjI2ODQ2NzgsIDc3Ljk5MzcyNTc5OTk5OTk5XSwgWzI4LjU5NDU2NDM5OTk5OTk5NiwgNzcuMDE4NDMwNF0sIFsxMi44Njk4NzY1LCA4MC4yMTg0MjcyXSwgWzIzLjIxNDMzMDgwMDAwMDAwMywgNzcuNDA3MjUxMl0sIFsyMS4xNjQzMDU5LCA3Mi43ODQwNzk1XSwgWzI4LjU2MjAyNTcsIDc3LjI4MjcxNDddLCBbMjcuMTMwNTQyOTAwMDAwMDAyLCA5My43NDA4MDE2XSwgWzEyLjkwOTE1ODMwMDAwMDAwMSwgNzcuNTY2NTU1MV0sIFsxMC4wNDgyOTIxLCA3Ni4zMzE0NzI5MDAwMDAwMV0sIFsxMi45MzUzOCwgNzcuNTM1ODI1MV0sIFsxNy4zOTE5NTUzOTk5OTk5OTcsIDc4LjMxOTQzMDZdLCBbMTEuMDI0Njg4Njk5OTk5OTk5LCA3Ny4wMDIxMjczXSwgWzEzLjAzMDQ5MTkwMDAwMDAwMSwgNzcuNTY0ODY2MV0sIFsxMy4wNTg0ODk4LCA4MC4xMzQ0MDQ1XSwgWzI4LjU0MzkxMDYwMDAwMDAwNCwgNzcuMzMzMTA4NV0sIFszMC4zNTY0MjQxOTk5OTk5OTYsIDc2LjM2NDcwMTJdLCBbOC42MjY0NjI3LCA3Ny4wMzM3NzIxXSwgWzEyLjc1MTQ5NTcsIDgwLjE5NzE1OTFdLCBbMTcuMjU0NzE1NSwgNzguMzA2NTE2Nl0sIFszMC43MzQxMjA0LCA3Ni43NTI0NTY0XSwgWzMwLjQxNTk0NDMwMDAwMDAwMywgNzcuOTY2ODMyOV0sIFsyMy41NDc2NzI4LCA4Ny4yOTMxMzg5XSwgWzE3Ljk4MzUyMywgNzkuNTMwODM4Nl0sIFsxOC42MjMwODMzLCA3My44MTYwMTk5XSwgWzI4LjM1ODgxNjMsIDc1LjU4ODAyMDRdLCBbMTEuNjc4Mjg1MSwgNzguMTI0NTA3MV0sIFsyMi4wNTA1OTIxLCA4OC4wNzIyMTI1OTk5OTk5OV0sIFs5Ljg4Mjg1ODEsIDc4LjA4MjU1MDMwMDAwMDAxXSwgWzEyLjgyMzE0NDYsIDgwLjA0NTgwMl0sIFsxMi43OTk2NTgyLCA4MC4yMjg2NjczXSwgWzI1LjQzMDI4NywgODEuNzcwNzg5MDAwMDAwMDFdLCBbMjkuODY0ODc0NCwgNzcuODk2NDU4Mjk5OTk5OTldLCBbMTIuOTQxMDEyMiwgNzcuNTY1NTI1Nzk5OTk5OTldLCBbMTcuNTk0NzAyNywgNzguMTIzMDQwMV0sIFsyMi4zMjI0NzQsIDczLjE4MDkyMjk5OTk5OTk5XSwgWzE3LjUyMDM0ODEwMDAwMDAwMywgNzguMzY3NDIzM10sIFsyMi40OTcyNzc3LCA4OC4zNzE0Mjc3OTk5OTk5OV0sIFsxMi45MjE5NTEzLCA3Ny41NjcxMzc3XSwgWzE2Ljg0NTczODcsIDc0LjYwMTQ1NzVdLCBbMjUuNjIwNzI0MSwgODUuMTcyODkwN10sIFsxMy42MjE1NzUxOTk5OTk5OTcsIDc5LjI5MDI1MjZdLCBbMTguNDI0MTEzMzAwMDAwMDAyLCA3My43NTg1NDQ3XSwgWzI4LjYwNzgxNzYwMDAwMDAwNCwgNzcuMDQwNjE0N10sIFsyOC41MDM2NDk2OTk5OTk5OTcsIDc3LjA0OTgwMDE5OTk5OTk5XSwgWzkuNTc0NzA1MiwgNzcuNjc5ODEzN10sIFsyNi4xODc4MDgzLCA5MS42OTE1ODM0XSwgWzIyLjI1MzM3ODEwMDAwMDAwMywgODQuOTAxMjM2MzAwMDAwMDFdLCBbMjguNDUwMzc4MTAwMDAwMDAyLCA3Ny4yODM3NDc0MDAwMDAwMV0sIFsyMS4yNDk3MjIxOTk5OTk5OTcsIDgxLjYwNTAyOTFdLCBbMjYuOTM2MzQ2MSwgNzUuOTIzNTIzM10sIFsyMC4yNTkwNTQxOTk5OTk5OTgsIDg1Ljc5MTc0OTNdLCBbMzAuMjExNDgzNiwgLTkyLjAyMTA5NDNdLCBbMTguNDU3NzU3NywgNzMuODU3MTcxXSwgWzEyLjUxNzMxNjQsIDc2Ljg4MDAxOThdLCBbMTcuODIwNTIzODk5OTk5OTk4LCA4My4zNDIzNDI4XSwgWzI1LjQ5MjAxMDIsIDgxLjg2MzkxNjNdLCBbMzAuMjExNDgzNiwgLTkyLjAyMTA5NDNdLCBbMjEuMTc2NjIxNCwgNzkuMDYxNjIyM10sIFszMS43NzUzOTk4MDAwMDAwMDIsIDc2Ljk4NjA3NDddLCBbMjYuNzMxNDI5NjAwMDAwMDAyLCA4My40MzMxNzk5MDAwMDAwMV0sIFsyMi41NzQ0MTc4MDAwMDAwMDMsIDg4LjQzMzc3OF0sIFsyMy4yOTQxNDAyLCA4NS4zMTAyNTE3OTk5OTk5OV0sIFsyMy40MTIyNTk5LCA4NS40Mzk5NDExXSwgWzE0LjY0OTY1NzA5OTk5OTk5OSwgNzcuNjA3MTc1MDk5OTk5OTldLCBbMTcuNDQ0ODAxODk5OTk5OTk4LCA3OC4zNDk3NjA0MDAwMDAwMV0sIFsxMi45ODg5MTU4MDAwMDAwMDEsIDc5Ljk3MDE4MjhdLCBbMTUuNDEyMzgxNjk5OTk5OTk3LCA3My45NzgxMDE0MDAwMDAwMV0sIFsxOC42NTE3Mjg4LCA3My43NjE2Mzk4XSwgWzE3LjU5OTkyNjk5OTk5OTk5NywgNzguNDE3NzI1M10sIFsyOC44Nzg0MzAzLCA3Ny4xMzMyNTk5XSwgWzI2LjA4MTMwOTQsIDkxLjU2MTk5NjQ5OTk5OTk5XSwgWzE4LjYwNjkyNjQsIDczLjg3NTA4NjVdLCBbMTkuMTAzMjE5LCA3Mi44MzY1ODUxXSwgWzE3LjU0MTgwOCwgNzguMzg2Nzk0XSwgWzI1LjU3Mzg3ODgsIDkxLjg5NDcwNzddLCBbMTkuMDQ0MjQwOCwgNzMuMDI1NDc4Mjk5OTk5OTldLCBbMjAuOTU3MTYzMTAwMDAwMDAyLCA3Ny43NTY3NjE1OTk5OTk5OV0sIFsxOC41MDc2NTM2LCA3My44MTk4MzEyMDAwMDAwMV0sIFszNi4wNzgxLCAtNzkuNDMyM10sIFsyNS4yNjIzMjQ3LCA4Mi45ODkzNzM1XSwgWzEyLjkxNDIyNzksIDc3LjUxNDc5NDhdLCBbMTIuOTYwNjQ3MSwgODAuMDUzMjMyNV0sIFsxNy40MjAxMzYxLCA3OC42NTYxNTIyXSwgWzI4LjU0NTYyODIsIDc3LjI3MzE1MDVdLCBbMTAuOTI3NzE5MSwgNzYuOTI2MTY5Nl0sIFsyMi41OTI0NTcxMDAwMDAwMDQsIDg4LjQxMjY2NV0sIFsyOC41NDQ5NzU2LCA3Ny4xOTI2Mjg0XSwgWzkuMTQ4MzEwOCwgNzcuODMyMDk5NTk5OTk5OTldLCBbMjguNjY1MjU5Mzk5OTk5OTk3LCA3Ny4yMzIzOTMxXSwgWzIzLjEyODM4NjE5OTk5OTk5OCwgNzIuNTQ0ODUwNzk5OTk5OTldLCBbMTguNDg2NTM1NjAwMDAwMDAzLCA3My44MTU5MDg1OTk5OTk5OV0sIFsxMi44NzY5MzMyLCA4MC4wODI4NzM1XSwgWzIxLjE0Njg1NTUsIDc5LjA1MDA2Ml0sIFsxNS43NzQyMDY2LCA3OC4wNTY4MTMyXSwgWzIwLjIxOTMxODgsIDg1LjczNTczODNdLCBbMTMuNjI5MzQ4NDk5OTk5OTk5LCA3OS40MDU1NjcyMDAwMDAwMV0sIFsyMy4yMTE0NjA0LCA3Mi42ODQxODU3MDAwMDAwMV0sIFszMC45NzYxOTU4LCA3Ni41Mzc4Mjg4XSwgWzExLjI3NDE2MzIsIDc3LjYwNzAyNzNdLCBbMTIuODQ0NjUxOSwgNzcuNjYzMTQzM10sIFsxMC43Mjg1MTMwOTk5OTk5OTksIDc5LjAxODQxMTFdLCBbMjMuMTg4NTMxLCA3Mi42Mjg5NjI0XSwgWzI5Ljk0NzYzNiwgNzYuODE1NDczXSwgWzEzLjEyODQ2NDEsIDc3LjU4NzMwOF0sIFsxMC45ODg0Mjg5LCA3OS44NDU3MTU1OTk5OTk5OV0sIFsxMy4zNTY2NDU0LCA4MC4xNDExMDQ5MDAwMDAwMl0sIFsyNy45MTM1MDE2LCA3OC4wNzgxOTAxXSwgWzE1Ljc3Nzc3NjE5OTk5OTk5OCwgNzQuNDYzNDM0MDk5OTk5OTldLCBbMTMuMTgzMDAxOTk5OTk5OTk4LCA3NC45MzM5MzI3XSwgWzEyLjk3MTc0MywgNzkuMTU5NDE2NV0sIFsyMS4xMDUyNDg0LCA3OS4wMDM0OTAzXSwgWzIwLjM1MDY3NzMsIDg1LjgwNjMzNl0sIFsxNS4zNjg4MzMyLCA3NS4xMjEzNzk2XSwgWzIxLjQ5NzEwODg5OTk5OTk5NywgODMuOTAzNzU2XSwgWzE3LjM4MDUyODIsIDc4LjM4MjYxNDI5OTk5OTk5XSwgWzI2LjI2NTM2NDg5OTk5OTk5OCwgODEuNTA5MzE3Nl0sIFsyOC43NDUxNDYzLCA3Ny4xMTY5OTA3XSwgWzEzLjE3NjE4NjYwMDAwMDAwMSwgODAuMDk4Mjc1MV0sIFsxOS4wNzM1MDc0LCA3Mi44OTk1NDUzXSwgWzEyLjkzMzcyNDEsIDc3LjY5MjEyMDddLCBbMTIuOTIzNzIyOCwgNzcuNDk4NzAxMl0sIFsxMS4xMDIyMjA1LCA3Ni45NjU2OTA3OTk5OTk5OV1dLAogICAgICAgICAgICAgICAgewogICAgICAgICAgICAgICAgICAgIG1pbk9wYWNpdHk6IDAuNSwKICAgICAgICAgICAgICAgICAgICBtYXhab29tOiAxOCwKICAgICAgICAgICAgICAgICAgICBtYXg6IDEuMCwKICAgICAgICAgICAgICAgICAgICByYWRpdXM6IDE1LAogICAgICAgICAgICAgICAgICAgIGJsdXI6IDE1LAogICAgICAgICAgICAgICAgICAgIGdyYWRpZW50OiBudWxsCiAgICAgICAgICAgICAgICAgICAgfSkKICAgICAgICAgICAgICAgIC5hZGRUbyhtYXBfYWU4MWJiNTkzODQ2NDFjODhmZTcwM2I0YTEyYzdlNDEpOwogICAgICAgIAo8L3NjcmlwdD4= onload=\"this.contentDocument.open();this.contentDocument.write(atob(this.getAttribute('data-html')));this.contentDocument.close();\" allowfullscreen webkitallowfullscreen mozallowfullscreen></iframe></div></div>"
      ],
      "text/plain": [
       "<folium.folium.Map at 0x7f94db98eef0>"
      ]
     },
     "execution_count": 28,
     "metadata": {
      "tags": []
     },
     "output_type": "execute_result"
    }
   ],
   "source": [
    "folium_map = folium.Map(location=[28.556828,77.174210], zoom_start=12, tiles='cartodbpositron')\n",
    "folium_map.add_child(HeatMap(points, radius=15))"
   ]
  }
 ],
 "metadata": {
  "colab": {
   "collapsed_sections": [],
   "name": "map.ipynb",
   "provenance": []
  },
  "kernelspec": {
   "display_name": "Python 3",
   "language": "python",
   "name": "python3"
  },
  "language_info": {
   "codemirror_mode": {
    "name": "ipython",
    "version": 3
   },
   "file_extension": ".py",
   "mimetype": "text/x-python",
   "name": "python",
   "nbconvert_exporter": "python",
   "pygments_lexer": "ipython3",
   "version": "3.7.6"
  }
 },
 "nbformat": 4,
 "nbformat_minor": 1
}
