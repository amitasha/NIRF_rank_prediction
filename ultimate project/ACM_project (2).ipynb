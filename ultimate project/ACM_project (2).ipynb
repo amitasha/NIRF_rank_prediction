﻿{
 "cells": [
  {
   "cell_type": "code",
   "execution_count": 1,
   "metadata": {},
   "outputs": [],
   "source": [
    "import pandas as pd\n"
   ]
  },
  {
   "cell_type": "code",
   "execution_count": 85,
   "metadata": {},
   "outputs": [],
   "source": [
    "dataset=pd.read_csv('college_dataset.csv')"
   ]
  },
  {
   "cell_type": "code",
   "execution_count": 86,
   "metadata": {},
   "outputs": [
    {
     "data": {
      "text/plain": [
       "(200, 33)"
      ]
     },
     "execution_count": 86,
     "metadata": {},
     "output_type": "execute_result"
    }
   ],
   "source": [
    "dataset.shape"
   ]
  },
  {
   "cell_type": "code",
   "execution_count": 4,
   "metadata": {},
   "outputs": [
    {
     "data": {
      "text/html": [
       "<div>\n",
       "<style scoped>\n",
       "    .dataframe tbody tr th:only-of-type {\n",
       "        vertical-align: middle;\n",
       "    }\n",
       "\n",
       "    .dataframe tbody tr th {\n",
       "        vertical-align: top;\n",
       "    }\n",
       "\n",
       "    .dataframe thead th {\n",
       "        text-align: right;\n",
       "    }\n",
       "</style>\n",
       "<table border=\"1\" class=\"dataframe\">\n",
       "  <thead>\n",
       "    <tr style=\"text-align: right;\">\n",
       "      <th></th>\n",
       "      <th>NIRF Rank</th>\n",
       "      <th>institute_id</th>\n",
       "      <th>College Name</th>\n",
       "      <th>City</th>\n",
       "      <th>State/UT</th>\n",
       "      <th>Latitude</th>\n",
       "      <th>Longitude</th>\n",
       "      <th>score</th>\n",
       "      <th>link</th>\n",
       "      <th>Mode of Admission</th>\n",
       "      <th>...</th>\n",
       "      <th>No. of first year students intake in the year</th>\n",
       "      <th>No. of first year students admitted the year</th>\n",
       "      <th>Academic Year in</th>\n",
       "      <th>No. of students admitted through Lateral entry</th>\n",
       "      <th>Academic Year.1</th>\n",
       "      <th>No. of students graduating in minimum stipulated time</th>\n",
       "      <th>No. of students placed</th>\n",
       "      <th>Median salary of placed graduates(Amount Rs.)</th>\n",
       "      <th>No. of students selected for Higher in Studies</th>\n",
       "      <th>faltu column</th>\n",
       "    </tr>\n",
       "  </thead>\n",
       "  <tbody>\n",
       "    <tr>\n",
       "      <td>0</td>\n",
       "      <td>170</td>\n",
       "      <td>IR-E-C-19706</td>\n",
       "      <td>Institute of Aeronautical Engineering</td>\n",
       "      <td>Hyderabad</td>\n",
       "      <td>Telangana</td>\n",
       "      <td>17.599927</td>\n",
       "      <td>78.417725</td>\n",
       "      <td>32.26</td>\n",
       "      <td>https://nirfcdn.azureedge.net/2020/pdf/Enginee...</td>\n",
       "      <td>JEE Advanced</td>\n",
       "      <td>...</td>\n",
       "      <td>960</td>\n",
       "      <td>867</td>\n",
       "      <td>2016-17</td>\n",
       "      <td>129</td>\n",
       "      <td>2018-19</td>\n",
       "      <td>862</td>\n",
       "      <td>440</td>\n",
       "      <td>337000</td>\n",
       "      <td>171</td>\n",
       "      <td>0.462298</td>\n",
       "    </tr>\n",
       "    <tr>\n",
       "      <td>1</td>\n",
       "      <td>175</td>\n",
       "      <td>IR-E-C-1438</td>\n",
       "      <td>The National Institute of Engineering</td>\n",
       "      <td>Mysore</td>\n",
       "      <td>Karnataka</td>\n",
       "      <td>12.284029</td>\n",
       "      <td>76.641147</td>\n",
       "      <td>32.17</td>\n",
       "      <td>https://nirfcdn.azureedge.net/2020/pdf/Enginee...</td>\n",
       "      <td>JEE Mains</td>\n",
       "      <td>...</td>\n",
       "      <td>780</td>\n",
       "      <td>801</td>\n",
       "      <td>2016-17</td>\n",
       "      <td>153</td>\n",
       "      <td>2018-19</td>\n",
       "      <td>784</td>\n",
       "      <td>570</td>\n",
       "      <td>423000</td>\n",
       "      <td>81</td>\n",
       "      <td>0.838771</td>\n",
       "    </tr>\n",
       "  </tbody>\n",
       "</table>\n",
       "<p>2 rows × 33 columns</p>\n",
       "</div>"
      ],
      "text/plain": [
       "   NIRF Rank  institute_id                           College Name       City  \\\n",
       "0        170  IR-E-C-19706  Institute of Aeronautical Engineering  Hyderabad   \n",
       "1        175   IR-E-C-1438  The National Institute of Engineering     Mysore   \n",
       "\n",
       "    State/UT   Latitude  Longitude  score  \\\n",
       "0  Telangana  17.599927  78.417725  32.26   \n",
       "1  Karnataka  12.284029  76.641147  32.17   \n",
       "\n",
       "                                                link Mode of Admission  ...  \\\n",
       "0  https://nirfcdn.azureedge.net/2020/pdf/Enginee...      JEE Advanced  ...   \n",
       "1  https://nirfcdn.azureedge.net/2020/pdf/Enginee...         JEE Mains  ...   \n",
       "\n",
       "  No. of first year students intake in the year  \\\n",
       "0                                           960   \n",
       "1                                           780   \n",
       "\n",
       "  No. of first year students admitted the year  Academic Year in  \\\n",
       "0                                          867           2016-17   \n",
       "1                                          801           2016-17   \n",
       "\n",
       "   No. of students admitted through Lateral entry  Academic Year.1  \\\n",
       "0                                             129          2018-19   \n",
       "1                                             153          2018-19   \n",
       "\n",
       "   No. of students graduating in minimum stipulated time  \\\n",
       "0                                                862       \n",
       "1                                                784       \n",
       "\n",
       "   No. of students placed  Median salary of placed graduates(Amount Rs.)  \\\n",
       "0                     440                                         337000   \n",
       "1                     570                                         423000   \n",
       "\n",
       "   No. of students selected for Higher in Studies  faltu column  \n",
       "0                                             171      0.462298  \n",
       "1                                              81      0.838771  \n",
       "\n",
       "[2 rows x 33 columns]"
      ]
     },
     "execution_count": 4,
     "metadata": {},
     "output_type": "execute_result"
    }
   ],
   "source": [
    "dataset.head(2)"
   ]
  },
  {
   "cell_type": "code",
   "execution_count": 5,
   "metadata": {},
   "outputs": [
    {
     "data": {
      "text/html": [
       "<div>\n",
       "<style scoped>\n",
       "    .dataframe tbody tr th:only-of-type {\n",
       "        vertical-align: middle;\n",
       "    }\n",
       "\n",
       "    .dataframe tbody tr th {\n",
       "        vertical-align: top;\n",
       "    }\n",
       "\n",
       "    .dataframe thead th {\n",
       "        text-align: right;\n",
       "    }\n",
       "</style>\n",
       "<table border=\"1\" class=\"dataframe\">\n",
       "  <thead>\n",
       "    <tr style=\"text-align: right;\">\n",
       "      <th></th>\n",
       "      <th>NIRF Rank</th>\n",
       "      <th>Latitude</th>\n",
       "      <th>Longitude</th>\n",
       "      <th>score</th>\n",
       "      <th>Fees</th>\n",
       "      <th>Infrastructure</th>\n",
       "      <th>no. of male students</th>\n",
       "      <th>no. of female students</th>\n",
       "      <th>total students</th>\n",
       "      <th>Graduation outcome(max 100)</th>\n",
       "      <th>...</th>\n",
       "      <th>Research, professional practice and collaborative performance(max 100)</th>\n",
       "      <th>teaching, learning and resource(max 100)</th>\n",
       "      <th>No. of first year students intake in the year</th>\n",
       "      <th>No. of first year students admitted the year</th>\n",
       "      <th>No. of students admitted through Lateral entry</th>\n",
       "      <th>No. of students graduating in minimum stipulated time</th>\n",
       "      <th>No. of students placed</th>\n",
       "      <th>Median salary of placed graduates(Amount Rs.)</th>\n",
       "      <th>No. of students selected for Higher in Studies</th>\n",
       "      <th>faltu column</th>\n",
       "    </tr>\n",
       "  </thead>\n",
       "  <tbody>\n",
       "    <tr>\n",
       "      <td>count</td>\n",
       "      <td>200.000000</td>\n",
       "      <td>200.000000</td>\n",
       "      <td>200.000000</td>\n",
       "      <td>200.000000</td>\n",
       "      <td>200.000000</td>\n",
       "      <td>200.000000</td>\n",
       "      <td>200.000000</td>\n",
       "      <td>200.000000</td>\n",
       "      <td>200.000000</td>\n",
       "      <td>200.00000</td>\n",
       "      <td>...</td>\n",
       "      <td>200.000000</td>\n",
       "      <td>200.000000</td>\n",
       "      <td>200.000000</td>\n",
       "      <td>200.000000</td>\n",
       "      <td>200.000000</td>\n",
       "      <td>200.000000</td>\n",
       "      <td>200.00000</td>\n",
       "      <td>2.000000e+02</td>\n",
       "      <td>200.000000</td>\n",
       "      <td>200.000000</td>\n",
       "    </tr>\n",
       "    <tr>\n",
       "      <td>mean</td>\n",
       "      <td>100.490000</td>\n",
       "      <td>20.260253</td>\n",
       "      <td>75.581627</td>\n",
       "      <td>41.758350</td>\n",
       "      <td>6.204900</td>\n",
       "      <td>4.101500</td>\n",
       "      <td>2540.405000</td>\n",
       "      <td>954.505000</td>\n",
       "      <td>3483.470000</td>\n",
       "      <td>56.48880</td>\n",
       "      <td>...</td>\n",
       "      <td>20.307350</td>\n",
       "      <td>59.050150</td>\n",
       "      <td>846.880000</td>\n",
       "      <td>812.055000</td>\n",
       "      <td>72.955000</td>\n",
       "      <td>776.945000</td>\n",
       "      <td>541.25500</td>\n",
       "      <td>5.569061e+05</td>\n",
       "      <td>86.690000</td>\n",
       "      <td>0.497329</td>\n",
       "    </tr>\n",
       "    <tr>\n",
       "      <td>std</td>\n",
       "      <td>57.870067</td>\n",
       "      <td>6.888953</td>\n",
       "      <td>23.902263</td>\n",
       "      <td>11.725059</td>\n",
       "      <td>3.683286</td>\n",
       "      <td>0.465976</td>\n",
       "      <td>2381.195209</td>\n",
       "      <td>977.574087</td>\n",
       "      <td>3120.438593</td>\n",
       "      <td>11.74744</td>\n",
       "      <td>...</td>\n",
       "      <td>19.937026</td>\n",
       "      <td>10.152778</td>\n",
       "      <td>769.306041</td>\n",
       "      <td>724.085042</td>\n",
       "      <td>90.888761</td>\n",
       "      <td>672.794735</td>\n",
       "      <td>506.96459</td>\n",
       "      <td>3.095260e+05</td>\n",
       "      <td>96.034248</td>\n",
       "      <td>0.293524</td>\n",
       "    </tr>\n",
       "    <tr>\n",
       "      <td>min</td>\n",
       "      <td>1.000000</td>\n",
       "      <td>8.545851</td>\n",
       "      <td>-92.021094</td>\n",
       "      <td>31.090000</td>\n",
       "      <td>1.000000</td>\n",
       "      <td>2.300000</td>\n",
       "      <td>0.000000</td>\n",
       "      <td>12.000000</td>\n",
       "      <td>105.000000</td>\n",
       "      <td>1.00000</td>\n",
       "      <td>...</td>\n",
       "      <td>0.460000</td>\n",
       "      <td>35.510000</td>\n",
       "      <td>0.000000</td>\n",
       "      <td>0.000000</td>\n",
       "      <td>0.000000</td>\n",
       "      <td>0.000000</td>\n",
       "      <td>0.00000</td>\n",
       "      <td>0.000000e+00</td>\n",
       "      <td>0.000000</td>\n",
       "      <td>0.003780</td>\n",
       "    </tr>\n",
       "    <tr>\n",
       "      <td>25%</td>\n",
       "      <td>50.750000</td>\n",
       "      <td>13.051490</td>\n",
       "      <td>76.594527</td>\n",
       "      <td>33.522500</td>\n",
       "      <td>3.320000</td>\n",
       "      <td>3.900000</td>\n",
       "      <td>1110.750000</td>\n",
       "      <td>302.250000</td>\n",
       "      <td>1555.250000</td>\n",
       "      <td>50.11250</td>\n",
       "      <td>...</td>\n",
       "      <td>5.397500</td>\n",
       "      <td>52.535000</td>\n",
       "      <td>399.500000</td>\n",
       "      <td>364.750000</td>\n",
       "      <td>0.000000</td>\n",
       "      <td>361.250000</td>\n",
       "      <td>233.00000</td>\n",
       "      <td>3.600000e+05</td>\n",
       "      <td>26.750000</td>\n",
       "      <td>0.224029</td>\n",
       "    </tr>\n",
       "    <tr>\n",
       "      <td>50%</td>\n",
       "      <td>100.500000</td>\n",
       "      <td>19.638665</td>\n",
       "      <td>77.671479</td>\n",
       "      <td>37.560000</td>\n",
       "      <td>5.510000</td>\n",
       "      <td>4.200000</td>\n",
       "      <td>2286.500000</td>\n",
       "      <td>663.500000</td>\n",
       "      <td>3043.000000</td>\n",
       "      <td>55.07000</td>\n",
       "      <td>...</td>\n",
       "      <td>13.350000</td>\n",
       "      <td>57.525000</td>\n",
       "      <td>743.000000</td>\n",
       "      <td>720.000000</td>\n",
       "      <td>41.500000</td>\n",
       "      <td>693.500000</td>\n",
       "      <td>477.00000</td>\n",
       "      <td>4.240000e+05</td>\n",
       "      <td>62.000000</td>\n",
       "      <td>0.487358</td>\n",
       "    </tr>\n",
       "    <tr>\n",
       "      <td>75%</td>\n",
       "      <td>150.250000</td>\n",
       "      <td>26.267202</td>\n",
       "      <td>80.107307</td>\n",
       "      <td>46.775000</td>\n",
       "      <td>8.620000</td>\n",
       "      <td>4.400000</td>\n",
       "      <td>3088.250000</td>\n",
       "      <td>1325.000000</td>\n",
       "      <td>4255.500000</td>\n",
       "      <td>63.09500</td>\n",
       "      <td>...</td>\n",
       "      <td>30.642500</td>\n",
       "      <td>64.392500</td>\n",
       "      <td>1020.000000</td>\n",
       "      <td>988.500000</td>\n",
       "      <td>130.000000</td>\n",
       "      <td>956.250000</td>\n",
       "      <td>693.75000</td>\n",
       "      <td>6.500000e+05</td>\n",
       "      <td>116.500000</td>\n",
       "      <td>0.754297</td>\n",
       "    </tr>\n",
       "    <tr>\n",
       "      <td>max</td>\n",
       "      <td>200.000000</td>\n",
       "      <td>36.078100</td>\n",
       "      <td>93.912680</td>\n",
       "      <td>89.930000</td>\n",
       "      <td>16.000000</td>\n",
       "      <td>5.000000</td>\n",
       "      <td>19206.000000</td>\n",
       "      <td>7256.000000</td>\n",
       "      <td>23144.000000</td>\n",
       "      <td>89.65000</td>\n",
       "      <td>...</td>\n",
       "      <td>96.150000</td>\n",
       "      <td>95.420000</td>\n",
       "      <td>6220.000000</td>\n",
       "      <td>5260.000000</td>\n",
       "      <td>471.000000</td>\n",
       "      <td>4708.000000</td>\n",
       "      <td>4139.00000</td>\n",
       "      <td>2.000000e+06</td>\n",
       "      <td>897.000000</td>\n",
       "      <td>0.999428</td>\n",
       "    </tr>\n",
       "  </tbody>\n",
       "</table>\n",
       "<p>8 rows × 22 columns</p>\n",
       "</div>"
      ],
      "text/plain": [
       "        NIRF Rank    Latitude   Longitude       score        Fees  \\\n",
       "count  200.000000  200.000000  200.000000  200.000000  200.000000   \n",
       "mean   100.490000   20.260253   75.581627   41.758350    6.204900   \n",
       "std     57.870067    6.888953   23.902263   11.725059    3.683286   \n",
       "min      1.000000    8.545851  -92.021094   31.090000    1.000000   \n",
       "25%     50.750000   13.051490   76.594527   33.522500    3.320000   \n",
       "50%    100.500000   19.638665   77.671479   37.560000    5.510000   \n",
       "75%    150.250000   26.267202   80.107307   46.775000    8.620000   \n",
       "max    200.000000   36.078100   93.912680   89.930000   16.000000   \n",
       "\n",
       "       Infrastructure  no. of male students  no. of female students  \\\n",
       "count      200.000000            200.000000              200.000000   \n",
       "mean         4.101500           2540.405000              954.505000   \n",
       "std          0.465976           2381.195209              977.574087   \n",
       "min          2.300000              0.000000               12.000000   \n",
       "25%          3.900000           1110.750000              302.250000   \n",
       "50%          4.200000           2286.500000              663.500000   \n",
       "75%          4.400000           3088.250000             1325.000000   \n",
       "max          5.000000          19206.000000             7256.000000   \n",
       "\n",
       "       total students  Graduation outcome(max 100)  ...  \\\n",
       "count      200.000000                    200.00000  ...   \n",
       "mean      3483.470000                     56.48880  ...   \n",
       "std       3120.438593                     11.74744  ...   \n",
       "min        105.000000                      1.00000  ...   \n",
       "25%       1555.250000                     50.11250  ...   \n",
       "50%       3043.000000                     55.07000  ...   \n",
       "75%       4255.500000                     63.09500  ...   \n",
       "max      23144.000000                     89.65000  ...   \n",
       "\n",
       "       Research, professional practice and collaborative performance(max 100)  \\\n",
       "count                                         200.000000                        \n",
       "mean                                           20.307350                        \n",
       "std                                            19.937026                        \n",
       "min                                             0.460000                        \n",
       "25%                                             5.397500                        \n",
       "50%                                            13.350000                        \n",
       "75%                                            30.642500                        \n",
       "max                                            96.150000                        \n",
       "\n",
       "       teaching, learning and resource(max 100)  \\\n",
       "count                                200.000000   \n",
       "mean                                  59.050150   \n",
       "std                                   10.152778   \n",
       "min                                   35.510000   \n",
       "25%                                   52.535000   \n",
       "50%                                   57.525000   \n",
       "75%                                   64.392500   \n",
       "max                                   95.420000   \n",
       "\n",
       "       No. of first year students intake in the year  \\\n",
       "count                                     200.000000   \n",
       "mean                                      846.880000   \n",
       "std                                       769.306041   \n",
       "min                                         0.000000   \n",
       "25%                                       399.500000   \n",
       "50%                                       743.000000   \n",
       "75%                                      1020.000000   \n",
       "max                                      6220.000000   \n",
       "\n",
       "       No. of first year students admitted the year  \\\n",
       "count                                    200.000000   \n",
       "mean                                     812.055000   \n",
       "std                                      724.085042   \n",
       "min                                        0.000000   \n",
       "25%                                      364.750000   \n",
       "50%                                      720.000000   \n",
       "75%                                      988.500000   \n",
       "max                                     5260.000000   \n",
       "\n",
       "       No. of students admitted through Lateral entry  \\\n",
       "count                                      200.000000   \n",
       "mean                                        72.955000   \n",
       "std                                         90.888761   \n",
       "min                                          0.000000   \n",
       "25%                                          0.000000   \n",
       "50%                                         41.500000   \n",
       "75%                                        130.000000   \n",
       "max                                        471.000000   \n",
       "\n",
       "       No. of students graduating in minimum stipulated time  \\\n",
       "count                                         200.000000       \n",
       "mean                                          776.945000       \n",
       "std                                           672.794735       \n",
       "min                                             0.000000       \n",
       "25%                                           361.250000       \n",
       "50%                                           693.500000       \n",
       "75%                                           956.250000       \n",
       "max                                          4708.000000       \n",
       "\n",
       "       No. of students placed  Median salary of placed graduates(Amount Rs.)  \\\n",
       "count               200.00000                                   2.000000e+02   \n",
       "mean                541.25500                                   5.569061e+05   \n",
       "std                 506.96459                                   3.095260e+05   \n",
       "min                   0.00000                                   0.000000e+00   \n",
       "25%                 233.00000                                   3.600000e+05   \n",
       "50%                 477.00000                                   4.240000e+05   \n",
       "75%                 693.75000                                   6.500000e+05   \n",
       "max                4139.00000                                   2.000000e+06   \n",
       "\n",
       "       No. of students selected for Higher in Studies  faltu column  \n",
       "count                                      200.000000    200.000000  \n",
       "mean                                        86.690000      0.497329  \n",
       "std                                         96.034248      0.293524  \n",
       "min                                          0.000000      0.003780  \n",
       "25%                                         26.750000      0.224029  \n",
       "50%                                         62.000000      0.487358  \n",
       "75%                                        116.500000      0.754297  \n",
       "max                                        897.000000      0.999428  \n",
       "\n",
       "[8 rows x 22 columns]"
      ]
     },
     "execution_count": 5,
     "metadata": {},
     "output_type": "execute_result"
    }
   ],
   "source": [
    "dataset.describe()"
   ]
  },
  {
   "cell_type": "code",
   "execution_count": 6,
   "metadata": {},
   "outputs": [
    {
     "name": "stdout",
     "output_type": "stream",
     "text": [
      "<class 'pandas.core.frame.DataFrame'>\n",
      "RangeIndex: 200 entries, 0 to 199\n",
      "Data columns (total 33 columns):\n",
      "NIRF Rank                                                                 200 non-null int64\n",
      "institute_id                                                              200 non-null object\n",
      "College Name                                                              200 non-null object\n",
      "City                                                                      200 non-null object\n",
      "State/UT                                                                  200 non-null object\n",
      "Latitude                                                                  200 non-null float64\n",
      "Longitude                                                                 200 non-null float64\n",
      "score                                                                     200 non-null float64\n",
      "link                                                                      200 non-null object\n",
      "Mode of Admission                                                         200 non-null object\n",
      "c.r os                                                                    27 non-null object\n",
      "hs                                                                        14 non-null object\n",
      "Fees                                                                      200 non-null float64\n",
      "Infrastructure                                                            200 non-null float64\n",
      "no. of male students                                                      200 non-null int64\n",
      "no. of female students                                                    200 non-null int64\n",
      "total students                                                            200 non-null int64\n",
      "Graduation outcome(max 100)                                               200 non-null float64\n",
      "Outreach and inclusivity(max 100)                                         200 non-null float64\n",
      "perception [academic peer and employers perception(max 100)]              200 non-null float64\n",
      "Research, professional practice and collaborative performance(max 100)    200 non-null float64\n",
      "teaching, learning and resource(max 100)                                  200 non-null float64\n",
      "Academic Year                                                             200 non-null object\n",
      "No. of first year students intake in the year                             200 non-null int64\n",
      "No. of first year students admitted the year                              200 non-null int64\n",
      "Academic Year in                                                          200 non-null object\n",
      "No. of students admitted through Lateral entry                            200 non-null int64\n",
      "Academic Year.1                                                           200 non-null object\n",
      "No. of students graduating in minimum stipulated time                     200 non-null int64\n",
      "No. of students placed                                                    200 non-null int64\n",
      "Median salary of placed graduates(Amount Rs.)                             200 non-null int64\n",
      "No. of students selected for Higher in Studies                            200 non-null int64\n",
      "faltu column                                                              200 non-null float64\n",
      "dtypes: float64(11), int64(11), object(11)\n",
      "memory usage: 51.7+ KB\n"
     ]
    }
   ],
   "source": [
    "dataset.info()"
   ]
  },
  {
   "cell_type": "code",
   "execution_count": 7,
   "metadata": {},
   "outputs": [
    {
     "data": {
      "text/plain": [
       "<Figure size 640x480 with 1 Axes>"
      ]
     },
     "metadata": {},
     "output_type": "display_data"
    },
    {
     "data": {
      "text/plain": [
       "<Figure size 640x480 with 1 Axes>"
      ]
     },
     "metadata": {},
     "output_type": "display_data"
    },
    {
     "data": {
      "text/plain": [
       "<Figure size 640x480 with 1 Axes>"
      ]
     },
     "metadata": {},
     "output_type": "display_data"
    },
    {
     "data": {
      "text/plain": [
       "<Figure size 640x480 with 1 Axes>"
      ]
     },
     "metadata": {},
     "output_type": "display_data"
    },
    {
     "data": {
      "text/plain": [
       "<Figure size 640x480 with 1 Axes>"
      ]
     },
     "metadata": {},
     "output_type": "display_data"
    }
   ],
   "source": [
    "import matplotlib.pyplot as plt\n",
    "import seaborn as sns\n",
    "\n",
    "\n",
    "fig = sns.distplot(dataset['Research, professional practice and collaborative performance(max 100)'], kde=False)\n",
    "plt.title(\"Distribution of Research, professional practice and collaborative performance(max 100)\")\n",
    "plt.show()\n",
    "\n",
    "fig = sns.distplot(dataset['teaching, learning and resource(max 100)'], kde=False)\n",
    "plt.title(\"teaching, learning and resource(max 100)\")\n",
    "plt.show()\n",
    "\n",
    "fig = sns.distplot(dataset['perception [academic peer and employers perception(max 100)]'], kde=False)\n",
    "plt.title(\"Distribution of perception [academic peer and employers perception(max 100)]\")\n",
    "plt.show()\n",
    "\n",
    "fig = sns.distplot(dataset['Outreach and inclusivity(max 100)'], kde=False)\n",
    "plt.title(\"Distribution of Outreach and inclusivity(max 100)\")\n",
    "plt.show()\n",
    "\n",
    "fig = sns.distplot(dataset['Graduation outcome(max 100)'], kde=False)\n",
    "plt.title(\"Distribution of Graduation outcome(max 100)\")\n",
    "plt.show()\n",
    "\n",
    "plt.show()"
   ]
  },
  {
   "cell_type": "code",
   "execution_count": null,
   "metadata": {},
   "outputs": [],
   "source": []
  },
  {
   "cell_type": "code",
   "execution_count": 8,
   "metadata": {},
   "outputs": [
    {
     "data": {
      "text/plain": [
       "Index(['NIRF Rank', 'institute_id', 'College Name', 'City', 'State/UT',\n",
       "       'Latitude', 'Longitude', 'score', 'link', 'Mode of Admission', 'c.r os',\n",
       "       'hs', 'Fees', 'Infrastructure', 'no. of male students',\n",
       "       'no. of female students', 'total students',\n",
       "       'Graduation outcome(max 100)', 'Outreach and inclusivity(max 100)',\n",
       "       'perception [academic peer and employers perception(max 100)]',\n",
       "       'Research, professional practice and collaborative performance(max 100)',\n",
       "       'teaching, learning and resource(max 100)', 'Academic Year',\n",
       "       'No. of first year students intake in the year',\n",
       "       'No. of first year students admitted the year', 'Academic Year in',\n",
       "       'No. of students admitted through Lateral entry', 'Academic Year.1',\n",
       "       'No. of students graduating in minimum stipulated time',\n",
       "       'No. of students placed',\n",
       "       'Median salary of placed graduates(Amount Rs.)',\n",
       "       'No. of students selected for Higher in Studies', 'faltu column'],\n",
       "      dtype='object')"
      ]
     },
     "execution_count": 8,
     "metadata": {},
     "output_type": "execute_result"
    }
   ],
   "source": [
    "dataset.columns"
   ]
  },
  {
   "cell_type": "code",
   "execution_count": 9,
   "metadata": {},
   "outputs": [],
   "source": [
    "independent_var=[ 'score','Fees', 'Infrastructure', 'no. of male students',\n",
    "       'no. of female students', 'total students',\n",
    "       'Graduation outcome(max 100)', 'Outreach and inclusivity(max 100)',\n",
    "       'perception [academic peer and employers perception(max 100)]',\n",
    "       'Research, professional practice and collaborative performance(max 100)',\n",
    "       'teaching, learning and resource(max 100)',\n",
    "       'No. of students graduating in minimum stipulated time',\n",
    "       'No. of students placed',\n",
    "       'Median salary of placed graduates(Amount Rs.)',\n",
    "       'No. of students selected for Higher in Studies']"
   ]
  },
  {
   "cell_type": "code",
   "execution_count": 10,
   "metadata": {},
   "outputs": [],
   "source": [
    "x=dataset[independent_var]\n",
    "y=dataset['NIRF Rank']"
   ]
  },
  {
   "cell_type": "code",
   "execution_count": 11,
   "metadata": {},
   "outputs": [],
   "source": [
    "import numpy as np"
   ]
  },
  {
   "cell_type": "code",
   "execution_count": 12,
   "metadata": {},
   "outputs": [],
   "source": [
    "from sklearn.model_selection import train_test_split"
   ]
  },
  {
   "cell_type": "markdown",
   "metadata": {},
   "source": [
    "# LINEAR REGRESSION"
   ]
  },
  {
   "cell_type": "code",
   "execution_count": 13,
   "metadata": {},
   "outputs": [],
   "source": [
    "from sklearn.linear_model import LinearRegression"
   ]
  },
  {
   "cell_type": "code",
   "execution_count": 14,
   "metadata": {},
   "outputs": [],
   "source": [
    "x_train,x_test,y_train,y_test=train_test_split(x,y,test_size=0.2,random_state=42)"
   ]
  },
  {
   "cell_type": "code",
   "execution_count": 15,
   "metadata": {},
   "outputs": [],
   "source": [
    "regressor=LinearRegression()"
   ]
  },
  {
   "cell_type": "code",
   "execution_count": 16,
   "metadata": {},
   "outputs": [
    {
     "data": {
      "text/plain": [
       "LinearRegression()"
      ]
     },
     "execution_count": 16,
     "metadata": {},
     "output_type": "execute_result"
    }
   ],
   "source": [
    "regressor.fit(x_train,y_train)"
   ]
  },
  {
   "cell_type": "code",
   "execution_count": 17,
   "metadata": {},
   "outputs": [
    {
     "name": "stdout",
     "output_type": "stream",
     "text": [
      "352.998158750585\n"
     ]
    }
   ],
   "source": [
    "print(regressor.intercept_)"
   ]
  },
  {
   "cell_type": "code",
   "execution_count": 18,
   "metadata": {},
   "outputs": [
    {
     "name": "stdout",
     "output_type": "stream",
     "text": [
      "[-1.07359894e+01 -1.25615421e+00  9.27373772e+00 -1.84946335e-02\n",
      " -1.65893136e-02  1.57044979e-02  5.90095951e-01  4.75036950e-01\n",
      "  1.70589721e+00  1.87570941e+00  7.90579049e-01 -1.09321465e-03\n",
      "  8.51316233e-03  4.89811884e-06  1.35440905e-03]\n"
     ]
    }
   ],
   "source": [
    "print(regressor.coef_)"
   ]
  },
  {
   "cell_type": "code",
   "execution_count": 19,
   "metadata": {},
   "outputs": [],
   "source": [
    "y_pred=regressor.predict(x_test)"
   ]
  },
  {
   "cell_type": "code",
   "execution_count": 20,
   "metadata": {},
   "outputs": [
    {
     "data": {
      "text/plain": [
       "array([122.19232708, 138.4342951 , 110.2347912 ,  47.26643907,\n",
       "       121.37482938, 130.77417627,   9.0107664 , 142.10965276,\n",
       "       106.68869575,  64.52102242,  55.02805115,  19.80564678,\n",
       "       129.59042165, 108.22119515, 148.87031867, -43.76649274,\n",
       "        56.1079573 ,  30.84848909, 110.39141214,  82.12082428,\n",
       "       121.59682784, 133.54883377, 140.23764724, 107.41404815,\n",
       "        76.7327692 , 150.77791811,  97.81414714, 187.64716981,\n",
       "       134.83273457, 153.65981514, 110.41016022, 140.10494156,\n",
       "       108.02524501, 150.89535793, 151.230275  , 145.00946506,\n",
       "        79.94604666,  31.36887895, 120.15553918,  23.40341091])"
      ]
     },
     "execution_count": 20,
     "metadata": {},
     "output_type": "execute_result"
    }
   ],
   "source": [
    "y_pred"
   ]
  },
  {
   "cell_type": "code",
   "execution_count": 21,
   "metadata": {},
   "outputs": [],
   "source": [
    "from sklearn import metrics"
   ]
  },
  {
   "cell_type": "code",
   "execution_count": 22,
   "metadata": {},
   "outputs": [
    {
     "name": "stdout",
     "output_type": "stream",
     "text": [
      "Mean Absolute Error:  21.63862180719432\n"
     ]
    }
   ],
   "source": [
    "print('Mean Absolute Error: ',metrics.mean_absolute_error(y_test,y_pred))"
   ]
  },
  {
   "cell_type": "code",
   "execution_count": 23,
   "metadata": {},
   "outputs": [
    {
     "name": "stdout",
     "output_type": "stream",
     "text": [
      "Mean Squared Error:  708.64894108569\n"
     ]
    }
   ],
   "source": [
    "print('Mean Squared Error: ',metrics.mean_squared_error(y_test,y_pred))"
   ]
  },
  {
   "cell_type": "code",
   "execution_count": 24,
   "metadata": {},
   "outputs": [
    {
     "name": "stdout",
     "output_type": "stream",
     "text": [
      "root mean squared error:  26.620460948031873\n"
     ]
    }
   ],
   "source": [
    "print('root mean squared error: ',np.sqrt(metrics.mean_squared_error(y_test,y_pred)))"
   ]
  },
  {
   "cell_type": "markdown",
   "metadata": {},
   "source": [
    "# RANDOM FOREST REGRESSOR "
   ]
  },
  {
   "cell_type": "code",
   "execution_count": 25,
   "metadata": {},
   "outputs": [],
   "source": [
    "from sklearn.ensemble import RandomForestRegressor"
   ]
  },
  {
   "cell_type": "code",
   "execution_count": 26,
   "metadata": {},
   "outputs": [],
   "source": [
    "regressor=RandomForestRegressor(n_estimators=50,random_state=0)"
   ]
  },
  {
   "cell_type": "code",
   "execution_count": 27,
   "metadata": {},
   "outputs": [],
   "source": [
    "regressor.fit(x_test, y_test)\n",
    "y_pred = regressor.predict(x_test)"
   ]
  },
  {
   "cell_type": "code",
   "execution_count": 28,
   "metadata": {},
   "outputs": [
    {
     "name": "stdout",
     "output_type": "stream",
     "text": [
      "Mean Absolute Error: 2.152500000000001\n",
      "Mean Squared Error: 7.310450000000007\n",
      "Root Mean Squared Error: 2.7037843848946252\n"
     ]
    }
   ],
   "source": [
    "print('Mean Absolute Error:', metrics.mean_absolute_error(y_test, y_pred))\n",
    "print('Mean Squared Error:', metrics.mean_squared_error(y_test, y_pred))\n",
    "print('Root Mean Squared Error:', np.sqrt(metrics.mean_squared_error(y_test, y_pred)))"
   ]
  },
  {
   "cell_type": "markdown",
   "metadata": {},
   "source": [
    "# SUPPORT VECTOR REGRESSOR"
   ]
  },
  {
   "cell_type": "code",
   "execution_count": 29,
   "metadata": {},
   "outputs": [],
   "source": [
    "from sklearn.preprocessing import StandardScaler\n",
    "from sklearn.svm import SVR\n",
    "\n",
    "sc = StandardScaler()\n",
    "train_data= sc.fit_transform(x_train)\n",
    "test_data= sc.transform(x_test)"
   ]
  },
  {
   "cell_type": "code",
   "execution_count": 30,
   "metadata": {},
   "outputs": [],
   "source": [
    "svr = SVR(kernel='linear')\n",
    "svr.fit(x_train,y_train)\n",
    "y_pred=svr.predict(x_test)"
   ]
  },
  {
   "cell_type": "code",
   "execution_count": 31,
   "metadata": {},
   "outputs": [
    {
     "name": "stdout",
     "output_type": "stream",
     "text": [
      "Mean Absolute Error: 8363.572195235092\n",
      "Mean Squared Error: 131667708.97030263\n",
      "Root Mean Squared Error: 11474.655069774542\n"
     ]
    }
   ],
   "source": [
    "print('Mean Absolute Error:', metrics.mean_absolute_error(y_test,y_pred))\n",
    "print('Mean Squared Error:', metrics.mean_squared_error(y_test,y_pred))\n",
    "print('Root Mean Squared Error:', np.sqrt(metrics.mean_squared_error(y_test,y_pred)))"
   ]
  },
  {
   "cell_type": "markdown",
   "metadata": {},
   "source": [
    "# DECISION TREE REGRESSOR"
   ]
  },
  {
   "cell_type": "code",
   "execution_count": 32,
   "metadata": {},
   "outputs": [],
   "source": [
    "from sklearn.tree import DecisionTreeRegressor"
   ]
  },
  {
   "cell_type": "code",
   "execution_count": 33,
   "metadata": {},
   "outputs": [],
   "source": [
    "regressor = DecisionTreeRegressor(max_depth=2)"
   ]
  },
  {
   "cell_type": "code",
   "execution_count": 34,
   "metadata": {},
   "outputs": [],
   "source": [
    "regressor.fit(x_train, y_train)\n",
    "y_pred = regressor.predict(x_test)"
   ]
  },
  {
   "cell_type": "code",
   "execution_count": 35,
   "metadata": {},
   "outputs": [
    {
     "name": "stdout",
     "output_type": "stream",
     "text": [
      "Mean Absolute Error: 11.981309523809523\n",
      "Mean Squared Error: 202.60170812074827\n",
      "Root Mean Squared Error: 14.23382268123178\n"
     ]
    }
   ],
   "source": [
    "print('Mean Absolute Error:', metrics.mean_absolute_error(y_test,y_pred))\n",
    "print('Mean Squared Error:', metrics.mean_squared_error(y_test,y_pred))\n",
    "print('Root Mean Squared Error:', np.sqrt(metrics.mean_squared_error(y_test,y_pred)))"
   ]
  },
  {
   "cell_type": "code",
   "execution_count": 36,
   "metadata": {},
   "outputs": [],
   "source": [
    "## trial with split 80/20 with only required parametreS"
   ]
  },
  {
   "cell_type": "code",
   "execution_count": 37,
   "metadata": {},
   "outputs": [],
   "source": [
    "indi_var=['Graduation outcome(max 100)', 'Outreach and inclusivity(max 100)',\n",
    "       'perception [academic peer and employers perception(max 100)]',\n",
    "       'Research, professional practice and collaborative performance(max 100)',\n",
    "       'teaching, learning and resource(max 100)']"
   ]
  },
  {
   "cell_type": "code",
   "execution_count": 38,
   "metadata": {},
   "outputs": [],
   "source": [
    "X=dataset[indi_var]\n",
    "Y=dataset['NIRF Rank']"
   ]
  },
  {
   "cell_type": "code",
   "execution_count": 39,
   "metadata": {},
   "outputs": [],
   "source": [
    "x_train,x_test,y_train,y_test=train_test_split(X,Y,test_size=0.2,random_state=42)"
   ]
  },
  {
   "cell_type": "markdown",
   "metadata": {},
   "source": [
    "# LINEAR REGRESSION"
   ]
  },
  {
   "cell_type": "code",
   "execution_count": 40,
   "metadata": {},
   "outputs": [],
   "source": [
    "regressor=LinearRegression()"
   ]
  },
  {
   "cell_type": "code",
   "execution_count": 41,
   "metadata": {},
   "outputs": [
    {
     "data": {
      "text/plain": [
       "LinearRegression()"
      ]
     },
     "execution_count": 41,
     "metadata": {},
     "output_type": "execute_result"
    }
   ],
   "source": [
    "regressor.fit(x_train,y_train)"
   ]
  },
  {
   "cell_type": "code",
   "execution_count": 42,
   "metadata": {},
   "outputs": [
    {
     "name": "stdout",
     "output_type": "stream",
     "text": [
      "360.60188547367585\n"
     ]
    }
   ],
   "source": [
    "print(regressor.intercept_)"
   ]
  },
  {
   "cell_type": "code",
   "execution_count": 43,
   "metadata": {},
   "outputs": [
    {
     "name": "stdout",
     "output_type": "stream",
     "text": [
      "[-1.12376851 -0.80602596  0.54869979 -1.50844441 -2.23134147]\n"
     ]
    }
   ],
   "source": [
    "print(regressor.coef_)"
   ]
  },
  {
   "cell_type": "code",
   "execution_count": 44,
   "metadata": {},
   "outputs": [],
   "source": [
    "y_pred=regressor.predict(x_test)"
   ]
  },
  {
   "cell_type": "code",
   "execution_count": 45,
   "metadata": {},
   "outputs": [
    {
     "data": {
      "text/plain": [
       "array([118.88993675, 131.64233164, 106.91082598,  45.73870249,\n",
       "       128.09990807, 142.04040362,   4.98253166, 138.82174142,\n",
       "       113.65004773,  68.54461733,  60.87904969,  36.26258932,\n",
       "       117.3410329 , 111.76309076, 145.74258893, -38.08149554,\n",
       "        51.46720781,  36.17314309, 109.0995219 ,  92.3354793 ,\n",
       "       122.48472281, 145.57029539, 140.27503148, 117.13529725,\n",
       "        86.04497102, 148.75692636, 106.03118026, 172.04876586,\n",
       "       127.78590797, 146.49655506, 117.39525617, 152.23991002,\n",
       "       107.8253988 , 150.37836582, 150.97322156, 137.57855278,\n",
       "        76.03101237,  30.80716784, 123.2902174 ,  33.75205805])"
      ]
     },
     "execution_count": 45,
     "metadata": {},
     "output_type": "execute_result"
    }
   ],
   "source": [
    "y_pred"
   ]
  },
  {
   "cell_type": "code",
   "execution_count": 46,
   "metadata": {},
   "outputs": [
    {
     "name": "stdout",
     "output_type": "stream",
     "text": [
      "Mean Absolute Error: 21.524571084967512\n",
      "Mean Squared Error: 684.0921095705156\n",
      "Root Mean Squared Error: 26.155154550690686\n"
     ]
    }
   ],
   "source": [
    "print('Mean Absolute Error:', metrics.mean_absolute_error(y_test,y_pred))\n",
    "print('Mean Squared Error:', metrics.mean_squared_error(y_test,y_pred))\n",
    "print('Root Mean Squared Error:', np.sqrt(metrics.mean_squared_error(y_test,y_pred)))"
   ]
  },
  {
   "cell_type": "code",
   "execution_count": 47,
   "metadata": {},
   "outputs": [],
   "source": [
    "##trial with split 70/30"
   ]
  },
  {
   "cell_type": "code",
   "execution_count": 48,
   "metadata": {},
   "outputs": [],
   "source": [
    "x_train,x_test,y_train,y_test=train_test_split(X,Y,test_size=0.3,random_state=42)"
   ]
  },
  {
   "cell_type": "code",
   "execution_count": 49,
   "metadata": {},
   "outputs": [],
   "source": [
    "regressor=LinearRegression()"
   ]
  },
  {
   "cell_type": "code",
   "execution_count": 50,
   "metadata": {},
   "outputs": [
    {
     "data": {
      "text/plain": [
       "LinearRegression()"
      ]
     },
     "execution_count": 50,
     "metadata": {},
     "output_type": "execute_result"
    }
   ],
   "source": [
    "regressor.fit(x_train,y_train)"
   ]
  },
  {
   "cell_type": "code",
   "execution_count": 51,
   "metadata": {},
   "outputs": [
    {
     "name": "stdout",
     "output_type": "stream",
     "text": [
      "367.6231973760227\n"
     ]
    }
   ],
   "source": [
    "print(regressor.intercept_)"
   ]
  },
  {
   "cell_type": "code",
   "execution_count": 52,
   "metadata": {},
   "outputs": [
    {
     "name": "stdout",
     "output_type": "stream",
     "text": [
      "[-1.24611552 -0.60636962  0.49347413 -1.60093462 -2.3613893 ]\n"
     ]
    }
   ],
   "source": [
    "print(regressor.coef_)"
   ]
  },
  {
   "cell_type": "code",
   "execution_count": 53,
   "metadata": {},
   "outputs": [],
   "source": [
    "y_pred=regressor.predict(x_test)"
   ]
  },
  {
   "cell_type": "code",
   "execution_count": 54,
   "metadata": {},
   "outputs": [
    {
     "data": {
      "text/plain": [
       "array([ 120.20348848,  134.16651634,  106.02072729,   43.34919873,\n",
       "        129.93587276,  143.51364614,   -4.49204181,  143.9227965 ,\n",
       "        116.20339318,   65.91113931,   56.99343859,   32.2217784 ,\n",
       "        119.12249101,  111.34223871,  149.27641129,  -50.20282345,\n",
       "         48.76013406,   30.86192802,  109.66781839,   98.9873421 ,\n",
       "        124.1360108 ,  150.50980392,  143.41851005,  116.11650307,\n",
       "         83.03062526,  152.19447272,  108.1795365 ,  176.27044424,\n",
       "        130.43829725,  149.41262069,  118.61594961,  152.60467385,\n",
       "        109.11052674,  151.06395246,  150.91739211,  137.05770513,\n",
       "         75.5120195 ,   25.18603269,  128.2076194 ,   30.90641525,\n",
       "        105.55448904,  154.17116987,  139.58607856,  114.77792106,\n",
       "        133.64314196,  -78.10218418,  154.27050579,  118.47441294,\n",
       "        191.91859377,  151.64014012,   51.16080279,   87.73725483,\n",
       "         25.32234591,   72.56470504, -101.5912225 ,  124.78184063,\n",
       "         64.55644304,   69.81980003,  115.04059964,   29.1028469 ])"
      ]
     },
     "execution_count": 54,
     "metadata": {},
     "output_type": "execute_result"
    }
   ],
   "source": [
    "y_pred"
   ]
  },
  {
   "cell_type": "code",
   "execution_count": 55,
   "metadata": {},
   "outputs": [
    {
     "name": "stdout",
     "output_type": "stream",
     "text": [
      "Mean Absolute Error: 22.822011424197918\n",
      "Mean Squared Error: 937.2264676703365\n",
      "Root Mean Squared Error: 30.614154694688803\n"
     ]
    }
   ],
   "source": [
    "print('Mean Absolute Error:', metrics.mean_absolute_error(y_test,y_pred))\n",
    "print('Mean Squared Error:', metrics.mean_squared_error(y_test,y_pred))\n",
    "print('Root Mean Squared Error:', np.sqrt(metrics.mean_squared_error(y_test,y_pred)))"
   ]
  },
  {
   "cell_type": "markdown",
   "metadata": {},
   "source": [
    "This indicates that 80-20 split gives better results"
   ]
  },
  {
   "cell_type": "markdown",
   "metadata": {},
   "source": [
    "# RANDOM FOREST REGRESSOR"
   ]
  },
  {
   "cell_type": "code",
   "execution_count": 56,
   "metadata": {},
   "outputs": [],
   "source": [
    "regressor = DecisionTreeRegressor(max_depth=20)"
   ]
  },
  {
   "cell_type": "code",
   "execution_count": 57,
   "metadata": {},
   "outputs": [],
   "source": [
    "regressor.fit(x_train, y_train)\n",
    "y_pred = regressor.predict(x_test)"
   ]
  },
  {
   "cell_type": "code",
   "execution_count": 58,
   "metadata": {},
   "outputs": [
    {
     "name": "stdout",
     "output_type": "stream",
     "text": [
      "Mean Absolute Error: 18.016666666666666\n",
      "Mean Squared Error: 569.05\n",
      "Root Mean Squared Error: 23.854768915250467\n"
     ]
    }
   ],
   "source": [
    "print('Mean Absolute Error:', metrics.mean_absolute_error(y_test, y_pred))\n",
    "print('Mean Squared Error:', metrics.mean_squared_error(y_test, y_pred))\n",
    "print('Root Mean Squared Error:', np.sqrt(metrics.mean_squared_error(y_test, y_pred)))"
   ]
  },
  {
   "cell_type": "code",
   "execution_count": null,
   "metadata": {},
   "outputs": [],
   "source": []
  },
  {
   "cell_type": "code",
   "execution_count": null,
   "metadata": {},
   "outputs": [],
   "source": []
  },
  {
   "cell_type": "code",
   "execution_count": null,
   "metadata": {},
   "outputs": [],
   "source": []
  },
  {
   "cell_type": "code",
   "execution_count": null,
   "metadata": {},
   "outputs": [],
   "source": []
  },
  {
   "cell_type": "code",
   "execution_count": 59,
   "metadata": {},
   "outputs": [],
   "source": [
    "import matplotlib.pyplot as plt\n",
    "import random"
   ]
  },
  {
   "cell_type": "code",
   "execution_count": 60,
   "metadata": {},
   "outputs": [],
   "source": [
    "from sklearn.linear_model import LinearRegression\n",
    "from sklearn.ensemble import RandomForestRegressor\n",
    "from sklearn.model_selection import GridSearchCV,train_test_split\n",
    "from sklearn.metrics import mean_absolute_error"
   ]
  },
  {
   "cell_type": "code",
   "execution_count": 61,
   "metadata": {},
   "outputs": [
    {
     "data": {
      "text/html": [
       "<div>\n",
       "<style scoped>\n",
       "    .dataframe tbody tr th:only-of-type {\n",
       "        vertical-align: middle;\n",
       "    }\n",
       "\n",
       "    .dataframe tbody tr th {\n",
       "        vertical-align: top;\n",
       "    }\n",
       "\n",
       "    .dataframe thead th {\n",
       "        text-align: right;\n",
       "    }\n",
       "</style>\n",
       "<table border=\"1\" class=\"dataframe\">\n",
       "  <thead>\n",
       "    <tr style=\"text-align: right;\">\n",
       "      <th></th>\n",
       "      <th>NIRF Rank</th>\n",
       "      <th>institute_id</th>\n",
       "      <th>College Name</th>\n",
       "      <th>City</th>\n",
       "      <th>State/UT</th>\n",
       "      <th>Latitude</th>\n",
       "      <th>Longitude</th>\n",
       "      <th>score</th>\n",
       "      <th>link</th>\n",
       "      <th>Mode of Admission</th>\n",
       "      <th>...</th>\n",
       "      <th>No. of first year students intake in the year</th>\n",
       "      <th>No. of first year students admitted the year</th>\n",
       "      <th>Academic Year in</th>\n",
       "      <th>No. of students admitted through Lateral entry</th>\n",
       "      <th>Academic Year.1</th>\n",
       "      <th>No. of students graduating in minimum stipulated time</th>\n",
       "      <th>No. of students placed</th>\n",
       "      <th>Median salary of placed graduates(Amount Rs.)</th>\n",
       "      <th>No. of students selected for Higher in Studies</th>\n",
       "      <th>faltu column</th>\n",
       "    </tr>\n",
       "  </thead>\n",
       "  <tbody>\n",
       "    <tr>\n",
       "      <td>0</td>\n",
       "      <td>170</td>\n",
       "      <td>IR-E-C-19706</td>\n",
       "      <td>Institute of Aeronautical Engineering</td>\n",
       "      <td>Hyderabad</td>\n",
       "      <td>Telangana</td>\n",
       "      <td>17.599927</td>\n",
       "      <td>78.417725</td>\n",
       "      <td>32.26</td>\n",
       "      <td>https://nirfcdn.azureedge.net/2020/pdf/Enginee...</td>\n",
       "      <td>JEE Advanced</td>\n",
       "      <td>...</td>\n",
       "      <td>960</td>\n",
       "      <td>867</td>\n",
       "      <td>2016-17</td>\n",
       "      <td>129</td>\n",
       "      <td>2018-19</td>\n",
       "      <td>862</td>\n",
       "      <td>440</td>\n",
       "      <td>337000</td>\n",
       "      <td>171</td>\n",
       "      <td>0.462298</td>\n",
       "    </tr>\n",
       "    <tr>\n",
       "      <td>1</td>\n",
       "      <td>175</td>\n",
       "      <td>IR-E-C-1438</td>\n",
       "      <td>The National Institute of Engineering</td>\n",
       "      <td>Mysore</td>\n",
       "      <td>Karnataka</td>\n",
       "      <td>12.284029</td>\n",
       "      <td>76.641147</td>\n",
       "      <td>32.17</td>\n",
       "      <td>https://nirfcdn.azureedge.net/2020/pdf/Enginee...</td>\n",
       "      <td>JEE Mains</td>\n",
       "      <td>...</td>\n",
       "      <td>780</td>\n",
       "      <td>801</td>\n",
       "      <td>2016-17</td>\n",
       "      <td>153</td>\n",
       "      <td>2018-19</td>\n",
       "      <td>784</td>\n",
       "      <td>570</td>\n",
       "      <td>423000</td>\n",
       "      <td>81</td>\n",
       "      <td>0.838771</td>\n",
       "    </tr>\n",
       "    <tr>\n",
       "      <td>2</td>\n",
       "      <td>148</td>\n",
       "      <td>IR-E-C-43264</td>\n",
       "      <td>National Institute of Foundry and Forge Techno...</td>\n",
       "      <td>Ranchi</td>\n",
       "      <td>Jharkhand</td>\n",
       "      <td>23.294140</td>\n",
       "      <td>85.310252</td>\n",
       "      <td>33.57</td>\n",
       "      <td>https://nirfcdn.azureedge.net/2020/pdf/Enginee...</td>\n",
       "      <td>JEE Mains</td>\n",
       "      <td>...</td>\n",
       "      <td>139</td>\n",
       "      <td>124</td>\n",
       "      <td>2016-17</td>\n",
       "      <td>0</td>\n",
       "      <td>2018-19</td>\n",
       "      <td>111</td>\n",
       "      <td>106</td>\n",
       "      <td>450000</td>\n",
       "      <td>5</td>\n",
       "      <td>0.417074</td>\n",
       "    </tr>\n",
       "    <tr>\n",
       "      <td>3</td>\n",
       "      <td>145</td>\n",
       "      <td>IR-E-U-0685</td>\n",
       "      <td>Indira Gandhi Delhi Technical University for W...</td>\n",
       "      <td>Delhi</td>\n",
       "      <td>Delhi</td>\n",
       "      <td>28.665259</td>\n",
       "      <td>77.232393</td>\n",
       "      <td>33.67</td>\n",
       "      <td>https://nirfcdn.azureedge.net/2020/pdf/Enginee...</td>\n",
       "      <td>JEE Mains</td>\n",
       "      <td>...</td>\n",
       "      <td>296</td>\n",
       "      <td>296</td>\n",
       "      <td>2016-17</td>\n",
       "      <td>0</td>\n",
       "      <td>2018-19</td>\n",
       "      <td>257</td>\n",
       "      <td>210</td>\n",
       "      <td>850000</td>\n",
       "      <td>32</td>\n",
       "      <td>0.484717</td>\n",
       "    </tr>\n",
       "    <tr>\n",
       "      <td>4</td>\n",
       "      <td>183</td>\n",
       "      <td>IR-E-U-0739</td>\n",
       "      <td>Madan Mohan Malaviya University of Technology</td>\n",
       "      <td>Gorakhpur</td>\n",
       "      <td>Uttar Pradesh</td>\n",
       "      <td>26.731430</td>\n",
       "      <td>83.433180</td>\n",
       "      <td>31.60</td>\n",
       "      <td>https://nirfcdn.azureedge.net/2020/pdf/Enginee...</td>\n",
       "      <td>JEE Mains</td>\n",
       "      <td>...</td>\n",
       "      <td>600</td>\n",
       "      <td>639</td>\n",
       "      <td>2016-17</td>\n",
       "      <td>159</td>\n",
       "      <td>2018-19</td>\n",
       "      <td>712</td>\n",
       "      <td>132</td>\n",
       "      <td>360000</td>\n",
       "      <td>72</td>\n",
       "      <td>0.969950</td>\n",
       "    </tr>\n",
       "    <tr>\n",
       "      <td>5</td>\n",
       "      <td>20</td>\n",
       "      <td>IR-E-U-0436</td>\n",
       "      <td>Amrita School of Engineering</td>\n",
       "      <td>Amritapuri</td>\n",
       "      <td>Kerala</td>\n",
       "      <td>34.367641</td>\n",
       "      <td>-89.539148</td>\n",
       "      <td>57.37</td>\n",
       "      <td>https://nirfcdn.azureedge.net/2020/pdf/Enginee...</td>\n",
       "      <td>AEEE</td>\n",
       "      <td>...</td>\n",
       "      <td>2040</td>\n",
       "      <td>2150</td>\n",
       "      <td>2016-17</td>\n",
       "      <td>0</td>\n",
       "      <td>2018-19</td>\n",
       "      <td>1768</td>\n",
       "      <td>1199</td>\n",
       "      <td>400000</td>\n",
       "      <td>343</td>\n",
       "      <td>0.343388</td>\n",
       "    </tr>\n",
       "    <tr>\n",
       "      <td>6</td>\n",
       "      <td>135</td>\n",
       "      <td>IR-E-C-37065</td>\n",
       "      <td>Kongu Engineering College</td>\n",
       "      <td>Perundurai</td>\n",
       "      <td>Tamil Nadu</td>\n",
       "      <td>11.274163</td>\n",
       "      <td>77.607027</td>\n",
       "      <td>34.45</td>\n",
       "      <td>https://nirfcdn.azureedge.net/2020/pdf/Enginee...</td>\n",
       "      <td>TNEA</td>\n",
       "      <td>...</td>\n",
       "      <td>1680</td>\n",
       "      <td>1617</td>\n",
       "      <td>2016-17</td>\n",
       "      <td>261</td>\n",
       "      <td>2018-19</td>\n",
       "      <td>1483</td>\n",
       "      <td>1167</td>\n",
       "      <td>300000</td>\n",
       "      <td>132</td>\n",
       "      <td>0.125507</td>\n",
       "    </tr>\n",
       "    <tr>\n",
       "      <td>7</td>\n",
       "      <td>15</td>\n",
       "      <td>IR-E-U-0490</td>\n",
       "      <td>Vellore Institute of Technology</td>\n",
       "      <td>Vellore</td>\n",
       "      <td>Tamil Nadu</td>\n",
       "      <td>12.971743</td>\n",
       "      <td>79.159417</td>\n",
       "      <td>59.32</td>\n",
       "      <td>https://nirfcdn.azureedge.net/2020/pdf/Enginee...</td>\n",
       "      <td>VITEEE</td>\n",
       "      <td>...</td>\n",
       "      <td>6220</td>\n",
       "      <td>5117</td>\n",
       "      <td>2016-17</td>\n",
       "      <td>0</td>\n",
       "      <td>2018-19</td>\n",
       "      <td>4666</td>\n",
       "      <td>2968</td>\n",
       "      <td>550000</td>\n",
       "      <td>897</td>\n",
       "      <td>0.715853</td>\n",
       "    </tr>\n",
       "    <tr>\n",
       "      <td>8</td>\n",
       "      <td>192</td>\n",
       "      <td>IR-E-C-16476</td>\n",
       "      <td>Sri Sai Ram Institute of Technology</td>\n",
       "      <td>Chennai</td>\n",
       "      <td>Tamil Nadu</td>\n",
       "      <td>12.960647</td>\n",
       "      <td>80.053232</td>\n",
       "      <td>31.32</td>\n",
       "      <td>https://nirfcdn.azureedge.net/2020/pdf/Enginee...</td>\n",
       "      <td>TNEA</td>\n",
       "      <td>...</td>\n",
       "      <td>720</td>\n",
       "      <td>694</td>\n",
       "      <td>2016-17</td>\n",
       "      <td>20</td>\n",
       "      <td>2018-19</td>\n",
       "      <td>649</td>\n",
       "      <td>553</td>\n",
       "      <td>335000</td>\n",
       "      <td>26</td>\n",
       "      <td>0.400809</td>\n",
       "    </tr>\n",
       "    <tr>\n",
       "      <td>9</td>\n",
       "      <td>120</td>\n",
       "      <td>IR-E-U-0175</td>\n",
       "      <td>YMCA University of Science and Technology</td>\n",
       "      <td>Faridabad</td>\n",
       "      <td>Haryana</td>\n",
       "      <td>28.367436</td>\n",
       "      <td>77.315811</td>\n",
       "      <td>35.91</td>\n",
       "      <td>https://nirfcdn.azureedge.net/2020/pdf/Enginee...</td>\n",
       "      <td>JEE Mains</td>\n",
       "      <td>...</td>\n",
       "      <td>420</td>\n",
       "      <td>420</td>\n",
       "      <td>2016-17</td>\n",
       "      <td>131</td>\n",
       "      <td>2018-19</td>\n",
       "      <td>425</td>\n",
       "      <td>381</td>\n",
       "      <td>350000</td>\n",
       "      <td>19</td>\n",
       "      <td>0.555259</td>\n",
       "    </tr>\n",
       "  </tbody>\n",
       "</table>\n",
       "<p>10 rows × 33 columns</p>\n",
       "</div>"
      ],
      "text/plain": [
       "   NIRF Rank  institute_id                                       College Name  \\\n",
       "0        170  IR-E-C-19706              Institute of Aeronautical Engineering   \n",
       "1        175   IR-E-C-1438              The National Institute of Engineering   \n",
       "2        148  IR-E-C-43264  National Institute of Foundry and Forge Techno...   \n",
       "3        145   IR-E-U-0685  Indira Gandhi Delhi Technical University for W...   \n",
       "4        183   IR-E-U-0739      Madan Mohan Malaviya University of Technology   \n",
       "5         20   IR-E-U-0436                       Amrita School of Engineering   \n",
       "6        135  IR-E-C-37065                          Kongu Engineering College   \n",
       "7         15   IR-E-U-0490                    Vellore Institute of Technology   \n",
       "8        192  IR-E-C-16476                Sri Sai Ram Institute of Technology   \n",
       "9        120   IR-E-U-0175          YMCA University of Science and Technology   \n",
       "\n",
       "         City       State/UT   Latitude  Longitude  score  \\\n",
       "0   Hyderabad      Telangana  17.599927  78.417725  32.26   \n",
       "1      Mysore      Karnataka  12.284029  76.641147  32.17   \n",
       "2      Ranchi      Jharkhand  23.294140  85.310252  33.57   \n",
       "3       Delhi          Delhi  28.665259  77.232393  33.67   \n",
       "4   Gorakhpur  Uttar Pradesh  26.731430  83.433180  31.60   \n",
       "5  Amritapuri         Kerala  34.367641 -89.539148  57.37   \n",
       "6  Perundurai     Tamil Nadu  11.274163  77.607027  34.45   \n",
       "7     Vellore     Tamil Nadu  12.971743  79.159417  59.32   \n",
       "8     Chennai     Tamil Nadu  12.960647  80.053232  31.32   \n",
       "9   Faridabad        Haryana  28.367436  77.315811  35.91   \n",
       "\n",
       "                                                link Mode of Admission  ...  \\\n",
       "0  https://nirfcdn.azureedge.net/2020/pdf/Enginee...      JEE Advanced  ...   \n",
       "1  https://nirfcdn.azureedge.net/2020/pdf/Enginee...         JEE Mains  ...   \n",
       "2  https://nirfcdn.azureedge.net/2020/pdf/Enginee...         JEE Mains  ...   \n",
       "3  https://nirfcdn.azureedge.net/2020/pdf/Enginee...         JEE Mains  ...   \n",
       "4  https://nirfcdn.azureedge.net/2020/pdf/Enginee...         JEE Mains  ...   \n",
       "5  https://nirfcdn.azureedge.net/2020/pdf/Enginee...              AEEE  ...   \n",
       "6  https://nirfcdn.azureedge.net/2020/pdf/Enginee...              TNEA  ...   \n",
       "7  https://nirfcdn.azureedge.net/2020/pdf/Enginee...            VITEEE  ...   \n",
       "8  https://nirfcdn.azureedge.net/2020/pdf/Enginee...              TNEA  ...   \n",
       "9  https://nirfcdn.azureedge.net/2020/pdf/Enginee...         JEE Mains  ...   \n",
       "\n",
       "  No. of first year students intake in the year  \\\n",
       "0                                           960   \n",
       "1                                           780   \n",
       "2                                           139   \n",
       "3                                           296   \n",
       "4                                           600   \n",
       "5                                          2040   \n",
       "6                                          1680   \n",
       "7                                          6220   \n",
       "8                                           720   \n",
       "9                                           420   \n",
       "\n",
       "  No. of first year students admitted the year  Academic Year in  \\\n",
       "0                                          867           2016-17   \n",
       "1                                          801           2016-17   \n",
       "2                                          124           2016-17   \n",
       "3                                          296           2016-17   \n",
       "4                                          639           2016-17   \n",
       "5                                         2150           2016-17   \n",
       "6                                         1617           2016-17   \n",
       "7                                         5117           2016-17   \n",
       "8                                          694           2016-17   \n",
       "9                                          420           2016-17   \n",
       "\n",
       "   No. of students admitted through Lateral entry  Academic Year.1  \\\n",
       "0                                             129          2018-19   \n",
       "1                                             153          2018-19   \n",
       "2                                               0          2018-19   \n",
       "3                                               0          2018-19   \n",
       "4                                             159          2018-19   \n",
       "5                                               0          2018-19   \n",
       "6                                             261          2018-19   \n",
       "7                                               0          2018-19   \n",
       "8                                              20          2018-19   \n",
       "9                                             131          2018-19   \n",
       "\n",
       "   No. of students graduating in minimum stipulated time  \\\n",
       "0                                                862       \n",
       "1                                                784       \n",
       "2                                                111       \n",
       "3                                                257       \n",
       "4                                                712       \n",
       "5                                               1768       \n",
       "6                                               1483       \n",
       "7                                               4666       \n",
       "8                                                649       \n",
       "9                                                425       \n",
       "\n",
       "   No. of students placed  Median salary of placed graduates(Amount Rs.)  \\\n",
       "0                     440                                         337000   \n",
       "1                     570                                         423000   \n",
       "2                     106                                         450000   \n",
       "3                     210                                         850000   \n",
       "4                     132                                         360000   \n",
       "5                    1199                                         400000   \n",
       "6                    1167                                         300000   \n",
       "7                    2968                                         550000   \n",
       "8                     553                                         335000   \n",
       "9                     381                                         350000   \n",
       "\n",
       "   No. of students selected for Higher in Studies  faltu column  \n",
       "0                                             171      0.462298  \n",
       "1                                              81      0.838771  \n",
       "2                                               5      0.417074  \n",
       "3                                              32      0.484717  \n",
       "4                                              72      0.969950  \n",
       "5                                             343      0.343388  \n",
       "6                                             132      0.125507  \n",
       "7                                             897      0.715853  \n",
       "8                                              26      0.400809  \n",
       "9                                              19      0.555259  \n",
       "\n",
       "[10 rows x 33 columns]"
      ]
     },
     "execution_count": 61,
     "metadata": {},
     "output_type": "execute_result"
    }
   ],
   "source": [
    "dataset.head(10)"
   ]
  },
  {
   "cell_type": "code",
   "execution_count": 62,
   "metadata": {},
   "outputs": [],
   "source": [
    "classifier = RandomForestRegressor()\n",
    "classifier.fit(X,Y)\n",
    "feature_names = X.columns\n",
    "importance_frame = pd.DataFrame()\n",
    "importance_frame['Features'] = X.columns\n",
    "importance_frame['Importance'] = classifier.feature_importances_\n",
    "importance_frame = importance_frame.sort_values(by=['Importance'],ascending=True)"
   ]
  },
  {
   "cell_type": "code",
   "execution_count": 63,
   "metadata": {},
   "outputs": [
    {
     "data": {
      "image/png": "[encoded data removed]",
      "text/plain": [
       "<Figure size 432x288 with 1 Axes>"
      ]
     },
     "metadata": {
      "needs_background": "light"
     },
     "output_type": "display_data"
    }
   ],
   "source": [
    "plt.barh([1,2,3,4,5], importance_frame['Importance'], align='center', alpha=0.9)\n",
    "plt.yticks([1,2,3,4,5], importance_frame['Features'])\n",
    "plt.xlabel('Importance')\n",
    "plt.title('Feature Importances')\n",
    "plt.show()"
   ]
  },
  {
   "cell_type": "code",
   "execution_count": 64,
   "metadata": {},
   "outputs": [
    {
     "name": "stdout",
     "output_type": "stream",
     "text": [
      "Results...\n",
      "DecisionTree : 20.900956915892632\n",
      "Linear Regression : 30.614154694688803\n",
      "RandomForest : 16.791570156877324\n",
      "KNeighbours : 14.124594389456522\n",
      "SVM : 45.01462483352517\n",
      "AdaBoostClassifier : 21.138640358765553\n",
      "GradientBoostingClassifier:  13.488027738939415\n",
      "Lasso:  30.632005507218942\n",
      "Ridge:  30.613707270286802\n",
      "BayesianRidge:  30.489933140139836\n",
      "ElasticNet:  30.593499386681298\n",
      "HuberRegressor:  34.47847597343498\n"
     ]
    }
   ],
   "source": [
    "from sklearn.metrics import accuracy_score\n",
    "from sklearn.tree import DecisionTreeRegressor\n",
    "from sklearn.ensemble import RandomForestRegressor\n",
    "from sklearn.neighbors import KNeighborsRegressor\n",
    "from sklearn.svm import SVR\n",
    "from sklearn.linear_model import LinearRegression\n",
    "from sklearn.ensemble import AdaBoostRegressor\n",
    "from sklearn.ensemble import GradientBoostingRegressor\n",
    "#from xgboost import XGBRegressor\n",
    "#from catboost import CatBoostRegressor\n",
    "from sklearn.linear_model import Lasso,Ridge,BayesianRidge,ElasticNet,HuberRegressor,LinearRegression,LogisticRegression,SGDRegressor\n",
    "from sklearn.metrics import mean_squared_error\n",
    "\n",
    "models = [['DecisionTree :',DecisionTreeRegressor()],\n",
    "           ['Linear Regression :', LinearRegression()],\n",
    "           ['RandomForest :',RandomForestRegressor()],\n",
    "           ['KNeighbours :', KNeighborsRegressor(n_neighbors = 2)],\n",
    "           ['SVM :', SVR()],\n",
    "           ['AdaBoostClassifier :', AdaBoostRegressor()],\n",
    "           ['GradientBoostingClassifier: ', GradientBoostingRegressor()],\n",
    "        \n",
    "           ['Lasso: ', Lasso()],\n",
    "           ['Ridge: ', Ridge()],\n",
    "           ['BayesianRidge: ', BayesianRidge()],\n",
    "           ['ElasticNet: ', ElasticNet()],\n",
    "           ['HuberRegressor: ', HuberRegressor()]]\n",
    "\n",
    "print(\"Results...\")\n",
    "\n",
    "\n",
    "for name,model in models:\n",
    "    model = model\n",
    "    model.fit(x_train, y_train)\n",
    "    predictions = model.predict(x_test)\n",
    "    print(name, (np.sqrt(mean_squared_error(y_test, predictions))))\n"
   ]
  },
  {
   "cell_type": "code",
   "execution_count": 65,
   "metadata": {},
   "outputs": [],
   "source": [
    "from sklearn.preprocessing import StandardScaler \n",
    "sc_x=StandardScaler()\n",
    "x_train=sc_x.fit_transform(x_train)\n",
    "x_test=sc_x.fit_transform(x_test)"
   ]
  },
  {
   "cell_type": "code",
   "execution_count": 66,
   "metadata": {},
   "outputs": [],
   "source": [
    "import keras \n",
    "from keras.models import Sequential \n",
    "from keras.layers import Dense "
   ]
  },
  {
   "cell_type": "code",
   "execution_count": 67,
   "metadata": {},
   "outputs": [],
   "source": [
    "#pip install tensorflow"
   ]
  },
  {
   "cell_type": "code",
   "execution_count": 68,
   "metadata": {},
   "outputs": [],
   "source": [
    "classifier_6=Sequential()"
   ]
  },
  {
   "cell_type": "code",
   "execution_count": 69,
   "metadata": {},
   "outputs": [],
   "source": [
    "classifier_6.add(Dense(6,activation='relu',input_dim=5))\n"
   ]
  },
  {
   "cell_type": "code",
   "execution_count": 70,
   "metadata": {},
   "outputs": [],
   "source": [
    "classifier_6.add(Dense(units=6,activation='relu',input_dim=5))\n"
   ]
  },
  {
   "cell_type": "code",
   "execution_count": 71,
   "metadata": {},
   "outputs": [],
   "source": [
    "classifier_6.add(Dense(units=5,activation='relu'))"
   ]
  },
  {
   "cell_type": "code",
   "execution_count": 72,
   "metadata": {},
   "outputs": [],
   "source": [
    "classifier_6.add(Dense(units=1,activation='sigmoid'))"
   ]
  },
  {
   "cell_type": "code",
   "execution_count": 73,
   "metadata": {},
   "outputs": [],
   "source": [
    "classifier_6.compile(optimizer='adam',loss='binary_crossentropy',metrics=['accuracy'])"
   ]
  },
  {
   "cell_type": "code",
   "execution_count": 74,
   "metadata": {},
   "outputs": [
    {
     "name": "stdout",
     "output_type": "stream",
     "text": [
      "Epoch 1/100\n",
      "14/14 [==============================] - 0s 5ms/step - loss: -8.4259 - accuracy: 0.0000e+00\n",
      "Epoch 2/100\n",
      "14/14 [==============================] - 0s 4ms/step - loss: -13.9374 - accuracy: 0.0000e+00\n",
      "Epoch 3/100\n",
      "14/14 [==============================] - 0s 4ms/step - loss: -19.7801 - accuracy: 0.0000e+00\n",
      "Epoch 4/100\n",
      "14/14 [==============================] - 0s 5ms/step - loss: -26.3079 - accuracy: 0.0000e+00\n",
      "Epoch 5/100\n",
      "14/14 [==============================] - 0s 3ms/step - loss: -34.3103 - accuracy: 0.0000e+00\n",
      "Epoch 6/100\n",
      "14/14 [==============================] - 0s 2ms/step - loss: -44.3041 - accuracy: 0.0000e+00\n",
      "Epoch 7/100\n",
      "14/14 [==============================] - 0s 1ms/step - loss: -56.9616 - accuracy: 0.0000e+00\n",
      "Epoch 8/100\n",
      "14/14 [==============================] - 0s 1ms/step - loss: -72.1345 - accuracy: 0.0000e+00\n",
      "Epoch 9/100\n",
      "14/14 [==============================] - 0s 2ms/step - loss: -90.7348 - accuracy: 0.0000e+00\n",
      "Epoch 10/100\n",
      "14/14 [==============================] - 0s 2ms/step - loss: -114.3947 - accuracy: 0.0000e+00\n",
      "Epoch 11/100\n",
      "14/14 [==============================] - 0s 2ms/step - loss: -143.3339 - accuracy: 0.0000e+00\n",
      "Epoch 12/100\n",
      "14/14 [==============================] - 0s 3ms/step - loss: -179.7980 - accuracy: 0.0000e+00\n",
      "Epoch 13/100\n",
      "14/14 [==============================] - 0s 3ms/step - loss: -223.6036 - accuracy: 0.0000e+00\n",
      "Epoch 14/100\n",
      "14/14 [==============================] - 0s 3ms/step - loss: -278.7539 - accuracy: 0.0000e+00\n",
      "Epoch 15/100\n",
      "14/14 [==============================] - 0s 4ms/step - loss: -344.4743 - accuracy: 0.0000e+00\n",
      "Epoch 16/100\n",
      "14/14 [==============================] - 0s 4ms/step - loss: -425.2676 - accuracy: 0.0000e+00\n",
      "Epoch 17/100\n",
      "14/14 [==============================] - 0s 2ms/step - loss: -521.8763 - accuracy: 0.0000e+00\n",
      "Epoch 18/100\n",
      "14/14 [==============================] - 0s 2ms/step - loss: -632.0657 - accuracy: 0.0000e+00\n",
      "Epoch 19/100\n",
      "14/14 [==============================] - 0s 2ms/step - loss: -767.1899 - accuracy: 0.0000e+00\n",
      "Epoch 20/100\n",
      "14/14 [==============================] - 0s 2ms/step - loss: -921.3663 - accuracy: 0.0000e+00\n",
      "Epoch 21/100\n",
      "14/14 [==============================] - 0s 2ms/step - loss: -1106.1699 - accuracy: 0.0000e+00\n",
      "Epoch 22/100\n",
      "14/14 [==============================] - 0s 3ms/step - loss: -1315.4462 - accuracy: 0.0000e+00\n",
      "Epoch 23/100\n",
      "14/14 [==============================] - 0s 4ms/step - loss: -1569.0287 - accuracy: 0.0000e+00\n",
      "Epoch 24/100\n",
      "14/14 [==============================] - 0s 4ms/step - loss: -1856.1342 - accuracy: 0.0000e+00\n",
      "Epoch 25/100\n",
      "14/14 [==============================] - 0s 3ms/step - loss: -2188.7468 - accuracy: 0.0000e+00\n",
      "Epoch 26/100\n",
      "14/14 [==============================] - 0s 3ms/step - loss: -2561.8130 - accuracy: 0.0000e+00\n",
      "Epoch 27/100\n",
      "14/14 [==============================] - 0s 3ms/step - loss: -2986.7507 - accuracy: 0.0000e+00\n",
      "Epoch 28/100\n",
      "14/14 [==============================] - 0s 1ms/step - loss: -3475.8530 - accuracy: 0.0000e+00\n",
      "Epoch 29/100\n",
      "14/14 [==============================] - 0s 1ms/step - loss: -4037.1799 - accuracy: 0.0000e+00\n",
      "Epoch 30/100\n",
      "14/14 [==============================] - 0s 2ms/step - loss: -4628.0879 - accuracy: 0.0000e+00\n",
      "Epoch 31/100\n",
      "14/14 [==============================] - 0s 2ms/step - loss: -5336.6206 - accuracy: 0.0000e+00\n",
      "Epoch 32/100\n",
      "14/14 [==============================] - 0s 2ms/step - loss: -6065.5703 - accuracy: 0.0000e+00\n",
      "Epoch 33/100\n",
      "14/14 [==============================] - 0s 3ms/step - loss: -6909.2964 - accuracy: 0.0000e+00\n",
      "Epoch 34/100\n",
      "14/14 [==============================] - 0s 3ms/step - loss: -7823.8115 - accuracy: 0.0000e+00\n",
      "Epoch 35/100\n",
      "14/14 [==============================] - 0s 3ms/step - loss: -8857.1084 - accuracy: 0.0000e+00\n",
      "Epoch 36/100\n",
      "14/14 [==============================] - 0s 3ms/step - loss: -9927.3486 - accuracy: 0.0000e+00\n",
      "Epoch 37/100\n",
      "14/14 [==============================] - 0s 3ms/step - loss: -11137.7109 - accuracy: 0.0000e+00\n",
      "Epoch 38/100\n",
      "14/14 [==============================] - 0s 3ms/step - loss: -12452.6758 - accuracy: 0.0000e+00\n",
      "Epoch 39/100\n",
      "14/14 [==============================] - 0s 3ms/step - loss: -13858.3965 - accuracy: 0.0000e+00\n",
      "Epoch 40/100\n",
      "14/14 [==============================] - 0s 3ms/step - loss: -15405.4980 - accuracy: 0.0000e+00\n",
      "Epoch 41/100\n",
      "14/14 [==============================] - 0s 3ms/step - loss: -17040.8770 - accuracy: 0.0000e+00\n",
      "Epoch 42/100\n",
      "14/14 [==============================] - 0s 3ms/step - loss: -18833.1191 - accuracy: 0.0000e+00\n",
      "Epoch 43/100\n",
      "14/14 [==============================] - 0s 3ms/step - loss: -20707.5645 - accuracy: 0.0000e+00\n",
      "Epoch 44/100\n",
      "14/14 [==============================] - 0s 3ms/step - loss: -22796.9453 - accuracy: 0.0000e+00\n",
      "Epoch 45/100\n",
      "14/14 [==============================] - 0s 3ms/step - loss: -25003.8691 - accuracy: 0.0000e+00\n",
      "Epoch 46/100\n",
      "14/14 [==============================] - 0s 3ms/step - loss: -27291.2754 - accuracy: 0.0000e+00\n",
      "Epoch 47/100\n",
      "14/14 [==============================] - 0s 3ms/step - loss: -29835.0293 - accuracy: 0.0000e+00\n",
      "Epoch 48/100\n",
      "14/14 [==============================] - 0s 2ms/step - loss: -32513.8242 - accuracy: 0.0000e+00\n",
      "Epoch 49/100\n",
      "14/14 [==============================] - 0s 1ms/step - loss: -35349.3047 - accuracy: 0.0000e+00\n",
      "Epoch 50/100\n",
      "14/14 [==============================] - 0s 1ms/step - loss: -38302.0430 - accuracy: 0.0000e+00\n",
      "Epoch 51/100\n",
      "14/14 [==============================] - 0s 2ms/step - loss: -41578.6484 - accuracy: 0.0000e+00\n",
      "Epoch 52/100\n",
      "14/14 [==============================] - 0s 2ms/step - loss: -44990.1445 - accuracy: 0.0000e+00\n",
      "Epoch 53/100\n",
      "14/14 [==============================] - 0s 2ms/step - loss: -48513.2812 - accuracy: 0.0000e+00\n",
      "Epoch 54/100\n",
      "14/14 [==============================] - 0s 2ms/step - loss: -52383.0039 - accuracy: 0.0000e+00\n",
      "Epoch 55/100\n",
      "14/14 [==============================] - 0s 3ms/step - loss: -56462.3281 - accuracy: 0.0000e+00\n",
      "Epoch 56/100\n",
      "14/14 [==============================] - 0s 3ms/step - loss: -60591.6719 - accuracy: 0.0000e+00\n",
      "Epoch 57/100\n",
      "14/14 [==============================] - 0s 3ms/step - loss: -65127.7227 - accuracy: 0.0000e+00\n",
      "Epoch 58/100\n",
      "14/14 [==============================] - 0s 3ms/step - loss: -69900.5625 - accuracy: 0.0000e+00\n",
      "Epoch 59/100\n",
      "14/14 [==============================] - 0s 3ms/step - loss: -74718.8438 - accuracy: 0.0000e+00\n",
      "Epoch 60/100\n",
      "14/14 [==============================] - 0s 3ms/step - loss: -79913.5234 - accuracy: 0.0000e+00\n",
      "Epoch 61/100\n",
      "14/14 [==============================] - 0s 3ms/step - loss: -85329.5703 - accuracy: 0.0000e+00\n",
      "Epoch 62/100\n",
      "14/14 [==============================] - 0s 3ms/step - loss: -91125.7109 - accuracy: 0.0000e+00\n",
      "Epoch 63/100\n",
      "14/14 [==============================] - 0s 3ms/step - loss: -97163.6953 - accuracy: 0.0000e+00\n",
      "Epoch 64/100\n",
      "14/14 [==============================] - 0s 3ms/step - loss: -103082.5625 - accuracy: 0.0000e+00\n",
      "Epoch 65/100\n",
      "14/14 [==============================] - 0s 3ms/step - loss: -109643.8828 - accuracy: 0.0000e+00\n",
      "Epoch 66/100\n",
      "14/14 [==============================] - 0s 3ms/step - loss: -116553.1328 - accuracy: 0.0000e+00\n",
      "Epoch 67/100\n",
      "14/14 [==============================] - 0s 3ms/step - loss: -123653.4297 - accuracy: 0.0000e+00\n",
      "Epoch 68/100\n",
      "14/14 [==============================] - 0s 3ms/step - loss: -131045.3438 - accuracy: 0.0000e+00\n",
      "Epoch 69/100\n",
      "14/14 [==============================] - 0s 3ms/step - loss: -138673.4375 - accuracy: 0.0000e+00\n",
      "Epoch 70/100\n",
      "14/14 [==============================] - 0s 3ms/step - loss: -146727.0938 - accuracy: 0.0000e+00\n",
      "Epoch 71/100\n",
      "14/14 [==============================] - 0s 3ms/step - loss: -155323.1406 - accuracy: 0.0000e+00\n",
      "Epoch 72/100\n",
      "14/14 [==============================] - 0s 1ms/step - loss: -164058.3750 - accuracy: 0.0000e+00\n",
      "Epoch 73/100\n",
      "14/14 [==============================] - 0s 1ms/step - loss: -172968.3281 - accuracy: 0.0000e+00\n",
      "Epoch 74/100\n",
      "14/14 [==============================] - 0s 2ms/step - loss: -182345.4219 - accuracy: 0.0000e+00\n",
      "Epoch 75/100\n",
      "14/14 [==============================] - 0s 3ms/step - loss: -192235.5781 - accuracy: 0.0000e+00\n",
      "Epoch 76/100\n",
      "14/14 [==============================] - 0s 4ms/step - loss: -202454.4062 - accuracy: 0.0000e+00\n",
      "Epoch 77/100\n",
      "14/14 [==============================] - 0s 3ms/step - loss: -212965.7188 - accuracy: 0.0000e+00\n",
      "Epoch 78/100\n",
      "14/14 [==============================] - 0s 3ms/step - loss: -223811.9531 - accuracy: 0.0000e+00\n",
      "Epoch 79/100\n",
      "14/14 [==============================] - 0s 3ms/step - loss: -235660.0000 - accuracy: 0.0000e+00\n",
      "Epoch 80/100\n",
      "14/14 [==============================] - 0s 2ms/step - loss: -247313.9375 - accuracy: 0.0000e+00\n",
      "Epoch 81/100\n",
      "14/14 [==============================] - 0s 2ms/step - loss: -259714.8594 - accuracy: 0.0000e+00\n",
      "Epoch 82/100\n",
      "14/14 [==============================] - 0s 2ms/step - loss: -272353.0000 - accuracy: 0.0000e+00\n",
      "Epoch 83/100\n",
      "14/14 [==============================] - 0s 2ms/step - loss: -285460.6562 - accuracy: 0.0000e+00\n",
      "Epoch 84/100\n",
      "14/14 [==============================] - 0s 2ms/step - loss: -299300.7812 - accuracy: 0.0000e+00\n",
      "Epoch 85/100\n",
      "14/14 [==============================] - 0s 2ms/step - loss: -313882.7500 - accuracy: 0.0000e+00\n",
      "Epoch 86/100\n",
      "14/14 [==============================] - 0s 2ms/step - loss: -328264.0000 - accuracy: 0.0000e+00\n",
      "Epoch 87/100\n",
      "14/14 [==============================] - 0s 2ms/step - loss: -343187.4062 - accuracy: 0.0000e+00\n",
      "Epoch 88/100\n",
      "14/14 [==============================] - 0s 2ms/step - loss: -359067.5938 - accuracy: 0.0000e+00\n",
      "Epoch 89/100\n",
      "14/14 [==============================] - 0s 2ms/step - loss: -375434.2812 - accuracy: 0.0000e+00\n",
      "Epoch 90/100\n",
      "14/14 [==============================] - 0s 2ms/step - loss: -392190.6250 - accuracy: 0.0000e+00\n",
      "Epoch 91/100\n",
      "14/14 [==============================] - 0s 2ms/step - loss: -409478.1875 - accuracy: 0.0000e+00\n",
      "Epoch 92/100\n",
      "14/14 [==============================] - 0s 2ms/step - loss: -427269.5000 - accuracy: 0.0000e+00\n",
      "Epoch 93/100\n",
      "14/14 [==============================] - 0s 2ms/step - loss: -446079.0000 - accuracy: 0.0000e+00\n",
      "Epoch 94/100\n",
      "14/14 [==============================] - 0s 2ms/step - loss: -464898.5312 - accuracy: 0.0000e+00\n",
      "Epoch 95/100\n",
      "14/14 [==============================] - 0s 1ms/step - loss: -484286.2188 - accuracy: 0.0000e+00\n",
      "Epoch 96/100\n",
      "14/14 [==============================] - 0s 1ms/step - loss: -504249.3125 - accuracy: 0.0000e+00\n",
      "Epoch 97/100\n",
      "14/14 [==============================] - 0s 1ms/step - loss: -524992.7500 - accuracy: 0.0000e+00\n",
      "Epoch 98/100\n",
      "14/14 [==============================] - 0s 2ms/step - loss: -546634.5625 - accuracy: 0.0000e+00\n",
      "Epoch 99/100\n",
      "14/14 [==============================] - 0s 2ms/step - loss: -568726.5000 - accuracy: 0.0000e+00\n",
      "Epoch 100/100\n",
      "14/14 [==============================] - 0s 2ms/step - loss: -590724.3750 - accuracy: 0.0000e+00\n"
     ]
    },
    {
     "data": {
      "text/plain": [
       "<tensorflow.python.keras.callbacks.History at 0x2ca19175dc8>"
      ]
     },
     "execution_count": 74,
     "metadata": {},
     "output_type": "execute_result"
    }
   ],
   "source": [
    "classifier_6.fit(x_train, y_train,batch_size=10,epochs=100)"
   ]
  },
  {
   "cell_type": "code",
   "execution_count": 75,
   "metadata": {},
   "outputs": [
    {
     "data": {
      "text/plain": [
       "array([[ True],\n",
       "       [ True],\n",
       "       [ True],\n",
       "       [ True],\n",
       "       [ True],\n",
       "       [ True],\n",
       "       [ True],\n",
       "       [ True],\n",
       "       [ True],\n",
       "       [ True],\n",
       "       [ True],\n",
       "       [ True],\n",
       "       [ True],\n",
       "       [ True],\n",
       "       [ True],\n",
       "       [ True],\n",
       "       [ True],\n",
       "       [ True],\n",
       "       [ True],\n",
       "       [ True],\n",
       "       [ True],\n",
       "       [ True],\n",
       "       [ True],\n",
       "       [ True],\n",
       "       [ True],\n",
       "       [ True],\n",
       "       [ True],\n",
       "       [ True],\n",
       "       [ True],\n",
       "       [ True],\n",
       "       [ True],\n",
       "       [ True],\n",
       "       [ True],\n",
       "       [ True],\n",
       "       [ True],\n",
       "       [ True],\n",
       "       [ True],\n",
       "       [ True],\n",
       "       [ True],\n",
       "       [ True],\n",
       "       [ True],\n",
       "       [ True],\n",
       "       [ True],\n",
       "       [ True],\n",
       "       [ True],\n",
       "       [ True],\n",
       "       [ True],\n",
       "       [ True],\n",
       "       [ True],\n",
       "       [ True],\n",
       "       [ True],\n",
       "       [ True],\n",
       "       [ True],\n",
       "       [ True],\n",
       "       [ True],\n",
       "       [ True],\n",
       "       [ True],\n",
       "       [ True],\n",
       "       [ True],\n",
       "       [ True]])"
      ]
     },
     "execution_count": 75,
     "metadata": {},
     "output_type": "execute_result"
    }
   ],
   "source": [
    "y_pred=classifier_6.predict(x_test)\n",
    "y_pred=(y_pred>0.7)\n",
    "y_pred"
   ]
  },
  {
   "cell_type": "code",
   "execution_count": 76,
   "metadata": {},
   "outputs": [
    {
     "name": "stdout",
     "output_type": "stream",
     "text": [
      "5/5 [==============================] - 0s 2ms/step - loss: -602594.6875 - accuracy: 0.0000e+00\n",
      "2/2 [==============================] - 0s 2ms/step - loss: -583528.3125 - accuracy: 0.0167\n"
     ]
    },
    {
     "data": {
      "text/plain": [
       "([-602594.6875, 0.0], [-583528.3125, 0.01666666753590107])"
      ]
     },
     "execution_count": 76,
     "metadata": {},
     "output_type": "execute_result"
    }
   ],
   "source": [
    "classifier_6.evaluate(x_train, y_train),classifier_6.evaluate(x_test, y_test)"
   ]
  },
  {
   "cell_type": "code",
   "execution_count": 77,
   "metadata": {},
   "outputs": [],
   "source": [
    "import tensorflow as tf\n",
    "\n",
    "from keras.models import Sequential\n",
    "from keras.layers import Dense\n",
    "from keras.optimizers import Adam\n",
    "from keras.callbacks import EarlyStopping\n",
    "\n",
    "import pandas as pd\n",
    "\n",
    "import sklearn\n",
    "from sklearn import preprocessing\n",
    "from sklearn.model_selection import train_test_split\n",
    "from sklearn.metrics import r2_score\n",
    "\n",
    "from matplotlib import pyplot as plt\n",
    "%matplotlib inline\n",
    "%config InlineBackend.figure_format='retina'"
   ]
  },
  {
   "cell_type": "code",
   "execution_count": 78,
   "metadata": {},
   "outputs": [],
   "source": [
    "df1 = pd.read_csv('college_datasetttx.csv')\n",
    "\n",
    "df2 = pd.read_csv('college_datasettty.csv')"
   ]
  },
  {
   "cell_type": "code",
   "execution_count": 79,
   "metadata": {},
   "outputs": [
    {
     "ename": "ValueError",
     "evalue": "Found input variables with inconsistent numbers of samples: [1000, 40]",
     "output_type": "error",
     "traceback": [
      "\u001b[1;31m---------------------------------------------------------------------------\u001b[0m",
      "\u001b[1;31mValueError\u001b[0m                                Traceback (most recent call last)",
      "\u001b[1;32m<ipython-input-79-97a7bdd33a86>\u001b[0m in \u001b[0;36m<module>\u001b[1;34m\u001b[0m\n\u001b[1;32m----> 1\u001b[1;33m \u001b[0mX_train\u001b[0m\u001b[1;33m,\u001b[0m \u001b[0mX_test\u001b[0m\u001b[1;33m,\u001b[0m \u001b[0my_train\u001b[0m\u001b[1;33m,\u001b[0m \u001b[0my_test\u001b[0m \u001b[1;33m=\u001b[0m \u001b[0mtrain_test_split\u001b[0m\u001b[1;33m(\u001b[0m\u001b[0mdf1\u001b[0m\u001b[1;33m,\u001b[0m \u001b[0mdf2\u001b[0m\u001b[1;33m,\u001b[0m \u001b[0mtest_size\u001b[0m\u001b[1;33m=\u001b[0m\u001b[1;36m0.2\u001b[0m\u001b[1;33m)\u001b[0m\u001b[1;33m\u001b[0m\u001b[1;33m\u001b[0m\u001b[0m\n\u001b[0m",
      "\u001b[1;32m~\\Anaconda3\\lib\\site-packages\\sklearn\\model_selection\\_split.py\u001b[0m in \u001b[0;36mtrain_test_split\u001b[1;34m(*arrays, **options)\u001b[0m\n\u001b[0;32m   2125\u001b[0m         \u001b[1;32mraise\u001b[0m \u001b[0mTypeError\u001b[0m\u001b[1;33m(\u001b[0m\u001b[1;34m\"Invalid parameters passed: %s\"\u001b[0m \u001b[1;33m%\u001b[0m \u001b[0mstr\u001b[0m\u001b[1;33m(\u001b[0m\u001b[0moptions\u001b[0m\u001b[1;33m)\u001b[0m\u001b[1;33m)\u001b[0m\u001b[1;33m\u001b[0m\u001b[1;33m\u001b[0m\u001b[0m\n\u001b[0;32m   2126\u001b[0m \u001b[1;33m\u001b[0m\u001b[0m\n\u001b[1;32m-> 2127\u001b[1;33m     \u001b[0marrays\u001b[0m \u001b[1;33m=\u001b[0m \u001b[0mindexable\u001b[0m\u001b[1;33m(\u001b[0m\u001b[1;33m*\u001b[0m\u001b[0marrays\u001b[0m\u001b[1;33m)\u001b[0m\u001b[1;33m\u001b[0m\u001b[1;33m\u001b[0m\u001b[0m\n\u001b[0m\u001b[0;32m   2128\u001b[0m \u001b[1;33m\u001b[0m\u001b[0m\n\u001b[0;32m   2129\u001b[0m     \u001b[0mn_samples\u001b[0m \u001b[1;33m=\u001b[0m \u001b[0m_num_samples\u001b[0m\u001b[1;33m(\u001b[0m\u001b[0marrays\u001b[0m\u001b[1;33m[\u001b[0m\u001b[1;36m0\u001b[0m\u001b[1;33m]\u001b[0m\u001b[1;33m)\u001b[0m\u001b[1;33m\u001b[0m\u001b[1;33m\u001b[0m\u001b[0m\n",
      "\u001b[1;32m~\\Anaconda3\\lib\\site-packages\\sklearn\\utils\\validation.py\u001b[0m in \u001b[0;36mindexable\u001b[1;34m(*iterables)\u001b[0m\n\u001b[0;32m    291\u001b[0m     \"\"\"\n\u001b[0;32m    292\u001b[0m     \u001b[0mresult\u001b[0m \u001b[1;33m=\u001b[0m \u001b[1;33m[\u001b[0m\u001b[0m_make_indexable\u001b[0m\u001b[1;33m(\u001b[0m\u001b[0mX\u001b[0m\u001b[1;33m)\u001b[0m \u001b[1;32mfor\u001b[0m \u001b[0mX\u001b[0m \u001b[1;32min\u001b[0m \u001b[0miterables\u001b[0m\u001b[1;33m]\u001b[0m\u001b[1;33m\u001b[0m\u001b[1;33m\u001b[0m\u001b[0m\n\u001b[1;32m--> 293\u001b[1;33m     \u001b[0mcheck_consistent_length\u001b[0m\u001b[1;33m(\u001b[0m\u001b[1;33m*\u001b[0m\u001b[0mresult\u001b[0m\u001b[1;33m)\u001b[0m\u001b[1;33m\u001b[0m\u001b[1;33m\u001b[0m\u001b[0m\n\u001b[0m\u001b[0;32m    294\u001b[0m     \u001b[1;32mreturn\u001b[0m \u001b[0mresult\u001b[0m\u001b[1;33m\u001b[0m\u001b[1;33m\u001b[0m\u001b[0m\n\u001b[0;32m    295\u001b[0m \u001b[1;33m\u001b[0m\u001b[0m\n",
      "\u001b[1;32m~\\Anaconda3\\lib\\site-packages\\sklearn\\utils\\validation.py\u001b[0m in \u001b[0;36mcheck_consistent_length\u001b[1;34m(*arrays)\u001b[0m\n\u001b[0;32m    255\u001b[0m     \u001b[1;32mif\u001b[0m \u001b[0mlen\u001b[0m\u001b[1;33m(\u001b[0m\u001b[0muniques\u001b[0m\u001b[1;33m)\u001b[0m \u001b[1;33m>\u001b[0m \u001b[1;36m1\u001b[0m\u001b[1;33m:\u001b[0m\u001b[1;33m\u001b[0m\u001b[1;33m\u001b[0m\u001b[0m\n\u001b[0;32m    256\u001b[0m         raise ValueError(\"Found input variables with inconsistent numbers of\"\n\u001b[1;32m--> 257\u001b[1;33m                          \" samples: %r\" % [int(l) for l in lengths])\n\u001b[0m\u001b[0;32m    258\u001b[0m \u001b[1;33m\u001b[0m\u001b[0m\n\u001b[0;32m    259\u001b[0m \u001b[1;33m\u001b[0m\u001b[0m\n",
      "\u001b[1;31mValueError\u001b[0m: Found input variables with inconsistent numbers of samples: [1000, 40]"
     ]
    }
   ],
   "source": [
    "X_train, X_test, y_train, y_test = train_test_split(df1, df2, test_size=0.2)"
   ]
  },
  {
   "cell_type": "code",
   "execution_count": 80,
   "metadata": {},
   "outputs": [],
   "source": [
    "df = pd.read_csv('college_datasetttx.csv')"
   ]
  },
  {
   "cell_type": "code",
   "execution_count": 81,
   "metadata": {},
   "outputs": [
    {
     "data": {
      "text/plain": [
       "(1000, 33)"
      ]
     },
     "execution_count": 81,
     "metadata": {},
     "output_type": "execute_result"
    }
   ],
   "source": [
    "df.shape"
   ]
  },
  {
   "cell_type": "code",
   "execution_count": null,
   "metadata": {},
   "outputs": [],
   "source": []
  },
  {
   "cell_type": "markdown",
   "metadata": {},
   "source": [
    "# ANN"
   ]
  },
  {
   "cell_type": "code",
   "execution_count": 148,
   "metadata": {},
   "outputs": [],
   "source": [
    "df = pd.read_csv('project_dataset.csv')"
   ]
  },
  {
   "cell_type": "code",
   "execution_count": 149,
   "metadata": {},
   "outputs": [
    {
     "data": {
      "text/plain": [
       "(200, 31)"
      ]
     },
     "execution_count": 149,
     "metadata": {},
     "output_type": "execute_result"
    }
   ],
   "source": [
    "df.shape"
   ]
  },
  {
   "cell_type": "markdown",
   "metadata": {},
   "source": []
  },
  {
   "cell_type": "code",
   "execution_count": 150,
   "metadata": {},
   "outputs": [
    {
     "data": {
      "text/plain": [
       "Index(['NIRF Rank', 'institute_id', 'College Name', 'closing rank', 'City',\n",
       "       'State/UT', 'Latitude', 'Longitude', 'score', 'link',\n",
       "       'Mode of Admission', 'Fees', 'Infrastructure', 'no. of male students',\n",
       "       'no. of female students', 'total students',\n",
       "       'Graduation outcome(max 100)', 'Outreach and inclusivity(max 100)',\n",
       "       'perception [academic peer and employers perception(max 100)]',\n",
       "       'Research, professional practice and collaborative performance(max 100)',\n",
       "       'teaching, learning and resource(max 100)', 'Academic Year',\n",
       "       'No. of first year students intake in the year',\n",
       "       'No. of first year students admitted the year', 'Academic Year in',\n",
       "       'No. of students admitted through Lateral entry', 'Academic Year.1',\n",
       "       'No. of students graduating in minimum stipulated time',\n",
       "       'No. of students placed',\n",
       "       'Median salary of placed graduates(Amount Rs.)',\n",
       "       'No. of students selected for Higher in Studies'],\n",
       "      dtype='object')"
      ]
     },
     "execution_count": 150,
     "metadata": {},
     "output_type": "execute_result"
    }
   ],
   "source": [
    "df.columns"
   ]
  },
  {
   "cell_type": "code",
   "execution_count": 151,
   "metadata": {},
   "outputs": [
    {
     "data": {
      "text/html": [
       "<div>\n",
       "<style scoped>\n",
       "    .dataframe tbody tr th:only-of-type {\n",
       "        vertical-align: middle;\n",
       "    }\n",
       "\n",
       "    .dataframe tbody tr th {\n",
       "        vertical-align: top;\n",
       "    }\n",
       "\n",
       "    .dataframe thead th {\n",
       "        text-align: right;\n",
       "    }\n",
       "</style>\n",
       "<table border=\"1\" class=\"dataframe\">\n",
       "  <thead>\n",
       "    <tr style=\"text-align: right;\">\n",
       "      <th></th>\n",
       "      <th>NIRF Rank</th>\n",
       "      <th>closing rank</th>\n",
       "      <th>Latitude</th>\n",
       "      <th>Longitude</th>\n",
       "      <th>score</th>\n",
       "      <th>Fees</th>\n",
       "      <th>Infrastructure</th>\n",
       "      <th>no. of male students</th>\n",
       "      <th>no. of female students</th>\n",
       "      <th>total students</th>\n",
       "      <th>...</th>\n",
       "      <th>perception [academic peer and employers perception(max 100)]</th>\n",
       "      <th>Research, professional practice and collaborative performance(max 100)</th>\n",
       "      <th>teaching, learning and resource(max 100)</th>\n",
       "      <th>No. of first year students intake in the year</th>\n",
       "      <th>No. of first year students admitted the year</th>\n",
       "      <th>No. of students admitted through Lateral entry</th>\n",
       "      <th>No. of students graduating in minimum stipulated time</th>\n",
       "      <th>No. of students placed</th>\n",
       "      <th>Median salary of placed graduates(Amount Rs.)</th>\n",
       "      <th>No. of students selected for Higher in Studies</th>\n",
       "    </tr>\n",
       "  </thead>\n",
       "  <tbody>\n",
       "    <tr>\n",
       "      <td>count</td>\n",
       "      <td>200.000000</td>\n",
       "      <td>2.000000e+02</td>\n",
       "      <td>200.000000</td>\n",
       "      <td>200.000000</td>\n",
       "      <td>200.000000</td>\n",
       "      <td>200.000000</td>\n",
       "      <td>200.000000</td>\n",
       "      <td>200.000000</td>\n",
       "      <td>200.000000</td>\n",
       "      <td>200.000000</td>\n",
       "      <td>...</td>\n",
       "      <td>200.000000</td>\n",
       "      <td>200.000000</td>\n",
       "      <td>200.000000</td>\n",
       "      <td>200.000000</td>\n",
       "      <td>200.000000</td>\n",
       "      <td>200.000000</td>\n",
       "      <td>200.000000</td>\n",
       "      <td>200.00000</td>\n",
       "      <td>2.000000e+02</td>\n",
       "      <td>200.000000</td>\n",
       "    </tr>\n",
       "    <tr>\n",
       "      <td>mean</td>\n",
       "      <td>100.490000</td>\n",
       "      <td>6.425589e+04</td>\n",
       "      <td>20.260253</td>\n",
       "      <td>75.581627</td>\n",
       "      <td>41.758350</td>\n",
       "      <td>6.204900</td>\n",
       "      <td>4.101500</td>\n",
       "      <td>2540.405000</td>\n",
       "      <td>954.505000</td>\n",
       "      <td>3483.470000</td>\n",
       "      <td>...</td>\n",
       "      <td>14.214650</td>\n",
       "      <td>20.307350</td>\n",
       "      <td>59.050150</td>\n",
       "      <td>846.880000</td>\n",
       "      <td>812.055000</td>\n",
       "      <td>72.955000</td>\n",
       "      <td>776.945000</td>\n",
       "      <td>541.25500</td>\n",
       "      <td>5.569061e+05</td>\n",
       "      <td>86.695000</td>\n",
       "    </tr>\n",
       "    <tr>\n",
       "      <td>std</td>\n",
       "      <td>57.870067</td>\n",
       "      <td>1.605074e+05</td>\n",
       "      <td>6.888953</td>\n",
       "      <td>23.902263</td>\n",
       "      <td>11.725059</td>\n",
       "      <td>3.683286</td>\n",
       "      <td>0.465976</td>\n",
       "      <td>2381.195209</td>\n",
       "      <td>977.574087</td>\n",
       "      <td>3120.438593</td>\n",
       "      <td>...</td>\n",
       "      <td>19.262625</td>\n",
       "      <td>19.937026</td>\n",
       "      <td>10.152778</td>\n",
       "      <td>769.306041</td>\n",
       "      <td>724.085042</td>\n",
       "      <td>90.888761</td>\n",
       "      <td>672.794735</td>\n",
       "      <td>506.96459</td>\n",
       "      <td>3.095260e+05</td>\n",
       "      <td>96.033139</td>\n",
       "    </tr>\n",
       "    <tr>\n",
       "      <td>min</td>\n",
       "      <td>1.000000</td>\n",
       "      <td>1.880000e+02</td>\n",
       "      <td>8.545851</td>\n",
       "      <td>-92.021094</td>\n",
       "      <td>31.090000</td>\n",
       "      <td>1.000000</td>\n",
       "      <td>2.300000</td>\n",
       "      <td>0.000000</td>\n",
       "      <td>12.000000</td>\n",
       "      <td>105.000000</td>\n",
       "      <td>...</td>\n",
       "      <td>0.000000</td>\n",
       "      <td>0.460000</td>\n",
       "      <td>35.510000</td>\n",
       "      <td>0.000000</td>\n",
       "      <td>0.000000</td>\n",
       "      <td>0.000000</td>\n",
       "      <td>0.000000</td>\n",
       "      <td>0.00000</td>\n",
       "      <td>0.000000e+00</td>\n",
       "      <td>0.000000</td>\n",
       "    </tr>\n",
       "    <tr>\n",
       "      <td>25%</td>\n",
       "      <td>50.750000</td>\n",
       "      <td>6.940500e+03</td>\n",
       "      <td>13.051490</td>\n",
       "      <td>76.594527</td>\n",
       "      <td>33.522500</td>\n",
       "      <td>3.320000</td>\n",
       "      <td>3.900000</td>\n",
       "      <td>1110.750000</td>\n",
       "      <td>302.250000</td>\n",
       "      <td>1555.250000</td>\n",
       "      <td>...</td>\n",
       "      <td>2.557500</td>\n",
       "      <td>5.397500</td>\n",
       "      <td>52.535000</td>\n",
       "      <td>399.500000</td>\n",
       "      <td>364.750000</td>\n",
       "      <td>0.000000</td>\n",
       "      <td>361.250000</td>\n",
       "      <td>233.00000</td>\n",
       "      <td>3.600000e+05</td>\n",
       "      <td>26.750000</td>\n",
       "    </tr>\n",
       "    <tr>\n",
       "      <td>50%</td>\n",
       "      <td>100.500000</td>\n",
       "      <td>2.262500e+04</td>\n",
       "      <td>19.638665</td>\n",
       "      <td>77.671479</td>\n",
       "      <td>37.560000</td>\n",
       "      <td>5.510000</td>\n",
       "      <td>4.200000</td>\n",
       "      <td>2286.500000</td>\n",
       "      <td>663.500000</td>\n",
       "      <td>3043.000000</td>\n",
       "      <td>...</td>\n",
       "      <td>6.650000</td>\n",
       "      <td>13.350000</td>\n",
       "      <td>57.525000</td>\n",
       "      <td>743.000000</td>\n",
       "      <td>720.000000</td>\n",
       "      <td>41.500000</td>\n",
       "      <td>693.500000</td>\n",
       "      <td>477.00000</td>\n",
       "      <td>4.240000e+05</td>\n",
       "      <td>62.000000</td>\n",
       "    </tr>\n",
       "    <tr>\n",
       "      <td>75%</td>\n",
       "      <td>150.250000</td>\n",
       "      <td>4.600000e+04</td>\n",
       "      <td>26.267202</td>\n",
       "      <td>80.107307</td>\n",
       "      <td>46.775000</td>\n",
       "      <td>8.620000</td>\n",
       "      <td>4.400000</td>\n",
       "      <td>3088.250000</td>\n",
       "      <td>1325.000000</td>\n",
       "      <td>4255.500000</td>\n",
       "      <td>...</td>\n",
       "      <td>17.790000</td>\n",
       "      <td>30.642500</td>\n",
       "      <td>64.392500</td>\n",
       "      <td>1020.000000</td>\n",
       "      <td>988.500000</td>\n",
       "      <td>130.000000</td>\n",
       "      <td>956.250000</td>\n",
       "      <td>693.75000</td>\n",
       "      <td>6.500000e+05</td>\n",
       "      <td>116.500000</td>\n",
       "    </tr>\n",
       "    <tr>\n",
       "      <td>max</td>\n",
       "      <td>200.000000</td>\n",
       "      <td>1.231790e+06</td>\n",
       "      <td>36.078100</td>\n",
       "      <td>93.912680</td>\n",
       "      <td>89.930000</td>\n",
       "      <td>16.000000</td>\n",
       "      <td>5.000000</td>\n",
       "      <td>19206.000000</td>\n",
       "      <td>7256.000000</td>\n",
       "      <td>23144.000000</td>\n",
       "      <td>...</td>\n",
       "      <td>100.000000</td>\n",
       "      <td>96.150000</td>\n",
       "      <td>95.420000</td>\n",
       "      <td>6220.000000</td>\n",
       "      <td>5260.000000</td>\n",
       "      <td>471.000000</td>\n",
       "      <td>4708.000000</td>\n",
       "      <td>4139.00000</td>\n",
       "      <td>2.000000e+06</td>\n",
       "      <td>897.000000</td>\n",
       "    </tr>\n",
       "  </tbody>\n",
       "</table>\n",
       "<p>8 rows × 22 columns</p>\n",
       "</div>"
      ],
      "text/plain": [
       "        NIRF Rank  closing rank    Latitude   Longitude       score  \\\n",
       "count  200.000000  2.000000e+02  200.000000  200.000000  200.000000   \n",
       "mean   100.490000  6.425589e+04   20.260253   75.581627   41.758350   \n",
       "std     57.870067  1.605074e+05    6.888953   23.902263   11.725059   \n",
       "min      1.000000  1.880000e+02    8.545851  -92.021094   31.090000   \n",
       "25%     50.750000  6.940500e+03   13.051490   76.594527   33.522500   \n",
       "50%    100.500000  2.262500e+04   19.638665   77.671479   37.560000   \n",
       "75%    150.250000  4.600000e+04   26.267202   80.107307   46.775000   \n",
       "max    200.000000  1.231790e+06   36.078100   93.912680   89.930000   \n",
       "\n",
       "             Fees  Infrastructure  no. of male students  \\\n",
       "count  200.000000      200.000000            200.000000   \n",
       "mean     6.204900        4.101500           2540.405000   \n",
       "std      3.683286        0.465976           2381.195209   \n",
       "min      1.000000        2.300000              0.000000   \n",
       "25%      3.320000        3.900000           1110.750000   \n",
       "50%      5.510000        4.200000           2286.500000   \n",
       "75%      8.620000        4.400000           3088.250000   \n",
       "max     16.000000        5.000000          19206.000000   \n",
       "\n",
       "       no. of female students  total students  ...  \\\n",
       "count              200.000000      200.000000  ...   \n",
       "mean               954.505000     3483.470000  ...   \n",
       "std                977.574087     3120.438593  ...   \n",
       "min                 12.000000      105.000000  ...   \n",
       "25%                302.250000     1555.250000  ...   \n",
       "50%                663.500000     3043.000000  ...   \n",
       "75%               1325.000000     4255.500000  ...   \n",
       "max               7256.000000    23144.000000  ...   \n",
       "\n",
       "       perception [academic peer and employers perception(max 100)]  \\\n",
       "count                                         200.000000              \n",
       "mean                                           14.214650              \n",
       "std                                            19.262625              \n",
       "min                                             0.000000              \n",
       "25%                                             2.557500              \n",
       "50%                                             6.650000              \n",
       "75%                                            17.790000              \n",
       "max                                           100.000000              \n",
       "\n",
       "       Research, professional practice and collaborative performance(max 100)  \\\n",
       "count                                         200.000000                        \n",
       "mean                                           20.307350                        \n",
       "std                                            19.937026                        \n",
       "min                                             0.460000                        \n",
       "25%                                             5.397500                        \n",
       "50%                                            13.350000                        \n",
       "75%                                            30.642500                        \n",
       "max                                            96.150000                        \n",
       "\n",
       "       teaching, learning and resource(max 100)  \\\n",
       "count                                200.000000   \n",
       "mean                                  59.050150   \n",
       "std                                   10.152778   \n",
       "min                                   35.510000   \n",
       "25%                                   52.535000   \n",
       "50%                                   57.525000   \n",
       "75%                                   64.392500   \n",
       "max                                   95.420000   \n",
       "\n",
       "       No. of first year students intake in the year  \\\n",
       "count                                     200.000000   \n",
       "mean                                      846.880000   \n",
       "std                                       769.306041   \n",
       "min                                         0.000000   \n",
       "25%                                       399.500000   \n",
       "50%                                       743.000000   \n",
       "75%                                      1020.000000   \n",
       "max                                      6220.000000   \n",
       "\n",
       "       No. of first year students admitted the year  \\\n",
       "count                                    200.000000   \n",
       "mean                                     812.055000   \n",
       "std                                      724.085042   \n",
       "min                                        0.000000   \n",
       "25%                                      364.750000   \n",
       "50%                                      720.000000   \n",
       "75%                                      988.500000   \n",
       "max                                     5260.000000   \n",
       "\n",
       "       No. of students admitted through Lateral entry  \\\n",
       "count                                      200.000000   \n",
       "mean                                        72.955000   \n",
       "std                                         90.888761   \n",
       "min                                          0.000000   \n",
       "25%                                          0.000000   \n",
       "50%                                         41.500000   \n",
       "75%                                        130.000000   \n",
       "max                                        471.000000   \n",
       "\n",
       "       No. of students graduating in minimum stipulated time  \\\n",
       "count                                         200.000000       \n",
       "mean                                          776.945000       \n",
       "std                                           672.794735       \n",
       "min                                             0.000000       \n",
       "25%                                           361.250000       \n",
       "50%                                           693.500000       \n",
       "75%                                           956.250000       \n",
       "max                                          4708.000000       \n",
       "\n",
       "       No. of students placed  Median salary of placed graduates(Amount Rs.)  \\\n",
       "count               200.00000                                   2.000000e+02   \n",
       "mean                541.25500                                   5.569061e+05   \n",
       "std                 506.96459                                   3.095260e+05   \n",
       "min                   0.00000                                   0.000000e+00   \n",
       "25%                 233.00000                                   3.600000e+05   \n",
       "50%                 477.00000                                   4.240000e+05   \n",
       "75%                 693.75000                                   6.500000e+05   \n",
       "max                4139.00000                                   2.000000e+06   \n",
       "\n",
       "       No. of students selected for Higher in Studies  \n",
       "count                                      200.000000  \n",
       "mean                                        86.695000  \n",
       "std                                         96.033139  \n",
       "min                                          0.000000  \n",
       "25%                                         26.750000  \n",
       "50%                                         62.000000  \n",
       "75%                                        116.500000  \n",
       "max                                        897.000000  \n",
       "\n",
       "[8 rows x 22 columns]"
      ]
     },
     "execution_count": 151,
     "metadata": {},
     "output_type": "execute_result"
    }
   ],
   "source": [
    "df.describe()"
   ]
  },
  {
   "cell_type": "code",
   "execution_count": 152,
   "metadata": {},
   "outputs": [
    {
     "name": "stdout",
     "output_type": "stream",
     "text": [
      "<class 'pandas.core.frame.DataFrame'>\n",
      "RangeIndex: 200 entries, 0 to 199\n",
      "Data columns (total 31 columns):\n",
      "NIRF Rank                                                                 200 non-null int64\n",
      "institute_id                                                              200 non-null object\n",
      "College Name                                                              200 non-null object\n",
      "closing rank                                                              200 non-null int64\n",
      "City                                                                      200 non-null object\n",
      "State/UT                                                                  200 non-null object\n",
      "Latitude                                                                  200 non-null float64\n",
      "Longitude                                                                 200 non-null float64\n",
      "score                                                                     200 non-null float64\n",
      "link                                                                      200 non-null object\n",
      "Mode of Admission                                                         200 non-null object\n",
      "Fees                                                                      200 non-null float64\n",
      "Infrastructure                                                            200 non-null float64\n",
      "no. of male students                                                      200 non-null int64\n",
      "no. of female students                                                    200 non-null int64\n",
      "total students                                                            200 non-null int64\n",
      "Graduation outcome(max 100)                                               200 non-null float64\n",
      "Outreach and inclusivity(max 100)                                         200 non-null float64\n",
      "perception [academic peer and employers perception(max 100)]              200 non-null float64\n",
      "Research, professional practice and collaborative performance(max 100)    200 non-null float64\n",
      "teaching, learning and resource(max 100)                                  200 non-null float64\n",
      "Academic Year                                                             200 non-null object\n",
      "No. of first year students intake in the year                             200 non-null int64\n",
      "No. of first year students admitted the year                              200 non-null int64\n",
      "Academic Year in                                                          200 non-null object\n",
      "No. of students admitted through Lateral entry                            200 non-null int64\n",
      "Academic Year.1                                                           200 non-null object\n",
      "No. of students graduating in minimum stipulated time                     200 non-null int64\n",
      "No. of students placed                                                    200 non-null int64\n",
      "Median salary of placed graduates(Amount Rs.)                             200 non-null int64\n",
      "No. of students selected for Higher in Studies                            200 non-null int64\n",
      "dtypes: float64(10), int64(12), object(9)\n",
      "memory usage: 48.6+ KB\n"
     ]
    }
   ],
   "source": [
    "df.info()"
   ]
  },
  {
   "cell_type": "code",
   "execution_count": 153,
   "metadata": {},
   "outputs": [],
   "source": [
    "indevar=[ 'closing rank', 'score', 'Fees', 'Infrastructure', 'no. of male students',\n",
    "       'no. of female students', 'total students',\n",
    "       'Graduation outcome(max 100)', 'Outreach and inclusivity(max 100)',\n",
    "       'perception [academic peer and employers perception(max 100)]',\n",
    "       'Research, professional practice and collaborative performance(max 100)',\n",
    "       'teaching, learning and resource(max 100)',\n",
    "       'No. of first year students intake in the year',\n",
    "       'No. of first year students admitted the year',\n",
    "       'No. of students admitted through Lateral entry', \n",
    "       'No. of students graduating in minimum stipulated time',\n",
    "       'No. of students placed',\n",
    "       'Median salary of placed graduates(Amount Rs.)',\n",
    "       'No. of students selected for Higher in Studies']"
   ]
  },
  {
   "cell_type": "code",
   "execution_count": 154,
   "metadata": {},
   "outputs": [],
   "source": [
    "df1=df[indevar]\n",
    "df2=df['NIRF Rank']"
   ]
  },
  {
   "cell_type": "code",
   "execution_count": 155,
   "metadata": {},
   "outputs": [],
   "source": [
    "X_train, X_test, y_train, y_test = train_test_split(df1, df2, test_size=0.2,random_state=42)"
   ]
  },
  {
   "cell_type": "code",
   "execution_count": 156,
   "metadata": {},
   "outputs": [],
   "source": [
    "X_train = preprocessing.scale(X_train)\n",
    "\n",
    "X_test = preprocessing.scale(X_test)"
   ]
  },
  {
   "cell_type": "code",
   "execution_count": 157,
   "metadata": {},
   "outputs": [],
   "source": [
    "df.rename(columns = {'closing rank':'closing_rank'}, inplace = True) "
   ]
  },
  {
   "cell_type": "code",
   "execution_count": 158,
   "metadata": {},
   "outputs": [],
   "source": [
    "df['closing_rank'] = df.closing_rank.astype(float)"
   ]
  },
  {
   "cell_type": "code",
   "execution_count": 159,
   "metadata": {},
   "outputs": [
    {
     "data": {
      "text/plain": [
       "(200, 31)"
      ]
     },
     "execution_count": 159,
     "metadata": {},
     "output_type": "execute_result"
    }
   ],
   "source": [
    "df.shape"
   ]
  },
  {
   "cell_type": "code",
   "execution_count": 160,
   "metadata": {},
   "outputs": [
    {
     "data": {
      "text/plain": [
       "0         188.0\n",
       "1       19971.0\n",
       "2      439270.0\n",
       "3       25607.0\n",
       "4        6768.0\n",
       "         ...   \n",
       "195     77708.0\n",
       "196     58361.0\n",
       "197     19964.0\n",
       "198       232.0\n",
       "199     62275.0\n",
       "Name: closing_rank, Length: 200, dtype: float64"
      ]
     },
     "execution_count": 160,
     "metadata": {},
     "output_type": "execute_result"
    }
   ],
   "source": [
    "df['closing_rank']"
   ]
  },
  {
   "cell_type": "code",
   "execution_count": 162,
   "metadata": {},
   "outputs": [
    {
     "data": {
      "image/png": "[encoded data removed]",
      "text/plain": [
       "<Figure size 432x288 with 1 Axes>"
      ]
     },
     "metadata": {
      "image/png": {
       "height": 248,
       "width": 401
      },
      "needs_background": "light"
     },
     "output_type": "display_data"
    },
    {
     "data": {
      "image/png": "[encoded data removed]",
      "text/plain": [
       "<Figure size 432x288 with 1 Axes>"
      ]
     },
     "metadata": {
      "image/png": {
       "height": 258,
       "width": 372
      },
      "needs_background": "light"
     },
     "output_type": "display_data"
    },
    {
     "data": {
      "image/png": "[encoded data removed]",
      "text/plain": [
       "<Figure size 432x288 with 1 Axes>"
      ]
     },
     "metadata": {
      "image/png": {
       "height": 258,
       "width": 362
      },
      "needs_background": "light"
     },
     "output_type": "display_data"
    }
   ],
   "source": [
    "LR = [100,1000,10000]\n",
    "\n",
    "for i in LR:\n",
    "    #Defines linear regression model and its structure\n",
    "    model = Sequential()\n",
    "    model.add(Dense(1, input_shape=(19,)))\n",
    "    \n",
    "    #Compiles model\n",
    "    model.compile(Adam(lr=i), 'mean_squared_error')\n",
    "    \n",
    "    #Fits model\n",
    "    history = model.fit(X_train, y_train, epochs = 500, validation_split = 0.1,verbose = 0)\n",
    "    history_dict=history.history\n",
    "    \n",
    "    #Plots model's training cost/loss and model's validation split cost/loss\n",
    "    loss_values = history_dict['loss']\n",
    "    val_loss_values=history_dict['val_loss']\n",
    "    plt.figure()\n",
    "    plt.plot(loss_values,'bo',label='training loss')\n",
    "    plt.plot(val_loss_values,'r',label='val training loss')"
   ]
  },
  {
   "cell_type": "code",
   "execution_count": 163,
   "metadata": {},
   "outputs": [
    {
     "data": {
      "text/plain": [
       "[<matplotlib.lines.Line2D at 0x2ca1be7fc48>]"
      ]
     },
     "execution_count": 163,
     "metadata": {},
     "output_type": "execute_result"
    },
    {
     "data": {
      "image/png": "[encoded data removed]",
      "text/plain": [
       "<Figure size 432x288 with 1 Axes>"
      ]
     },
     "metadata": {
      "image/png": {
       "height": 258,
       "width": 378
      },
      "needs_background": "light"
     },
     "output_type": "display_data"
    }
   ],
   "source": [
    "model = Sequential()\n",
    "model.add(Dense(1, input_shape=(19,), activation = 'relu'))\n",
    "model.compile(Adam(lr=10000), 'mean_squared_error')\n",
    "history = model.fit(X_train, y_train, epochs = 500, validation_split = 0.1,verbose = 0)\n",
    "\n",
    "history_dict=history.history\n",
    "loss_values = history_dict['loss']\n",
    "val_loss_values=history_dict['val_loss']\n",
    "plt.plot(loss_values,'bo',label='training loss')\n",
    "plt.plot(val_loss_values,'r',label='training loss val')"
   ]
  },
  {
   "cell_type": "code",
   "execution_count": 164,
   "metadata": {},
   "outputs": [
    {
     "name": "stdout",
     "output_type": "stream",
     "text": [
      "The R2 score on the Train set is:\t-374.289\n",
      "The R2 score on the Test set is:\t-3.137\n"
     ]
    }
   ],
   "source": [
    "y_train_pred = model.predict(X_train)\n",
    "y_test_pred = model.predict(X_test)\n",
    "\n",
    "# Calculates and prints r2 score of training and testing data\n",
    "print(\"The R2 score on the Train set is:\\t{:0.3f}\".format(r2_score(y_train, y_train_pred)))\n",
    "print(\"The R2 score on the Test set is:\\t{:0.3f}\".format(r2_score(y_test, y_test_pred)))"
   ]
  },
  {
   "cell_type": "code",
   "execution_count": 165,
   "metadata": {},
   "outputs": [],
   "source": [
    "model = Sequential()\n",
    "model.add(Dense(13, input_shape=(19,), activation='relu'))\n",
    "model.add(Dense(13, activation='relu'))\n",
    "model.add(Dense(13, activation='relu'))\n",
    "model.add(Dense(13, activation='relu'))\n",
    "model.add(Dense(13, activation='relu'))\n",
    "model.add(Dense(1,))\n",
    "model.compile(Adam(lr=0.003), 'mean_squared_error')"
   ]
  },
  {
   "cell_type": "code",
   "execution_count": 166,
   "metadata": {},
   "outputs": [],
   "source": [
    "history = model.fit(X_train, y_train, epochs = 6000, validation_split = 0.2, verbose = 0)"
   ]
  },
  {
   "cell_type": "code",
   "execution_count": 167,
   "metadata": {},
   "outputs": [
    {
     "data": {
      "text/plain": [
       "[<matplotlib.lines.Line2D at 0x2ca1d4f6448>]"
      ]
     },
     "execution_count": 167,
     "metadata": {},
     "output_type": "execute_result"
    },
    {
     "data": {
      "image/png": "[encoded data removed]",
      "text/plain": [
       "<Figure size 432x288 with 1 Axes>"
      ]
     },
     "metadata": {
      "image/png": {
       "height": 248,
       "width": 388
      },
      "needs_background": "light"
     },
     "output_type": "display_data"
    }
   ],
   "source": [
    "history_dict=history.history\n",
    "loss_values = history_dict['loss']\n",
    "val_loss_values=history_dict['val_loss']\n",
    "plt.plot(loss_values,'bo',label='training loss')\n",
    "plt.plot(val_loss_values,'r',label='training loss val')"
   ]
  },
  {
   "cell_type": "code",
   "execution_count": 168,
   "metadata": {},
   "outputs": [
    {
     "name": "stdout",
     "output_type": "stream",
     "text": [
      "Epoch 00155: early stopping\n",
      "The R2 score on the Train set is:\t0.984\n",
      "The R2 score on the Test set is:\t0.939\n"
     ]
    },
    {
     "data": {
      "image/png": "[encoded data removed]",
      "text/plain": [
       "<Figure size 432x288 with 1 Axes>"
      ]
     },
     "metadata": {
      "image/png": {
       "height": 248,
       "width": 394
      },
      "needs_background": "light"
     },
     "output_type": "display_data"
    }
   ],
   "source": [
    "# Defines \"deep\" model and its structure\n",
    "model = Sequential()\n",
    "model.add(Dense(13, input_shape=(19,), activation='relu'))\n",
    "model.add(Dense(13, activation='relu'))\n",
    "model.add(Dense(13, activation='relu'))\n",
    "model.add(Dense(13, activation='relu'))\n",
    "model.add(Dense(13, activation='relu'))\n",
    "model.add(Dense(1,))\n",
    "model.compile(Adam(lr=0.003), 'mean_squared_error')\n",
    "\n",
    "# Pass several parameters to 'EarlyStopping' function and assigns it to 'earlystopper'\n",
    "earlystopper = EarlyStopping(monitor='val_loss', min_delta=0, patience=15, verbose=1, mode='auto')\n",
    "\n",
    "# Fits model over 2000 iterations with 'earlystopper' callback, and assigns it to history\n",
    "history = model.fit(X_train, y_train, epochs = 2000, validation_split = 0.2,shuffle = True, verbose = 0, \n",
    "                    callbacks = [earlystopper])\n",
    "\n",
    "# Plots 'history'\n",
    "history_dict=history.history\n",
    "loss_values = history_dict['loss']\n",
    "val_loss_values=history_dict['val_loss']\n",
    "plt.plot(loss_values,'bo',label='training loss')\n",
    "plt.plot(val_loss_values,'r',label='training loss val')\n",
    "\n",
    "# Runs model with its current weights on the training and testing data\n",
    "y_train_pred = model.predict(X_train)\n",
    "y_test_pred = model.predict(X_test)\n",
    "\n",
    "# Calculates and prints r2 score of training and testing data\n",
    "print(\"The R2 score on the Train set is:\\t{:0.3f}\".format(r2_score(y_train, y_train_pred)))\n",
    "print(\"The R2 score on the Test set is:\\t{:0.3f}\".format(r2_score(y_test, y_test_pred)))"
   ]
  },
  {
   "cell_type": "code",
   "execution_count": 169,
   "metadata": {},
   "outputs": [
    {
     "data": {
      "image/png": "[encoded data removed]",
      "text/plain": [
       "<Figure size 432x288 with 1 Axes>"
      ]
     },
     "metadata": {
      "image/png": {
       "height": 250,
       "width": 375
      },
      "needs_background": "light"
     },
     "output_type": "display_data"
    },
    {
     "data": {
      "image/png": "[encoded data removed]",
      "text/plain": [
       "<Figure size 432x288 with 1 Axes>"
      ]
     },
     "metadata": {
      "image/png": {
       "height": 248,
       "width": 372
      },
      "needs_background": "light"
     },
     "output_type": "display_data"
    }
   ],
   "source": [
    "plt.plot(y_train, y_train_pred,'*r')\n",
    "plt.plot(y_test, y_test_pred, '*g')\n",
    "plt.figure()\n",
    "for i in range(0,140):\n",
    "    plt.plot(i/100,i/100,'*b')"
   ]
  },
  {
   "cell_type": "code",
   "execution_count": null,
   "metadata": {},
   "outputs": [],
   "source": []
  },
  {
   "cell_type": "code",
   "execution_count": null,
   "metadata": {},
   "outputs": [],
   "source": []
  }
 ],
 "metadata": {
  "kernelspec": {
   "display_name": "Python 3",
   "language": "python",
   "name": "python3"
  },
  "language_info": {
   "codemirror_mode": {
    "name": "ipython",
    "version": 3
   },
   "file_extension": ".py",
   "mimetype": "text/x-python",
   "name": "python",
   "nbconvert_exporter": "python",
   "pygments_lexer": "ipython3",
   "version": "3.7.4"
  }
 },
 "nbformat": 4,
 "nbformat_minor": 2
}
